{
 "cells": [
  {
   "cell_type": "markdown",
   "metadata": {
    "editable": false,
    "id": "9655b688"
   },
   "source": [
    "# Problem Statement\n",
    "\n",
    "As a senior ML Engineer, you are asked to build a model that will improve the recommendations given to the users given their past reviews and ratings. \n",
    "\n",
    " \n",
    "\n",
    "In order to do this, you planned to build a sentiment-based product recommendation system, which includes the following tasks.\n",
    "- Data sourcing and sentiment analysis\n",
    "- Building a recommendation system\n",
    "- Improving the recommendations using the sentiment analysis model\n",
    "- Deploying the end-to-end project with a user interface"
   ]
  },
  {
   "cell_type": "markdown",
   "metadata": {
    "editable": false,
    "id": "5e7aa0fc"
   },
   "source": [
    "## Pipeline that needs to be performed\n",
    "\n",
    "1. Data loading\n",
    "\n",
    "2. Data cleaning and EDA\n",
    "\n",
    "3. Text Preprocessing\n",
    "\n",
    "4. Feature extraction\n",
    "\n",
    "5. Model building using supervised learning\n",
    "\n",
    "6. Building a recommendation System\n",
    "\n",
    "7. Improving the recommendations using the sentiment analysis model\n",
    "\n",
    "8. Deployment of this end to end project with a user interface using Flaskapi and Heroku"
   ]
  },
  {
   "cell_type": "code",
   "execution_count": 1,
   "metadata": {
    "editable": false,
    "execution": {
     "iopub.execute_input": "2022-07-19T03:00:29.184818Z",
     "iopub.status.busy": "2022-07-19T03:00:29.184271Z",
     "iopub.status.idle": "2022-07-19T03:00:29.205904Z",
     "shell.execute_reply": "2022-07-19T03:00:29.204924Z",
     "shell.execute_reply.started": "2022-07-19T03:00:29.184698Z"
    },
    "executionInfo": {
     "elapsed": 21043,
     "status": "ok",
     "timestamp": 1657731189718,
     "user": {
      "displayName": "arpit doshi",
      "userId": "11953983124721783861"
     },
     "user_tz": -330
    },
    "id": "coG0IpgXgBB2",
    "outputId": "76ae032b-b5fe-4836-b880-52d589e9fd3b"
   },
   "outputs": [],
   "source": [
    "# from google.colab import drive\n",
    "# drive.mount('/content/drive')"
   ]
  },
  {
   "cell_type": "code",
   "execution_count": 2,
   "metadata": {
    "editable": false,
    "execution": {
     "iopub.execute_input": "2022-07-19T03:00:29.208161Z",
     "iopub.status.busy": "2022-07-19T03:00:29.207558Z",
     "iopub.status.idle": "2022-07-19T03:01:07.830788Z",
     "shell.execute_reply": "2022-07-19T03:01:07.829323Z",
     "shell.execute_reply.started": "2022-07-19T03:00:29.208127Z"
    },
    "executionInfo": {
     "elapsed": 13139,
     "status": "ok",
     "timestamp": 1657731202850,
     "user": {
      "displayName": "arpit doshi",
      "userId": "11953983124721783861"
     },
     "user_tz": -330
    },
    "id": "2ebb0ea0",
    "outputId": "a23c8c57-ab31-4270-f885-3a91e8a3f3f0"
   },
   "outputs": [],
   "source": [
    "!pip install wordcloud\n",
    "!pip install swifter\n",
    "!pip install textblob\n",
    "!pip install imblearn"
   ]
  },
  {
   "cell_type": "code",
   "execution_count": 3,
   "metadata": {
    "editable": false,
    "execution": {
     "iopub.execute_input": "2022-07-19T03:01:07.833253Z",
     "iopub.status.busy": "2022-07-19T03:01:07.832752Z",
     "iopub.status.idle": "2022-07-19T03:01:11.683698Z",
     "shell.execute_reply": "2022-07-19T03:01:11.682767Z",
     "shell.execute_reply.started": "2022-07-19T03:01:07.833217Z"
    },
    "executionInfo": {
     "elapsed": 4386,
     "status": "ok",
     "timestamp": 1657731207221,
     "user": {
      "displayName": "arpit doshi",
      "userId": "11953983124721783861"
     },
     "user_tz": -330
    },
    "id": "1ad01636",
    "outputId": "2aced093-7631-43d5-fded-37654a9870fe"
   },
   "outputs": [],
   "source": [
    "# import required libraries\n",
    "\n",
    "import pandas as pd,numpy as np\n",
    "from numpy import *\n",
    "pd.set_option('max_rows',100)\n",
    "pd.set_option('max_columns',50)\n",
    "pd.options.display.max_colwidth = 80\n",
    "\n",
    "import os\n",
    "from pprint import pprint\n",
    "import warnings\n",
    "warnings.filterwarnings('ignore')\n",
    "\n",
    "import matplotlib.pyplot as plt,seaborn as sns\n",
    "%matplotlib inline\n",
    "\n",
    "# libraries for text processing\n",
    "import string,re,swifter #swifter for faster processing of fucntion on pandas datafrane.\n",
    "from textblob import TextBlob\n",
    "from collections import Counter\n",
    "from imblearn.over_sampling import SMOTE\n",
    "import nltk\n",
    "nltk.download('stopwords')\n",
    "from nltk.corpus import stopwords,wordnet\n",
    "from nltk.stem import WordNetLemmatizer\n",
    "from nltk.tokenize import word_tokenize\n",
    "nltk.download('punkt')\n",
    "nltk.download('wordnet')\n",
    "nltk.download('tagsets')\n",
    "nltk.download('averaged_perceptron_tagger')\n",
    "nltk.download('omw-1.4')\n",
    "from nltk import FreqDist\n",
    "from wordcloud import WordCloud,STOPWORDS\n",
    "\n",
    "from sklearn.feature_extraction.text import CountVectorizer, TfidfVectorizer , TfidfTransformer\n",
    "from sklearn.preprocessing import MinMaxScaler\n",
    "from sklearn.model_selection import train_test_split,GridSearchCV,RandomizedSearchCV\n",
    "from sklearn.tree import DecisionTreeClassifier\n",
    "import time,pickle\n",
    "from sklearn.linear_model import LogisticRegression\n",
    "from sklearn.ensemble import RandomForestClassifier\n",
    "from sklearn.naive_bayes import MultinomialNB\n",
    "import xgboost as xgb\n",
    "from sklearn import metrics\n",
    "from sklearn.metrics import classification_report,confusion_matrix\n",
    "from sklearn.metrics.pairwise import pairwise_distances,cosine_similarity"
   ]
  },
  {
   "cell_type": "markdown",
   "metadata": {
    "editable": false,
    "id": "3ede86b1"
   },
   "source": [
    "#  1. Data loading"
   ]
  },
  {
   "cell_type": "code",
   "execution_count": 4,
   "metadata": {
    "editable": false,
    "execution": {
     "iopub.execute_input": "2022-07-19T03:01:11.688723Z",
     "iopub.status.busy": "2022-07-19T03:01:11.688203Z",
     "iopub.status.idle": "2022-07-19T03:01:12.169594Z",
     "shell.execute_reply": "2022-07-19T03:01:12.167846Z",
     "shell.execute_reply.started": "2022-07-19T03:01:11.688669Z"
    },
    "executionInfo": {
     "elapsed": 989,
     "status": "ok",
     "timestamp": 1657731208202,
     "user": {
      "displayName": "arpit doshi",
      "userId": "11953983124721783861"
     },
     "user_tz": -330
    },
    "id": "e14a4869",
    "outputId": "9cb116ea-ec3e-4f95-9292-ec89d1f5fdeb"
   },
   "outputs": [],
   "source": [
    "#import required libraries\n",
    "data  = pd.read_csv(r'../input/reviews-ratings/dataset.csv')\n",
    "\n",
    "#dimension of the dataframe \n",
    "print('dataframe has {} rows and {} columns'.format(str(data.shape[0]),str(data.shape[1])))"
   ]
  },
  {
   "cell_type": "code",
   "execution_count": 5,
   "metadata": {
    "editable": false,
    "execution": {
     "iopub.execute_input": "2022-07-19T03:01:12.171345Z",
     "iopub.status.busy": "2022-07-19T03:01:12.171045Z",
     "iopub.status.idle": "2022-07-19T03:01:12.177407Z",
     "shell.execute_reply": "2022-07-19T03:01:12.176219Z",
     "shell.execute_reply.started": "2022-07-19T03:01:12.171317Z"
    },
    "executionInfo": {
     "elapsed": 21,
     "status": "ok",
     "timestamp": 1657731208204,
     "user": {
      "displayName": "arpit doshi",
      "userId": "11953983124721783861"
     },
     "user_tz": -330
    },
    "id": "f141cd77",
    "outputId": "d5d2fe63-7670-4c17-9da7-97efead53506"
   },
   "outputs": [],
   "source": [
    "#print the column names\n",
    "for i,col in enumerate(data.columns.to_list()):\n",
    "  print(i, ' --> ',col)"
   ]
  },
  {
   "cell_type": "code",
   "execution_count": 6,
   "metadata": {
    "editable": false,
    "execution": {
     "iopub.execute_input": "2022-07-19T03:01:12.179373Z",
     "iopub.status.busy": "2022-07-19T03:01:12.178954Z",
     "iopub.status.idle": "2022-07-19T03:01:12.217703Z",
     "shell.execute_reply": "2022-07-19T03:01:12.216768Z",
     "shell.execute_reply.started": "2022-07-19T03:01:12.179328Z"
    },
    "executionInfo": {
     "elapsed": 932,
     "status": "ok",
     "timestamp": 1657731209120,
     "user": {
      "displayName": "arpit doshi",
      "userId": "11953983124721783861"
     },
     "user_tz": -330
    },
    "id": "f45a922d",
    "outputId": "e5f1bfd1-1aed-429f-d7cb-96041ee7c3c5"
   },
   "outputs": [],
   "source": [
    "data.sample(n=10)"
   ]
  },
  {
   "cell_type": "code",
   "execution_count": 7,
   "metadata": {
    "editable": false,
    "execution": {
     "iopub.execute_input": "2022-07-19T03:01:12.219614Z",
     "iopub.status.busy": "2022-07-19T03:01:12.219254Z",
     "iopub.status.idle": "2022-07-19T03:01:12.267241Z",
     "shell.execute_reply": "2022-07-19T03:01:12.266122Z",
     "shell.execute_reply.started": "2022-07-19T03:01:12.219580Z"
    },
    "executionInfo": {
     "elapsed": 107,
     "status": "ok",
     "timestamp": 1657731209138,
     "user": {
      "displayName": "arpit doshi",
      "userId": "11953983124721783861"
     },
     "user_tz": -330
    },
    "id": "5620b462",
    "outputId": "ff8e4084-2ad1-4477-cf52-89ae1e4ee7b4"
   },
   "outputs": [],
   "source": [
    "data.info(verbose=True)"
   ]
  },
  {
   "cell_type": "code",
   "execution_count": 8,
   "metadata": {
    "editable": false,
    "execution": {
     "iopub.execute_input": "2022-07-19T03:01:12.269081Z",
     "iopub.status.busy": "2022-07-19T03:01:12.268763Z",
     "iopub.status.idle": "2022-07-19T03:01:12.355206Z",
     "shell.execute_reply": "2022-07-19T03:01:12.354079Z",
     "shell.execute_reply.started": "2022-07-19T03:01:12.269052Z"
    },
    "executionInfo": {
     "elapsed": 103,
     "status": "ok",
     "timestamp": 1657731209141,
     "user": {
      "displayName": "arpit doshi",
      "userId": "11953983124721783861"
     },
     "user_tz": -330
    },
    "id": "d76705b8",
    "outputId": "d46e62fe-45a5-44b5-91a3-e6a73f723f40"
   },
   "outputs": [],
   "source": [
    "#check for any duplicates\n",
    "data.drop_duplicates(inplace=True)\n",
    "data.shape"
   ]
  },
  {
   "cell_type": "markdown",
   "metadata": {
    "editable": false,
    "id": "c689d28c"
   },
   "source": [
    "# 2. Data cleaning and EDA"
   ]
  },
  {
   "cell_type": "code",
   "execution_count": 9,
   "metadata": {
    "editable": false,
    "execution": {
     "iopub.execute_input": "2022-07-19T03:01:12.357606Z",
     "iopub.status.busy": "2022-07-19T03:01:12.356623Z",
     "iopub.status.idle": "2022-07-19T03:01:12.362598Z",
     "shell.execute_reply": "2022-07-19T03:01:12.361454Z",
     "shell.execute_reply.started": "2022-07-19T03:01:12.357571Z"
    },
    "executionInfo": {
     "elapsed": 97,
     "status": "ok",
     "timestamp": 1657731209142,
     "user": {
      "displayName": "arpit doshi",
      "userId": "11953983124721783861"
     },
     "user_tz": -330
    },
    "id": "6e428f0e"
   },
   "outputs": [],
   "source": [
    "#check the NaN values in all columns\n",
    "def checkNaNvalues(df):\n",
    "    return round(100*(df.isnull().sum()/len(df.index)), 2)"
   ]
  },
  {
   "cell_type": "code",
   "execution_count": 10,
   "metadata": {
    "editable": false,
    "execution": {
     "iopub.execute_input": "2022-07-19T03:01:12.367005Z",
     "iopub.status.busy": "2022-07-19T03:01:12.366636Z",
     "iopub.status.idle": "2022-07-19T03:01:12.402244Z",
     "shell.execute_reply": "2022-07-19T03:01:12.401105Z",
     "shell.execute_reply.started": "2022-07-19T03:01:12.366974Z"
    },
    "executionInfo": {
     "elapsed": 98,
     "status": "ok",
     "timestamp": 1657731209144,
     "user": {
      "displayName": "arpit doshi",
      "userId": "11953983124721783861"
     },
     "user_tz": -330
    },
    "id": "38e328f5",
    "outputId": "eb14a06a-17c6-4bf0-9e84-088444a4ef3a"
   },
   "outputs": [],
   "source": [
    "checkNaNvalues(data)"
   ]
  },
  {
   "cell_type": "markdown",
   "metadata": {
    "editable": false,
    "id": "63508675"
   },
   "source": [
    "we can see that more than 90% of records are null in reviews_userCity and reviews_userProvince columns so it is better to drop these two columns"
   ]
  },
  {
   "cell_type": "code",
   "execution_count": 11,
   "metadata": {
    "editable": false,
    "execution": {
     "iopub.execute_input": "2022-07-19T03:01:12.405021Z",
     "iopub.status.busy": "2022-07-19T03:01:12.403776Z",
     "iopub.status.idle": "2022-07-19T03:01:12.419594Z",
     "shell.execute_reply": "2022-07-19T03:01:12.418671Z",
     "shell.execute_reply.started": "2022-07-19T03:01:12.404972Z"
    },
    "executionInfo": {
     "elapsed": 84,
     "status": "ok",
     "timestamp": 1657731209145,
     "user": {
      "displayName": "arpit doshi",
      "userId": "11953983124721783861"
     },
     "user_tz": -330
    },
    "id": "a736e174",
    "outputId": "ec2a77e3-6921-43a2-f4a6-1e2dfa4c3015"
   },
   "outputs": [],
   "source": [
    "data.drop(columns=['reviews_userCity','reviews_userProvince'],inplace=True)\n",
    "data.shape"
   ]
  },
  {
   "cell_type": "code",
   "execution_count": 12,
   "metadata": {
    "editable": false,
    "execution": {
     "iopub.execute_input": "2022-07-19T03:01:12.421519Z",
     "iopub.status.busy": "2022-07-19T03:01:12.421179Z",
     "iopub.status.idle": "2022-07-19T03:01:12.431994Z",
     "shell.execute_reply": "2022-07-19T03:01:12.430745Z",
     "shell.execute_reply.started": "2022-07-19T03:01:12.421490Z"
    },
    "executionInfo": {
     "elapsed": 79,
     "status": "ok",
     "timestamp": 1657731209147,
     "user": {
      "displayName": "arpit doshi",
      "userId": "11953983124721783861"
     },
     "user_tz": -330
    },
    "id": "c39ef68c",
    "outputId": "87f7f7f0-42f5-40af-a01a-2048a27c7030"
   },
   "outputs": [],
   "source": [
    "#check the rating distribution in percentage\n",
    "round(100*data.reviews_rating.value_counts()/len(data.reviews_rating.index),2)"
   ]
  },
  {
   "cell_type": "code",
   "execution_count": 13,
   "metadata": {
    "editable": false,
    "execution": {
     "iopub.execute_input": "2022-07-19T03:01:12.433846Z",
     "iopub.status.busy": "2022-07-19T03:01:12.433453Z",
     "iopub.status.idle": "2022-07-19T03:01:12.649255Z",
     "shell.execute_reply": "2022-07-19T03:01:12.648112Z",
     "shell.execute_reply.started": "2022-07-19T03:01:12.433813Z"
    },
    "executionInfo": {
     "elapsed": 70,
     "status": "ok",
     "timestamp": 1657731209148,
     "user": {
      "displayName": "arpit doshi",
      "userId": "11953983124721783861"
     },
     "user_tz": -330
    },
    "id": "19b00fde",
    "outputId": "c13791f8-9f6e-4798-a6aa-dc6d8c92ed7d"
   },
   "outputs": [],
   "source": [
    "#plot distribution of reviews rating-wise\n",
    "plt.figure(figsize=(8,5))\n",
    "ax = sns.countplot(x='reviews_rating', data=data)"
   ]
  },
  {
   "cell_type": "code",
   "execution_count": 14,
   "metadata": {
    "editable": false,
    "execution": {
     "iopub.execute_input": "2022-07-19T03:01:12.651708Z",
     "iopub.status.busy": "2022-07-19T03:01:12.651212Z",
     "iopub.status.idle": "2022-07-19T03:01:12.668690Z",
     "shell.execute_reply": "2022-07-19T03:01:12.667398Z",
     "shell.execute_reply.started": "2022-07-19T03:01:12.651644Z"
    },
    "executionInfo": {
     "elapsed": 68,
     "status": "ok",
     "timestamp": 1657731209150,
     "user": {
      "displayName": "arpit doshi",
      "userId": "11953983124721783861"
     },
     "user_tz": -330
    },
    "id": "71baa76b",
    "outputId": "7193aa04-2ec5-411a-a8fc-33b465489bd5"
   },
   "outputs": [],
   "source": [
    "#let's check the distribution of the user sentiments for all reviews\n",
    "#distribution of user sentiments in percentage\n",
    "for i in range(len(data.user_sentiment.value_counts().to_list())):\n",
    "    print(data.user_sentiment.value_counts().index[i] + ' user sentiments across all reviews are {0}'.format(round(100*data.user_sentiment.value_counts()[i]/len(data.user_sentiment.index),2))+'%')"
   ]
  },
  {
   "cell_type": "code",
   "execution_count": 15,
   "metadata": {
    "editable": false,
    "execution": {
     "iopub.execute_input": "2022-07-19T03:01:12.670704Z",
     "iopub.status.busy": "2022-07-19T03:01:12.670250Z",
     "iopub.status.idle": "2022-07-19T03:01:12.846547Z",
     "shell.execute_reply": "2022-07-19T03:01:12.845398Z",
     "shell.execute_reply.started": "2022-07-19T03:01:12.670640Z"
    },
    "executionInfo": {
     "elapsed": 62,
     "status": "ok",
     "timestamp": 1657731209151,
     "user": {
      "displayName": "arpit doshi",
      "userId": "11953983124721783861"
     },
     "user_tz": -330
    },
    "id": "7a183f99",
    "outputId": "fe788621-60a1-44e8-b327-5fbe601ec0f4"
   },
   "outputs": [],
   "source": [
    "##plot the distribution of user sentiments using countplot\n",
    "plt.figure(figsize=(8,5))\n",
    "ax = sns.countplot(x='user_sentiment', data=data)"
   ]
  },
  {
   "cell_type": "markdown",
   "metadata": {
    "editable": false,
    "id": "a0744a49"
   },
   "source": [
    "88% user have given positive reviews for the products of various categories."
   ]
  },
  {
   "cell_type": "code",
   "execution_count": 16,
   "metadata": {
    "editable": false,
    "execution": {
     "iopub.execute_input": "2022-07-19T03:01:12.848276Z",
     "iopub.status.busy": "2022-07-19T03:01:12.847953Z",
     "iopub.status.idle": "2022-07-19T03:01:13.094699Z",
     "shell.execute_reply": "2022-07-19T03:01:13.093496Z",
     "shell.execute_reply.started": "2022-07-19T03:01:12.848248Z"
    },
    "executionInfo": {
     "elapsed": 1329,
     "status": "ok",
     "timestamp": 1657731210420,
     "user": {
      "displayName": "arpit doshi",
      "userId": "11953983124721783861"
     },
     "user_tz": -330
    },
    "id": "75f6deb1",
    "outputId": "7a6c4364-8117-4c52-bcc0-a819cb77ce8f"
   },
   "outputs": [],
   "source": [
    "#plot the distribution of user sentiments rating wise\n",
    "plt.figure(figsize=(10,8))\n",
    "ax = sns.countplot(x=\"user_sentiment\",\n",
    "                hue=\"reviews_rating\",\n",
    "                data=data);\n",
    "ax.legend(loc = 'upper right')"
   ]
  },
  {
   "cell_type": "markdown",
   "metadata": {
    "editable": false,
    "id": "6684b869"
   },
   "source": [
    "it is clear that distribution of rating is not same for both positive and negative sentiments. This is clear case of class imbalance which we need to handle.\n",
    "We can also see that user sentiment is positive but he has given less than 3 rating and we also can see that some user sentiments are negative but they have given rating of more than 3.It can also be proved using below data"
   ]
  },
  {
   "cell_type": "code",
   "execution_count": 17,
   "metadata": {
    "editable": false,
    "execution": {
     "iopub.execute_input": "2022-07-19T03:01:13.096448Z",
     "iopub.status.busy": "2022-07-19T03:01:13.096120Z",
     "iopub.status.idle": "2022-07-19T03:01:13.112064Z",
     "shell.execute_reply": "2022-07-19T03:01:13.110900Z",
     "shell.execute_reply.started": "2022-07-19T03:01:13.096417Z"
    },
    "executionInfo": {
     "elapsed": 273,
     "status": "ok",
     "timestamp": 1657731210421,
     "user": {
      "displayName": "arpit doshi",
      "userId": "11953983124721783861"
     },
     "user_tz": -330
    },
    "id": "7602b447",
    "outputId": "8ae7cc4f-95c0-4f5c-d660-ab6a9e31d1f1"
   },
   "outputs": [],
   "source": [
    "data.groupby(['user_sentiment','reviews_rating'])['user_sentiment'].count()"
   ]
  },
  {
   "cell_type": "code",
   "execution_count": 18,
   "metadata": {
    "editable": false,
    "execution": {
     "iopub.execute_input": "2022-07-19T03:01:13.114620Z",
     "iopub.status.busy": "2022-07-19T03:01:13.113692Z",
     "iopub.status.idle": "2022-07-19T03:01:13.174925Z",
     "shell.execute_reply": "2022-07-19T03:01:13.173701Z",
     "shell.execute_reply.started": "2022-07-19T03:01:13.114580Z"
    },
    "executionInfo": {
     "elapsed": 265,
     "status": "ok",
     "timestamp": 1657731210423,
     "user": {
      "displayName": "arpit doshi",
      "userId": "11953983124721783861"
     },
     "user_tz": -330
    },
    "id": "8cf50077",
    "outputId": "a51e8946-4add-441a-cb64-b4c47a8fafbe"
   },
   "outputs": [],
   "source": [
    "#create a crosstable to see the ratings given for both user sentiment\n",
    "pd.crosstab(data.user_sentiment,data.reviews_rating,margins=True)"
   ]
  },
  {
   "cell_type": "markdown",
   "metadata": {
    "editable": false,
    "id": "d375c73f"
   },
   "source": [
    "we can correct this abnormality by giving positive sentiment for all reviews where rating was greater than 3 and negative sentiment where rating was less than 3"
   ]
  },
  {
   "cell_type": "code",
   "execution_count": 19,
   "metadata": {
    "editable": false,
    "execution": {
     "iopub.execute_input": "2022-07-19T03:01:13.176631Z",
     "iopub.status.busy": "2022-07-19T03:01:13.176304Z",
     "iopub.status.idle": "2022-07-19T03:01:13.191152Z",
     "shell.execute_reply": "2022-07-19T03:01:13.190044Z",
     "shell.execute_reply.started": "2022-07-19T03:01:13.176602Z"
    },
    "executionInfo": {
     "elapsed": 254,
     "status": "ok",
     "timestamp": 1657731210425,
     "user": {
      "displayName": "arpit doshi",
      "userId": "11953983124721783861"
     },
     "user_tz": -330
    },
    "id": "4e40bcbb"
   },
   "outputs": [],
   "source": [
    "data.loc[(data.user_sentiment=='Positive') & (data.reviews_rating < 4),'user_sentiment'] = 'Negative'\n",
    "data.loc[(data.user_sentiment=='Negative') & (data.reviews_rating > 3),'user_sentiment'] = 'Positive'"
   ]
  },
  {
   "cell_type": "code",
   "execution_count": 20,
   "metadata": {
    "editable": false,
    "execution": {
     "iopub.execute_input": "2022-07-19T03:01:13.193765Z",
     "iopub.status.busy": "2022-07-19T03:01:13.192992Z",
     "iopub.status.idle": "2022-07-19T03:01:13.247556Z",
     "shell.execute_reply": "2022-07-19T03:01:13.246394Z",
     "shell.execute_reply.started": "2022-07-19T03:01:13.193716Z"
    },
    "executionInfo": {
     "elapsed": 254,
     "status": "ok",
     "timestamp": 1657731210426,
     "user": {
      "displayName": "arpit doshi",
      "userId": "11953983124721783861"
     },
     "user_tz": -330
    },
    "id": "43c74315",
    "outputId": "0b8ae8f5-8081-456f-be02-473796f09443"
   },
   "outputs": [],
   "source": [
    "pd.crosstab(data.user_sentiment,data.reviews_rating,margins=True)"
   ]
  },
  {
   "cell_type": "code",
   "execution_count": 21,
   "metadata": {
    "editable": false,
    "execution": {
     "iopub.execute_input": "2022-07-19T03:01:13.249929Z",
     "iopub.status.busy": "2022-07-19T03:01:13.249473Z",
     "iopub.status.idle": "2022-07-19T03:01:13.493532Z",
     "shell.execute_reply": "2022-07-19T03:01:13.492482Z",
     "shell.execute_reply.started": "2022-07-19T03:01:13.249887Z"
    },
    "executionInfo": {
     "elapsed": 252,
     "status": "ok",
     "timestamp": 1657731210427,
     "user": {
      "displayName": "arpit doshi",
      "userId": "11953983124721783861"
     },
     "user_tz": -330
    },
    "id": "7ded9fe7",
    "outputId": "7f480c49-639b-4ac0-cd05-c86ca2d5ae8e"
   },
   "outputs": [],
   "source": [
    "#plot the distribution of user sentiments rating wise again after correcting sentiments based on ratings\n",
    "plt.figure(figsize=(10,8))\n",
    "ax = sns.countplot(x=\"user_sentiment\",\n",
    "                hue=\"reviews_rating\",\n",
    "                data=data);\n",
    "ax.legend(loc = 'upper right')"
   ]
  },
  {
   "cell_type": "code",
   "execution_count": 22,
   "metadata": {
    "editable": false,
    "execution": {
     "iopub.execute_input": "2022-07-19T03:01:13.495369Z",
     "iopub.status.busy": "2022-07-19T03:01:13.494822Z",
     "iopub.status.idle": "2022-07-19T03:01:13.725399Z",
     "shell.execute_reply": "2022-07-19T03:01:13.724149Z",
     "shell.execute_reply.started": "2022-07-19T03:01:13.495335Z"
    },
    "executionInfo": {
     "elapsed": 212,
     "status": "ok",
     "timestamp": 1657731210428,
     "user": {
      "displayName": "arpit doshi",
      "userId": "11953983124721783861"
     },
     "user_tz": -330
    },
    "id": "ae9fc47f",
    "outputId": "e6240e17-6494-4454-fa3b-644360281787"
   },
   "outputs": [],
   "source": [
    "#get the top 10 brands with positive sentiments\n",
    "data.loc[data.user_sentiment=='Positive'].groupby(['brand'])['brand'].count().sort_values(ascending=False).head(10).plot(kind='bar',color='g',title='top to brands with positive sentiment')"
   ]
  },
  {
   "cell_type": "code",
   "execution_count": 23,
   "metadata": {
    "editable": false,
    "execution": {
     "iopub.execute_input": "2022-07-19T03:01:13.726920Z",
     "iopub.status.busy": "2022-07-19T03:01:13.726605Z",
     "iopub.status.idle": "2022-07-19T03:01:13.938618Z",
     "shell.execute_reply": "2022-07-19T03:01:13.937401Z",
     "shell.execute_reply.started": "2022-07-19T03:01:13.726892Z"
    },
    "executionInfo": {
     "elapsed": 2187,
     "status": "ok",
     "timestamp": 1657731212411,
     "user": {
      "displayName": "arpit doshi",
      "userId": "11953983124721783861"
     },
     "user_tz": -330
    },
    "id": "1ba41020",
    "outputId": "db5150a3-7d35-4b9b-bcb7-902ffa5dc8df"
   },
   "outputs": [],
   "source": [
    "#get the top 10 brands with negative sentiments\n",
    "data.loc[data.user_sentiment=='Negative'].groupby(['brand'])['brand'].count().sort_values(ascending=False).head(10).plot(kind='bar',color='r',title='top to brands with negative sentiment')"
   ]
  },
  {
   "cell_type": "code",
   "execution_count": 24,
   "metadata": {
    "editable": false,
    "execution": {
     "iopub.execute_input": "2022-07-19T03:01:13.940010Z",
     "iopub.status.busy": "2022-07-19T03:01:13.939733Z",
     "iopub.status.idle": "2022-07-19T03:01:13.965922Z",
     "shell.execute_reply": "2022-07-19T03:01:13.964739Z",
     "shell.execute_reply.started": "2022-07-19T03:01:13.939984Z"
    },
    "executionInfo": {
     "elapsed": 1204,
     "status": "ok",
     "timestamp": 1657731212415,
     "user": {
      "displayName": "arpit doshi",
      "userId": "11953983124721783861"
     },
     "user_tz": -330
    },
    "id": "b76fecc3",
    "outputId": "cbfb31aa-c967-4e3e-f879-aa4f751f8328"
   },
   "outputs": [],
   "source": [
    "#check null value percentage again for all columns\n",
    "checkNaNvalues(data)"
   ]
  },
  {
   "cell_type": "code",
   "execution_count": 25,
   "metadata": {
    "editable": false,
    "execution": {
     "iopub.execute_input": "2022-07-19T03:01:13.968786Z",
     "iopub.status.busy": "2022-07-19T03:01:13.967694Z",
     "iopub.status.idle": "2022-07-19T03:01:13.982570Z",
     "shell.execute_reply": "2022-07-19T03:01:13.981359Z",
     "shell.execute_reply.started": "2022-07-19T03:01:13.968749Z"
    },
    "executionInfo": {
     "elapsed": 587,
     "status": "ok",
     "timestamp": 1657731212426,
     "user": {
      "displayName": "arpit doshi",
      "userId": "11953983124721783861"
     },
     "user_tz": -330
    },
    "id": "70c6aef1"
   },
   "outputs": [],
   "source": [
    "#remove records where username is not available\n",
    "data = data.loc[~data.reviews_username.isnull()]"
   ]
  },
  {
   "cell_type": "code",
   "execution_count": 26,
   "metadata": {
    "editable": false,
    "execution": {
     "iopub.execute_input": "2022-07-19T03:01:13.984813Z",
     "iopub.status.busy": "2022-07-19T03:01:13.984277Z",
     "iopub.status.idle": "2022-07-19T03:01:14.011399Z",
     "shell.execute_reply": "2022-07-19T03:01:14.010443Z",
     "shell.execute_reply.started": "2022-07-19T03:01:13.984779Z"
    },
    "executionInfo": {
     "elapsed": 302,
     "status": "ok",
     "timestamp": 1657731212427,
     "user": {
      "displayName": "arpit doshi",
      "userId": "11953983124721783861"
     },
     "user_tz": -330
    },
    "id": "9e518d00",
    "outputId": "05864abd-5120-47be-c898-127ac835cf0c"
   },
   "outputs": [],
   "source": [
    "#check NaN records\n",
    "checkNaNvalues(data)"
   ]
  },
  {
   "cell_type": "code",
   "execution_count": 27,
   "metadata": {
    "editable": false,
    "execution": {
     "iopub.execute_input": "2022-07-19T03:01:14.013192Z",
     "iopub.status.busy": "2022-07-19T03:01:14.012815Z",
     "iopub.status.idle": "2022-07-19T03:01:14.018378Z",
     "shell.execute_reply": "2022-07-19T03:01:14.017597Z",
     "shell.execute_reply.started": "2022-07-19T03:01:14.013158Z"
    },
    "executionInfo": {
     "elapsed": 293,
     "status": "ok",
     "timestamp": 1657731212427,
     "user": {
      "displayName": "arpit doshi",
      "userId": "11953983124721783861"
     },
     "user_tz": -330
    },
    "id": "69fe5b1b"
   },
   "outputs": [],
   "source": [
    "#function for aligning dataframe columns to left\n",
    "def dframe_alignment(table):\n",
    "    return table.style.set_properties(**{'text-align': 'left'}).set_table_styles([ dict(selector='th', props=[('text-align', 'left')] ) ])"
   ]
  },
  {
   "cell_type": "code",
   "execution_count": 28,
   "metadata": {
    "editable": false,
    "execution": {
     "iopub.execute_input": "2022-07-19T03:01:14.027618Z",
     "iopub.status.busy": "2022-07-19T03:01:14.025163Z",
     "iopub.status.idle": "2022-07-19T03:01:14.138112Z",
     "shell.execute_reply": "2022-07-19T03:01:14.136987Z",
     "shell.execute_reply.started": "2022-07-19T03:01:14.027569Z"
    },
    "executionInfo": {
     "elapsed": 290,
     "status": "ok",
     "timestamp": 1657731212428,
     "user": {
      "displayName": "arpit doshi",
      "userId": "11953983124721783861"
     },
     "user_tz": -330
    },
    "id": "42b32306",
    "outputId": "bf48fa62-2268-4bb9-824f-77ab48cf68cd"
   },
   "outputs": [],
   "source": [
    "# for the sentiment analysis not all the columns are required. We will use only those columns which are useful for our analysis.\n",
    "df = data[['id','name','reviews_rating','reviews_username','reviews_text','reviews_title','user_sentiment']]\n",
    "dframe_alignment(df.sample(n=10))\n"
   ]
  },
  {
   "cell_type": "code",
   "execution_count": 29,
   "metadata": {
    "editable": false,
    "execution": {
     "iopub.execute_input": "2022-07-19T03:01:14.140110Z",
     "iopub.status.busy": "2022-07-19T03:01:14.139774Z",
     "iopub.status.idle": "2022-07-19T03:01:14.146281Z",
     "shell.execute_reply": "2022-07-19T03:01:14.145456Z",
     "shell.execute_reply.started": "2022-07-19T03:01:14.140079Z"
    },
    "executionInfo": {
     "elapsed": 242,
     "status": "ok",
     "timestamp": 1657731212430,
     "user": {
      "displayName": "arpit doshi",
      "userId": "11953983124721783861"
     },
     "user_tz": -330
    },
    "id": "d79dc255",
    "outputId": "6a604be5-7f4f-4405-c376-36f770149df3"
   },
   "outputs": [],
   "source": [
    "#dimension of the dataframe\n",
    "df.shape"
   ]
  },
  {
   "cell_type": "code",
   "execution_count": 30,
   "metadata": {
    "editable": false,
    "execution": {
     "iopub.execute_input": "2022-07-19T03:01:14.148328Z",
     "iopub.status.busy": "2022-07-19T03:01:14.147789Z",
     "iopub.status.idle": "2022-07-19T03:01:14.212139Z",
     "shell.execute_reply": "2022-07-19T03:01:14.211001Z",
     "shell.execute_reply.started": "2022-07-19T03:01:14.148298Z"
    },
    "executionInfo": {
     "elapsed": 234,
     "status": "ok",
     "timestamp": 1657731212431,
     "user": {
      "displayName": "arpit doshi",
      "userId": "11953983124721783861"
     },
     "user_tz": -330
    },
    "id": "bc180bae",
    "outputId": "f7b9b899-a007-4507-db69-a9fa305b3759"
   },
   "outputs": [],
   "source": [
    "#let's merger reviews_text and reviews_title to one column and then remove the original columns\n",
    "#before that fill all null records of reviews_title with ' '\n",
    "df.reviews_title = df.reviews_title.fillna(' ')\n",
    "df['reviewsText'] = df.reviews_title + '. ' + df.reviews_text\n",
    "reviewsData  = df.drop(columns=['reviews_text','reviews_title'])\n",
    "reviewsData.reviewsText = reviewsData.reviewsText.str.lstrip('. ')\n",
    "dframe_alignment(reviewsData.sample(n=10))\n",
    "\n"
   ]
  },
  {
   "cell_type": "code",
   "execution_count": 31,
   "metadata": {
    "editable": false,
    "execution": {
     "iopub.execute_input": "2022-07-19T03:01:14.213755Z",
     "iopub.status.busy": "2022-07-19T03:01:14.213412Z",
     "iopub.status.idle": "2022-07-19T03:01:14.220536Z",
     "shell.execute_reply": "2022-07-19T03:01:14.219469Z",
     "shell.execute_reply.started": "2022-07-19T03:01:14.213726Z"
    },
    "executionInfo": {
     "elapsed": 207,
     "status": "ok",
     "timestamp": 1657731212432,
     "user": {
      "displayName": "arpit doshi",
      "userId": "11953983124721783861"
     },
     "user_tz": -330
    },
    "id": "e2baa56f",
    "outputId": "ecaabf48-c15a-4c80-a078-48211b4c92de"
   },
   "outputs": [],
   "source": [
    "#dimension of the dataframe \n",
    "reviewsData.shape"
   ]
  },
  {
   "cell_type": "code",
   "execution_count": 32,
   "metadata": {
    "editable": false,
    "execution": {
     "iopub.execute_input": "2022-07-19T03:01:14.222642Z",
     "iopub.status.busy": "2022-07-19T03:01:14.222079Z",
     "iopub.status.idle": "2022-07-19T03:01:14.236721Z",
     "shell.execute_reply": "2022-07-19T03:01:14.235621Z",
     "shell.execute_reply.started": "2022-07-19T03:01:14.222611Z"
    },
    "executionInfo": {
     "elapsed": 198,
     "status": "ok",
     "timestamp": 1657731212432,
     "user": {
      "displayName": "arpit doshi",
      "userId": "11953983124721783861"
     },
     "user_tz": -330
    },
    "id": "9fc7eb24",
    "outputId": "466878a7-ef6e-4846-9930-07a4d7d07f5f"
   },
   "outputs": [],
   "source": [
    "#check user_sentiments distribution after removing NaN records\n",
    "reviewsData.user_sentiment.value_counts()"
   ]
  },
  {
   "cell_type": "code",
   "execution_count": 33,
   "metadata": {
    "editable": false,
    "execution": {
     "iopub.execute_input": "2022-07-19T03:01:14.238542Z",
     "iopub.status.busy": "2022-07-19T03:01:14.237831Z",
     "iopub.status.idle": "2022-07-19T03:01:14.253693Z",
     "shell.execute_reply": "2022-07-19T03:01:14.252518Z",
     "shell.execute_reply.started": "2022-07-19T03:01:14.238506Z"
    },
    "executionInfo": {
     "elapsed": 194,
     "status": "ok",
     "timestamp": 1657731212433,
     "user": {
      "displayName": "arpit doshi",
      "userId": "11953983124721783861"
     },
     "user_tz": -330
    },
    "id": "d9e6e8a1",
    "outputId": "468f63f2-948e-4b82-81d3-e357ea44b5db"
   },
   "outputs": [],
   "source": [
    "#check the record for which user sentiment is null and fill it based on it's review text\n",
    "reviewsData.loc[reviewsData.user_sentiment.isna()]"
   ]
  },
  {
   "cell_type": "code",
   "execution_count": 34,
   "metadata": {
    "editable": false,
    "execution": {
     "iopub.execute_input": "2022-07-19T03:01:14.255394Z",
     "iopub.status.busy": "2022-07-19T03:01:14.255071Z",
     "iopub.status.idle": "2022-07-19T03:01:14.263628Z",
     "shell.execute_reply": "2022-07-19T03:01:14.262711Z",
     "shell.execute_reply.started": "2022-07-19T03:01:14.255365Z"
    },
    "executionInfo": {
     "elapsed": 193,
     "status": "ok",
     "timestamp": 1657731212434,
     "user": {
      "displayName": "arpit doshi",
      "userId": "11953983124721783861"
     },
     "user_tz": -330
    },
    "id": "e9efa97c"
   },
   "outputs": [],
   "source": [
    "#looking at the review text looks like it is a positive sentiment.Filling the usersentiment with 'Positive'\n",
    "reviewsData.loc[reviewsData.user_sentiment.isna(),'user_sentiment'] = 'Positive'"
   ]
  },
  {
   "cell_type": "code",
   "execution_count": 35,
   "metadata": {
    "editable": false,
    "execution": {
     "iopub.execute_input": "2022-07-19T03:01:14.266014Z",
     "iopub.status.busy": "2022-07-19T03:01:14.264914Z",
     "iopub.status.idle": "2022-07-19T03:01:14.289911Z",
     "shell.execute_reply": "2022-07-19T03:01:14.288607Z",
     "shell.execute_reply.started": "2022-07-19T03:01:14.265936Z"
    },
    "executionInfo": {
     "elapsed": 193,
     "status": "ok",
     "timestamp": 1657731212435,
     "user": {
      "displayName": "arpit doshi",
      "userId": "11953983124721783861"
     },
     "user_tz": -330
    },
    "id": "d06b8327",
    "outputId": "ae11a43c-e100-4c56-f3d0-5810756541e0"
   },
   "outputs": [],
   "source": [
    "#check for NaN records in the dataframe again\n",
    "checkNaNvalues(reviewsData)"
   ]
  },
  {
   "cell_type": "code",
   "execution_count": 36,
   "metadata": {
    "editable": false,
    "execution": {
     "iopub.execute_input": "2022-07-19T03:01:14.291638Z",
     "iopub.status.busy": "2022-07-19T03:01:14.291285Z",
     "iopub.status.idle": "2022-07-19T03:01:14.302723Z",
     "shell.execute_reply": "2022-07-19T03:01:14.301586Z",
     "shell.execute_reply.started": "2022-07-19T03:01:14.291607Z"
    },
    "executionInfo": {
     "elapsed": 186,
     "status": "ok",
     "timestamp": 1657731212435,
     "user": {
      "displayName": "arpit doshi",
      "userId": "11953983124721783861"
     },
     "user_tz": -330
    },
    "id": "9ce7a820",
    "outputId": "645c632d-7422-49f8-8f7d-2e9bccd8334d"
   },
   "outputs": [],
   "source": [
    "#check the distribution of user_sentiments again\n",
    "reviewsData.user_sentiment.value_counts()"
   ]
  },
  {
   "cell_type": "code",
   "execution_count": 37,
   "metadata": {
    "editable": false,
    "execution": {
     "iopub.execute_input": "2022-07-19T03:01:14.306742Z",
     "iopub.status.busy": "2022-07-19T03:01:14.305861Z",
     "iopub.status.idle": "2022-07-19T03:01:14.815923Z",
     "shell.execute_reply": "2022-07-19T03:01:14.814727Z",
     "shell.execute_reply.started": "2022-07-19T03:01:14.306689Z"
    },
    "executionInfo": {
     "elapsed": 1233,
     "status": "ok",
     "timestamp": 1657731213490,
     "user": {
      "displayName": "arpit doshi",
      "userId": "11953983124721783861"
     },
     "user_tz": -330
    },
    "id": "dc509d5b",
    "outputId": "2ae56983-87fb-48e1-ac64-9892403d7411"
   },
   "outputs": [],
   "source": [
    "#plot hist to check the avg review length\n",
    "char_length = [len(review) for review in reviewsData.reviewsText]\n",
    "\n",
    "plt.figure(figsize=(15,8))\n",
    "sns.histplot(data=char_length,bins=50,stat='count',kde=True)\n",
    "plt.show()"
   ]
  },
  {
   "cell_type": "markdown",
   "metadata": {
    "editable": false,
    "id": "15c33293"
   },
   "source": [
    "We can see that majority of the reviews are in length of between 0 to 1000"
   ]
  },
  {
   "cell_type": "markdown",
   "metadata": {
    "editable": false,
    "id": "b2d82bd7"
   },
   "source": [
    "# 3. Text processing"
   ]
  },
  {
   "cell_type": "code",
   "execution_count": 38,
   "metadata": {
    "editable": false,
    "execution": {
     "iopub.execute_input": "2022-07-19T03:01:14.818496Z",
     "iopub.status.busy": "2022-07-19T03:01:14.817777Z",
     "iopub.status.idle": "2022-07-19T03:01:14.825335Z",
     "shell.execute_reply": "2022-07-19T03:01:14.824028Z",
     "shell.execute_reply.started": "2022-07-19T03:01:14.818457Z"
    },
    "executionInfo": {
     "elapsed": 157,
     "status": "ok",
     "timestamp": 1657731213493,
     "user": {
      "displayName": "arpit doshi",
      "userId": "11953983124721783861"
     },
     "user_tz": -330
    },
    "id": "61b09aa4"
   },
   "outputs": [],
   "source": [
    "#create text processing function \n",
    "def textProcessing(text):\n",
    "    '''\n",
    "        This function parses a text and do the following.\n",
    "        - Make the text lowercase\n",
    "        - Remove whitespaces from both end of the string\n",
    "        - Remove text in square brackets\n",
    "        - Remove punctuation\n",
    "        - Remove words containing numbers\n",
    "    '''\n",
    "    text = text.lower() # convert text to lower case\n",
    "    text = text.strip() # remove whitespaces from both end of the string\n",
    "    text = re.sub('\\[.*?\\]','',text) # remove text in square brackets\n",
    "    text = re.sub('[%s]'%re.escape(string.punctuation),'',text) # remove string.punctuations(!\"#$%&'()*+,-./:;<=>?@[\\]^_`{|}~) from the text\n",
    "    #for removing punctuation you can also use str,maketrans(''.'',string.punctuation). it's just that re.sub is faster than maketrans\n",
    "    text = re.sub('\\w*\\d\\w*','',text) #remove words containing numbers\n",
    "    return text\n",
    "    "
   ]
  },
  {
   "cell_type": "code",
   "execution_count": 39,
   "metadata": {
    "editable": false,
    "execution": {
     "iopub.execute_input": "2022-07-19T03:01:14.827725Z",
     "iopub.status.busy": "2022-07-19T03:01:14.827260Z",
     "iopub.status.idle": "2022-07-19T03:01:14.850636Z",
     "shell.execute_reply": "2022-07-19T03:01:14.849734Z",
     "shell.execute_reply.started": "2022-07-19T03:01:14.827677Z"
    },
    "executionInfo": {
     "elapsed": 166,
     "status": "ok",
     "timestamp": 1657731213504,
     "user": {
      "displayName": "arpit doshi",
      "userId": "11953983124721783861"
     },
     "user_tz": -330
    },
    "id": "8653fdf1",
    "outputId": "767e3a89-4e2a-4afa-bf06-b3ef367581b8",
    "scrolled": true
   },
   "outputs": [],
   "source": [
    "dframe_alignment(reviewsData.head(10))"
   ]
  },
  {
   "cell_type": "code",
   "execution_count": 40,
   "metadata": {
    "editable": false,
    "execution": {
     "iopub.execute_input": "2022-07-19T03:01:14.852816Z",
     "iopub.status.busy": "2022-07-19T03:01:14.851934Z",
     "iopub.status.idle": "2022-07-19T03:01:15.942994Z",
     "shell.execute_reply": "2022-07-19T03:01:15.941900Z",
     "shell.execute_reply.started": "2022-07-19T03:01:14.852780Z"
    },
    "executionInfo": {
     "elapsed": 555,
     "status": "ok",
     "timestamp": 1657731213898,
     "user": {
      "displayName": "arpit doshi",
      "userId": "11953983124721783861"
     },
     "user_tz": -330
    },
    "id": "4cc0e592",
    "outputId": "8db1a16e-9ef0-4947-f95f-fa9f6bb915b1"
   },
   "outputs": [],
   "source": [
    "reviewsData['reviews'] = reviewsData.reviewsText.swifter.apply(lambda x : textProcessing(x))\n",
    "dframe_alignment(reviewsData.head(10))"
   ]
  },
  {
   "cell_type": "code",
   "execution_count": 41,
   "metadata": {
    "editable": false,
    "execution": {
     "iopub.execute_input": "2022-07-19T03:01:15.944836Z",
     "iopub.status.busy": "2022-07-19T03:01:15.944497Z",
     "iopub.status.idle": "2022-07-19T03:01:15.953928Z",
     "shell.execute_reply": "2022-07-19T03:01:15.952731Z",
     "shell.execute_reply.started": "2022-07-19T03:01:15.944804Z"
    },
    "executionInfo": {
     "elapsed": 13,
     "status": "ok",
     "timestamp": 1657731213899,
     "user": {
      "displayName": "arpit doshi",
      "userId": "11953983124721783861"
     },
     "user_tz": -330
    },
    "id": "bfc85acd"
   },
   "outputs": [],
   "source": [
    "#remove stop words from the text\n",
    "stopWords = set(stopwords.words('english'))\n",
    "def removeStopwords(text):\n",
    "    words = [word for word in text.split() if word.isalpha() and word not in stopWords]\n",
    "    return \" \".join(words)"
   ]
  },
  {
   "cell_type": "code",
   "execution_count": 42,
   "metadata": {
    "editable": false,
    "execution": {
     "iopub.execute_input": "2022-07-19T03:01:15.957522Z",
     "iopub.status.busy": "2022-07-19T03:01:15.956015Z",
     "iopub.status.idle": "2022-07-19T03:01:15.964452Z",
     "shell.execute_reply": "2022-07-19T03:01:15.963712Z",
     "shell.execute_reply.started": "2022-07-19T03:01:15.957448Z"
    },
    "executionInfo": {
     "elapsed": 13,
     "status": "ok",
     "timestamp": 1657731213900,
     "user": {
      "displayName": "arpit doshi",
      "userId": "11953983124721783861"
     },
     "user_tz": -330
    },
    "id": "f038c89b"
   },
   "outputs": [],
   "source": [
    "# This is a helper function to map NTLK position tags\n",
    "def get_wordnet_pos(tag):\n",
    "    if tag.startswith('J'):\n",
    "        return wordnet.ADJ\n",
    "    elif tag.startswith('V'):\n",
    "        return wordnet.VERB\n",
    "    elif tag.startswith('N'):\n",
    "        return wordnet.NOUN\n",
    "    elif tag.startswith('R'):\n",
    "        return wordnet.ADV\n",
    "    else:\n",
    "        return wordnet.NOUN"
   ]
  },
  {
   "cell_type": "code",
   "execution_count": 43,
   "metadata": {
    "editable": false,
    "execution": {
     "iopub.execute_input": "2022-07-19T03:01:15.966367Z",
     "iopub.status.busy": "2022-07-19T03:01:15.965855Z",
     "iopub.status.idle": "2022-07-19T03:01:15.980042Z",
     "shell.execute_reply": "2022-07-19T03:01:15.979164Z",
     "shell.execute_reply.started": "2022-07-19T03:01:15.966334Z"
    },
    "executionInfo": {
     "elapsed": 13,
     "status": "ok",
     "timestamp": 1657731213901,
     "user": {
      "displayName": "arpit doshi",
      "userId": "11953983124721783861"
     },
     "user_tz": -330
    },
    "id": "cab26a43"
   },
   "outputs": [],
   "source": [
    "#remove stopwords and lematize text \n",
    "lemmatizer = WordNetLemmatizer()\n",
    "def textLemmatize(text):\n",
    "    #remove the stopwords from the text\n",
    "    words = removeStopwords(text)\n",
    "    #map pos tags of each words\n",
    "    wordnetPOSTags =  nltk.pos_tag(word_tokenize(words))\n",
    "    #lemmatize the words according to their POS tag\n",
    "    lemmatizedWords = [lemmatizer.lemmatize(token[0],get_wordnet_pos(token[1])) for i,token in enumerate(wordnetPOSTags)]\n",
    "    return \" \".join(lemmatizedWords)\n",
    "     "
   ]
  },
  {
   "cell_type": "code",
   "execution_count": 44,
   "metadata": {
    "editable": false,
    "execution": {
     "iopub.execute_input": "2022-07-19T03:01:15.982350Z",
     "iopub.status.busy": "2022-07-19T03:01:15.981341Z",
     "iopub.status.idle": "2022-07-19T03:02:13.949783Z",
     "shell.execute_reply": "2022-07-19T03:02:13.948576Z",
     "shell.execute_reply.started": "2022-07-19T03:01:15.982314Z"
    },
    "executionInfo": {
     "elapsed": 78145,
     "status": "ok",
     "timestamp": 1657731292034,
     "user": {
      "displayName": "arpit doshi",
      "userId": "11953983124721783861"
     },
     "user_tz": -330
    },
    "id": "30f8c38f",
    "outputId": "2781448c-77f9-4605-fc6a-cecbfb4ec43d"
   },
   "outputs": [],
   "source": [
    "reviewsData.reviews = reviewsData.reviews.swifter.apply(lambda x: textLemmatize(x))\n",
    "dframe_alignment(reviewsData.head(10))"
   ]
  },
  {
   "cell_type": "code",
   "execution_count": 45,
   "metadata": {
    "editable": false,
    "execution": {
     "iopub.execute_input": "2022-07-19T03:02:13.953681Z",
     "iopub.status.busy": "2022-07-19T03:02:13.953059Z",
     "iopub.status.idle": "2022-07-19T03:02:13.960687Z",
     "shell.execute_reply": "2022-07-19T03:02:13.959435Z",
     "shell.execute_reply.started": "2022-07-19T03:02:13.953610Z"
    },
    "executionInfo": {
     "elapsed": 25,
     "status": "ok",
     "timestamp": 1657731292035,
     "user": {
      "displayName": "arpit doshi",
      "userId": "11953983124721783861"
     },
     "user_tz": -330
    },
    "id": "6534214f"
   },
   "outputs": [],
   "source": [
    "#Write your function to extract the POS tags \n",
    "\n",
    "def pos_Tag(text):\n",
    "  #TextBlob provides a simple API for diving into common natural language processing (NLP) tasks such as part-of-speech tagging, noun phrase extraction, sentiment analysis, classification, translation, and more\n",
    "  blob = TextBlob(text)\n",
    "  return \" \".join([word for (word,tag) in blob.tags if tag in ['JJ','JJR','JJS','NN']])"
   ]
  },
  {
   "cell_type": "code",
   "execution_count": 46,
   "metadata": {
    "editable": false,
    "execution": {
     "iopub.execute_input": "2022-07-19T03:02:13.963204Z",
     "iopub.status.busy": "2022-07-19T03:02:13.962394Z",
     "iopub.status.idle": "2022-07-19T03:03:13.308281Z",
     "shell.execute_reply": "2022-07-19T03:03:13.307419Z",
     "shell.execute_reply.started": "2022-07-19T03:02:13.963144Z"
    },
    "executionInfo": {
     "elapsed": 62998,
     "status": "ok",
     "timestamp": 1657731355012,
     "user": {
      "displayName": "arpit doshi",
      "userId": "11953983124721783861"
     },
     "user_tz": -330
    },
    "id": "a5ca9954",
    "outputId": "705827cb-b952-4f4e-91bc-ab4e0a0a86ff"
   },
   "outputs": [],
   "source": [
    "reviewsData['finalReviews'] = reviewsData.reviews.swifter.apply(lambda x : pos_Tag(x))\n",
    "dframe_alignment(reviewsData.head(10))"
   ]
  },
  {
   "cell_type": "markdown",
   "metadata": {
    "editable": false,
    "id": "b367cc42"
   },
   "source": [
    "###  EDA on reviews"
   ]
  },
  {
   "cell_type": "markdown",
   "metadata": {
    "editable": false,
    "id": "baaecd08"
   },
   "source": [
    "### Using a word cloud find the top 25 words by frequency among all the reviews after processing the text"
   ]
  },
  {
   "cell_type": "code",
   "execution_count": 47,
   "metadata": {
    "editable": false,
    "execution": {
     "iopub.execute_input": "2022-07-19T03:03:13.310317Z",
     "iopub.status.busy": "2022-07-19T03:03:13.309788Z",
     "iopub.status.idle": "2022-07-19T03:03:13.324301Z",
     "shell.execute_reply": "2022-07-19T03:03:13.322903Z",
     "shell.execute_reply.started": "2022-07-19T03:03:13.310283Z"
    },
    "executionInfo": {
     "elapsed": 25,
     "status": "ok",
     "timestamp": 1657731355014,
     "user": {
      "displayName": "arpit doshi",
      "userId": "11953983124721783861"
     },
     "user_tz": -330
    },
    "id": "39220772"
   },
   "outputs": [],
   "source": [
    "#create seperate dataframe for pos and negative sentiments for EDA\n",
    "pos_review = pd.DataFrame(reviewsData.loc[reviewsData.user_sentiment=='Positive','finalReviews'])\n",
    "neg_review = pd.DataFrame(reviewsData.loc[reviewsData.user_sentiment=='Negative','finalReviews'])"
   ]
  },
  {
   "cell_type": "code",
   "execution_count": 48,
   "metadata": {
    "editable": false,
    "execution": {
     "iopub.execute_input": "2022-07-19T03:03:13.326730Z",
     "iopub.status.busy": "2022-07-19T03:03:13.326039Z",
     "iopub.status.idle": "2022-07-19T03:03:13.337915Z",
     "shell.execute_reply": "2022-07-19T03:03:13.336739Z",
     "shell.execute_reply.started": "2022-07-19T03:03:13.326679Z"
    },
    "executionInfo": {
     "elapsed": 24,
     "status": "ok",
     "timestamp": 1657731355015,
     "user": {
      "displayName": "arpit doshi",
      "userId": "11953983124721783861"
     },
     "user_tz": -330
    },
    "id": "34a37380"
   },
   "outputs": [],
   "source": [
    "def get_top_25Words(df,top_n):\n",
    "  top_25Words = df.str.split().values.tolist()\n",
    "  return FreqDist([w for seq in top_25Words for w in seq]).most_common(top_n)"
   ]
  },
  {
   "cell_type": "code",
   "execution_count": 49,
   "metadata": {
    "editable": false,
    "execution": {
     "iopub.execute_input": "2022-07-19T03:03:13.340270Z",
     "iopub.status.busy": "2022-07-19T03:03:13.339799Z",
     "iopub.status.idle": "2022-07-19T03:03:13.349004Z",
     "shell.execute_reply": "2022-07-19T03:03:13.348027Z",
     "shell.execute_reply.started": "2022-07-19T03:03:13.340225Z"
    },
    "executionInfo": {
     "elapsed": 22,
     "status": "ok",
     "timestamp": 1657731355015,
     "user": {
      "displayName": "arpit doshi",
      "userId": "11953983124721783861"
     },
     "user_tz": -330
    },
    "id": "b78d11b4"
   },
   "outputs": [],
   "source": [
    "##create a function to plot the frequancy chart\n",
    "def plot_word_frequency(df,top_n=10):\n",
    "  word_freq = get_top_25Words(df,top_n)\n",
    "  pprint(word_freq)\n",
    "  labels = [element[0] for element in word_freq]\n",
    "  counts = [element[1] for element in word_freq]\n",
    "  ax = sns.barplot(y=labels, x=counts)\n",
    "  return ax"
   ]
  },
  {
   "cell_type": "code",
   "execution_count": 50,
   "metadata": {
    "editable": false,
    "execution": {
     "iopub.execute_input": "2022-07-19T03:03:13.351431Z",
     "iopub.status.busy": "2022-07-19T03:03:13.350217Z",
     "iopub.status.idle": "2022-07-19T03:03:13.366011Z",
     "shell.execute_reply": "2022-07-19T03:03:13.364225Z",
     "shell.execute_reply.started": "2022-07-19T03:03:13.351380Z"
    },
    "executionInfo": {
     "elapsed": 22,
     "status": "ok",
     "timestamp": 1657731355016,
     "user": {
      "displayName": "arpit doshi",
      "userId": "11953983124721783861"
     },
     "user_tz": -330
    },
    "id": "6dff2273"
   },
   "outputs": [],
   "source": [
    "#create a wordcloud to see the most used words visually\n",
    "def creatWordCloud(top_25Words):\n",
    "    ### Using word cloud print top 40 words by frequency\n",
    "    stopwords_ = set(STOPWORDS)\n",
    "    wordcloud = WordCloud(stopwords=stopwords_,background_color = 'white', width = 800, height = 400,\n",
    "                          colormap = 'viridis', max_words = 40, contour_width = 3,\n",
    "                          max_font_size = 80, contour_color = 'steelblue',\n",
    "                          random_state = 0)\n",
    "\n",
    "    plt.figure(figsize=(15,10))\n",
    "    wordcloud.generate(\" \".join([w for (w,c) in top_25Words]))\n",
    "    plt.imshow(wordcloud)\n",
    "    return plt.show()"
   ]
  },
  {
   "cell_type": "code",
   "execution_count": 51,
   "metadata": {
    "editable": false,
    "execution": {
     "iopub.execute_input": "2022-07-19T03:03:13.368821Z",
     "iopub.status.busy": "2022-07-19T03:03:13.367991Z",
     "iopub.status.idle": "2022-07-19T03:03:14.034648Z",
     "shell.execute_reply": "2022-07-19T03:03:14.033534Z",
     "shell.execute_reply.started": "2022-07-19T03:03:13.368768Z"
    },
    "executionInfo": {
     "elapsed": 1039,
     "status": "ok",
     "timestamp": 1657731356033,
     "user": {
      "displayName": "arpit doshi",
      "userId": "11953983124721783861"
     },
     "user_tz": -330
    },
    "id": "6a640028",
    "outputId": "5b051775-8e82-4cdb-ad41-baf9f980a38e"
   },
   "outputs": [],
   "source": [
    "#Find the top 25 words by frequency among positive reviews and their frequency count\n",
    "plt.figure(figsize=(15,10))\n",
    "plot_word_frequency(pos_review.finalReviews,25)\n",
    "plt.xticks(fontsize=15)\n",
    "plt.yticks(fontsize=15)\n",
    "plt.show()"
   ]
  },
  {
   "cell_type": "code",
   "execution_count": 52,
   "metadata": {
    "editable": false,
    "execution": {
     "iopub.execute_input": "2022-07-19T03:03:14.036701Z",
     "iopub.status.busy": "2022-07-19T03:03:14.036225Z",
     "iopub.status.idle": "2022-07-19T03:03:14.820565Z",
     "shell.execute_reply": "2022-07-19T03:03:14.819442Z",
     "shell.execute_reply.started": "2022-07-19T03:03:14.036636Z"
    },
    "executionInfo": {
     "elapsed": 1869,
     "status": "ok",
     "timestamp": 1657731357895,
     "user": {
      "displayName": "arpit doshi",
      "userId": "11953983124721783861"
     },
     "user_tz": -330
    },
    "id": "6397c616",
    "outputId": "1f170589-c6e3-44e0-e99b-71338c315e95"
   },
   "outputs": [],
   "source": [
    "#print wordCloud for top 25 keywords for positive reviews\n",
    "top_pos_25_words = FreqDist([w for seq in pos_review.finalReviews.str.split().values.tolist() for w in seq]).most_common(25)\n",
    "creatWordCloud(top_pos_25_words)"
   ]
  },
  {
   "cell_type": "code",
   "execution_count": 53,
   "metadata": {
    "editable": false,
    "execution": {
     "iopub.execute_input": "2022-07-19T03:03:14.823285Z",
     "iopub.status.busy": "2022-07-19T03:03:14.822182Z",
     "iopub.status.idle": "2022-07-19T03:03:15.223037Z",
     "shell.execute_reply": "2022-07-19T03:03:15.222237Z",
     "shell.execute_reply.started": "2022-07-19T03:03:14.823234Z"
    },
    "executionInfo": {
     "elapsed": 1492,
     "status": "ok",
     "timestamp": 1657731359370,
     "user": {
      "displayName": "arpit doshi",
      "userId": "11953983124721783861"
     },
     "user_tz": -330
    },
    "id": "c9cd7a8a",
    "outputId": "a16c9cc3-b5f7-4308-f320-bf6370b2714c"
   },
   "outputs": [],
   "source": [
    "#Find the top 25 keywords by frequency among negative reviews and their frequency count\n",
    "plt.figure(figsize=(15,10))\n",
    "plot_word_frequency(neg_review.finalReviews,25)\n",
    "plt.xticks(fontsize=15)\n",
    "plt.yticks(fontsize=15)\n",
    "plt.show()"
   ]
  },
  {
   "cell_type": "code",
   "execution_count": 54,
   "metadata": {
    "editable": false,
    "execution": {
     "iopub.execute_input": "2022-07-19T03:03:15.224897Z",
     "iopub.status.busy": "2022-07-19T03:03:15.224113Z",
     "iopub.status.idle": "2022-07-19T03:03:15.739737Z",
     "shell.execute_reply": "2022-07-19T03:03:15.738407Z",
     "shell.execute_reply.started": "2022-07-19T03:03:15.224857Z"
    },
    "executionInfo": {
     "elapsed": 44,
     "status": "ok",
     "timestamp": 1657731359384,
     "user": {
      "displayName": "arpit doshi",
      "userId": "11953983124721783861"
     },
     "user_tz": -330
    },
    "id": "799a8834",
    "outputId": "62c51d01-9844-40a9-8ca8-c02d137a69fb"
   },
   "outputs": [],
   "source": [
    "#print wordCloud for top 25 keywords for negative reviews\n",
    "top_neg_25_words = FreqDist([w for seq in neg_review.finalReviews.str.split().values.tolist() for w in seq]).most_common(25)\n",
    "creatWordCloud(top_neg_25_words)"
   ]
  },
  {
   "cell_type": "markdown",
   "metadata": {
    "editable": false,
    "id": "6d8a6cc0"
   },
   "source": [
    "### Find the top unigrams,bigrams and trigrams by frequency among all the reviews after processing the text."
   ]
  },
  {
   "cell_type": "code",
   "execution_count": 55,
   "metadata": {
    "editable": false,
    "execution": {
     "iopub.execute_input": "2022-07-19T03:03:15.742059Z",
     "iopub.status.busy": "2022-07-19T03:03:15.741559Z",
     "iopub.status.idle": "2022-07-19T03:03:15.750913Z",
     "shell.execute_reply": "2022-07-19T03:03:15.749475Z",
     "shell.execute_reply.started": "2022-07-19T03:03:15.742015Z"
    },
    "executionInfo": {
     "elapsed": 44,
     "status": "ok",
     "timestamp": 1657731359390,
     "user": {
      "displayName": "arpit doshi",
      "userId": "11953983124721783861"
     },
     "user_tz": -330
    },
    "id": "d27b63a9"
   },
   "outputs": [],
   "source": [
    "#create a function for extracting top ngrams from the text\n",
    "def get_top_ngrams(text, n=None, ngram=(1,1)):\n",
    "  vec = CountVectorizer(stop_words='english', ngram_range=ngram).fit(text)\n",
    "  bagofwords = vec.transform(text)\n",
    "  sum_words = bagofwords.sum(axis=0)\n",
    "  words_frequency = [(word, sum_words[0, index]) for word, index in vec.vocabulary_.items()]\n",
    "  words_frequency = sorted(words_frequency, key = lambda x: x[1], reverse=True)\n",
    "  return words_frequency[:n]"
   ]
  },
  {
   "cell_type": "code",
   "execution_count": 56,
   "metadata": {
    "editable": false,
    "execution": {
     "iopub.execute_input": "2022-07-19T03:03:15.753591Z",
     "iopub.status.busy": "2022-07-19T03:03:15.753041Z",
     "iopub.status.idle": "2022-07-19T03:03:15.767325Z",
     "shell.execute_reply": "2022-07-19T03:03:15.766354Z",
     "shell.execute_reply.started": "2022-07-19T03:03:15.753506Z"
    },
    "executionInfo": {
     "elapsed": 44,
     "status": "ok",
     "timestamp": 1657731359392,
     "user": {
      "displayName": "arpit doshi",
      "userId": "11953983124721783861"
     },
     "user_tz": -330
    },
    "id": "86da3907"
   },
   "outputs": [],
   "source": [
    "#function to create plot to see top 25 unigrams\n",
    "\n",
    "def createBarPlot(df,xlabel,ylabel,title):\n",
    "    plt.figure(figsize=[20,8])\n",
    "    sns.barplot(x=df['ngram'], y=df['count'])\n",
    "    plt.xticks(rotation=45,fontsize=12)\n",
    "    plt.xlabel(xlabel,fontsize=15)\n",
    "    plt.ylabel(ylabel,fontsize=15)\n",
    "    plt.title(title,fontsize=15)\n",
    "    return plt.show()"
   ]
  },
  {
   "cell_type": "code",
   "execution_count": 57,
   "metadata": {
    "editable": false,
    "execution": {
     "iopub.execute_input": "2022-07-19T03:03:15.769831Z",
     "iopub.status.busy": "2022-07-19T03:03:15.769014Z",
     "iopub.status.idle": "2022-07-19T03:03:17.196482Z",
     "shell.execute_reply": "2022-07-19T03:03:17.195368Z",
     "shell.execute_reply.started": "2022-07-19T03:03:15.769769Z"
    },
    "executionInfo": {
     "elapsed": 1420,
     "status": "ok",
     "timestamp": 1657731360769,
     "user": {
      "displayName": "arpit doshi",
      "userId": "11953983124721783861"
     },
     "user_tz": -330
    },
    "id": "46e23dcf",
    "outputId": "f031779d-77b1-443f-a997-f653c130884a"
   },
   "outputs": [],
   "source": [
    "#Write your code here to find the top 25 unigram frequency among the reviews in the cleaned datafram(df_clean).\n",
    "#top25_unigrams for positive sentiments\n",
    "top_25PosUnigram = get_top_ngrams(pos_review.finalReviews.values.astype('U'),n=25,ngram = (1,1))\n",
    "top_25PosUnigram = pd.DataFrame(top_25PosUnigram,columns=['ngram','count'])\n",
    "top_25PosUnigram"
   ]
  },
  {
   "cell_type": "code",
   "execution_count": 58,
   "metadata": {
    "editable": false,
    "execution": {
     "iopub.execute_input": "2022-07-19T03:03:17.198077Z",
     "iopub.status.busy": "2022-07-19T03:03:17.197780Z",
     "iopub.status.idle": "2022-07-19T03:03:17.547088Z",
     "shell.execute_reply": "2022-07-19T03:03:17.545962Z",
     "shell.execute_reply.started": "2022-07-19T03:03:17.198048Z"
    },
    "executionInfo": {
     "elapsed": 48,
     "status": "ok",
     "timestamp": 1657731360771,
     "user": {
      "displayName": "arpit doshi",
      "userId": "11953983124721783861"
     },
     "user_tz": -330
    },
    "id": "dc1f44f9",
    "outputId": "87321f84-344c-4a27-9eff-986c85258666"
   },
   "outputs": [],
   "source": [
    "createBarPlot(top_25PosUnigram,'unigram','count','top 25 positive unigrams')"
   ]
  },
  {
   "cell_type": "code",
   "execution_count": 59,
   "metadata": {
    "editable": false,
    "execution": {
     "iopub.execute_input": "2022-07-19T03:03:17.548948Z",
     "iopub.status.busy": "2022-07-19T03:03:17.548411Z",
     "iopub.status.idle": "2022-07-19T03:03:17.730381Z",
     "shell.execute_reply": "2022-07-19T03:03:17.729344Z",
     "shell.execute_reply.started": "2022-07-19T03:03:17.548903Z"
    },
    "executionInfo": {
     "elapsed": 47,
     "status": "ok",
     "timestamp": 1657731360773,
     "user": {
      "displayName": "arpit doshi",
      "userId": "11953983124721783861"
     },
     "user_tz": -330
    },
    "id": "4d03d1a2",
    "outputId": "04ef90e7-90b8-43ce-e24a-8ec0201325c5"
   },
   "outputs": [],
   "source": [
    "#top25_unigrams for negative sentiments\n",
    "top_25NegUnigram = get_top_ngrams(neg_review.finalReviews.values.astype('U'),n=25,ngram = (1,1))\n",
    "top_25NegUnigram = pd.DataFrame(top_25NegUnigram,columns=['ngram','count'])\n",
    "top_25NegUnigram"
   ]
  },
  {
   "cell_type": "code",
   "execution_count": 60,
   "metadata": {
    "editable": false,
    "execution": {
     "iopub.execute_input": "2022-07-19T03:03:17.732002Z",
     "iopub.status.busy": "2022-07-19T03:03:17.731706Z",
     "iopub.status.idle": "2022-07-19T03:03:18.090648Z",
     "shell.execute_reply": "2022-07-19T03:03:18.089559Z",
     "shell.execute_reply.started": "2022-07-19T03:03:17.731974Z"
    },
    "executionInfo": {
     "elapsed": 74,
     "status": "ok",
     "timestamp": 1657731360802,
     "user": {
      "displayName": "arpit doshi",
      "userId": "11953983124721783861"
     },
     "user_tz": -330
    },
    "id": "9affd600",
    "outputId": "34810250-30bd-4084-d890-fe3a840ffc97"
   },
   "outputs": [],
   "source": [
    "#plotting top 25 unigrams\n",
    "createBarPlot(top_25NegUnigram,'unigram','count','top 25 negative unigrams')"
   ]
  },
  {
   "cell_type": "code",
   "execution_count": 61,
   "metadata": {
    "editable": false,
    "execution": {
     "iopub.execute_input": "2022-07-19T03:03:18.093359Z",
     "iopub.status.busy": "2022-07-19T03:03:18.092186Z",
     "iopub.status.idle": "2022-07-19T03:03:20.371365Z",
     "shell.execute_reply": "2022-07-19T03:03:20.370061Z",
     "shell.execute_reply.started": "2022-07-19T03:03:18.093317Z"
    },
    "executionInfo": {
     "elapsed": 2023,
     "status": "ok",
     "timestamp": 1657731362752,
     "user": {
      "displayName": "arpit doshi",
      "userId": "11953983124721783861"
     },
     "user_tz": -330
    },
    "id": "673d8daf",
    "outputId": "2c18c546-d44a-4b2e-ba2e-85d135159497"
   },
   "outputs": [],
   "source": [
    "#Write your code here to find the top 25 bigram frequency among the positive reviews \n",
    "top_25Posbigram = get_top_ngrams(pos_review.finalReviews.values.astype('U'),n=25,ngram = (2,2))\n",
    "top_25Posbigram = pd.DataFrame(top_25Posbigram,columns=['ngram','count'])\n",
    "top_25Posbigram"
   ]
  },
  {
   "cell_type": "code",
   "execution_count": 62,
   "metadata": {
    "editable": false,
    "execution": {
     "iopub.execute_input": "2022-07-19T03:03:20.373379Z",
     "iopub.status.busy": "2022-07-19T03:03:20.373031Z",
     "iopub.status.idle": "2022-07-19T03:03:20.748326Z",
     "shell.execute_reply": "2022-07-19T03:03:20.747145Z",
     "shell.execute_reply.started": "2022-07-19T03:03:20.373347Z"
    },
    "executionInfo": {
     "elapsed": 18,
     "status": "ok",
     "timestamp": 1657731362758,
     "user": {
      "displayName": "arpit doshi",
      "userId": "11953983124721783861"
     },
     "user_tz": -330
    },
    "id": "5f5864c1",
    "outputId": "a7a08a7b-80a3-48c9-9c1a-de64b687753e"
   },
   "outputs": [],
   "source": [
    "#plotting top 25 bigrams for positive sentiments\n",
    "createBarPlot(top_25Posbigram,'bigram','count','top 25 positive bigrams')"
   ]
  },
  {
   "cell_type": "code",
   "execution_count": 63,
   "metadata": {
    "editable": false,
    "execution": {
     "iopub.execute_input": "2022-07-19T03:03:20.750139Z",
     "iopub.status.busy": "2022-07-19T03:03:20.749824Z",
     "iopub.status.idle": "2022-07-19T03:03:21.077783Z",
     "shell.execute_reply": "2022-07-19T03:03:21.076550Z",
     "shell.execute_reply.started": "2022-07-19T03:03:20.750109Z"
    },
    "executionInfo": {
     "elapsed": 1368,
     "status": "ok",
     "timestamp": 1657731364112,
     "user": {
      "displayName": "arpit doshi",
      "userId": "11953983124721783861"
     },
     "user_tz": -330
    },
    "id": "f16fe212",
    "outputId": "7714662c-9bbb-4776-8928-239c79bd41b0"
   },
   "outputs": [],
   "source": [
    "#Write your code here to find the top 25 bigram frequency among the negative reviews \n",
    "top_25Negbigram = get_top_ngrams(neg_review.finalReviews.values.astype('U'),n=25,ngram = (2,2))\n",
    "top_25Negbigram = pd.DataFrame(top_25Negbigram,columns=['ngram','count'])\n",
    "top_25Negbigram"
   ]
  },
  {
   "cell_type": "code",
   "execution_count": 64,
   "metadata": {
    "editable": false,
    "execution": {
     "iopub.execute_input": "2022-07-19T03:03:21.079741Z",
     "iopub.status.busy": "2022-07-19T03:03:21.079421Z",
     "iopub.status.idle": "2022-07-19T03:03:21.491141Z",
     "shell.execute_reply": "2022-07-19T03:03:21.490275Z",
     "shell.execute_reply.started": "2022-07-19T03:03:21.079714Z"
    },
    "executionInfo": {
     "elapsed": 136,
     "status": "ok",
     "timestamp": 1657731364113,
     "user": {
      "displayName": "arpit doshi",
      "userId": "11953983124721783861"
     },
     "user_tz": -330
    },
    "id": "bb3058da",
    "outputId": "6fbc39d4-4b7d-4ca1-c9ac-b99b678010fe"
   },
   "outputs": [],
   "source": [
    "#plotting top 25 bigrams for negative sentiments\n",
    "createBarPlot(top_25Negbigram,'bigram','count','top 25 negative bigrams')"
   ]
  },
  {
   "cell_type": "code",
   "execution_count": 65,
   "metadata": {
    "editable": false,
    "execution": {
     "iopub.execute_input": "2022-07-19T03:03:21.493186Z",
     "iopub.status.busy": "2022-07-19T03:03:21.492414Z",
     "iopub.status.idle": "2022-07-19T03:03:24.190822Z",
     "shell.execute_reply": "2022-07-19T03:03:24.189627Z",
     "shell.execute_reply.started": "2022-07-19T03:03:21.493141Z"
    },
    "executionInfo": {
     "elapsed": 3066,
     "status": "ok",
     "timestamp": 1657731367047,
     "user": {
      "displayName": "arpit doshi",
      "userId": "11953983124721783861"
     },
     "user_tz": -330
    },
    "id": "09496389",
    "outputId": "4fb88c0b-cdbc-4172-e679-1e8d0e4ca0fc"
   },
   "outputs": [],
   "source": [
    "#Write your code here to find the top 25 trigram frequency among the positive reviews \n",
    "top_25Postrigram = get_top_ngrams(pos_review.finalReviews.values.astype('U'),n=25,ngram = (3,3))\n",
    "top_25Postrigram = pd.DataFrame(top_25Postrigram,columns=['ngram','count'])\n",
    "top_25Postrigram"
   ]
  },
  {
   "cell_type": "code",
   "execution_count": 66,
   "metadata": {
    "editable": false,
    "execution": {
     "iopub.execute_input": "2022-07-19T03:03:24.193237Z",
     "iopub.status.busy": "2022-07-19T03:03:24.192106Z",
     "iopub.status.idle": "2022-07-19T03:03:24.575506Z",
     "shell.execute_reply": "2022-07-19T03:03:24.574629Z",
     "shell.execute_reply.started": "2022-07-19T03:03:24.193166Z"
    },
    "executionInfo": {
     "elapsed": 32,
     "status": "ok",
     "timestamp": 1657731367049,
     "user": {
      "displayName": "arpit doshi",
      "userId": "11953983124721783861"
     },
     "user_tz": -330
    },
    "id": "37402a99",
    "outputId": "ee470a54-3797-43d1-bc00-ff04e82f1334"
   },
   "outputs": [],
   "source": [
    "#plotting top 25 trigrams for positive sentiments\n",
    "createBarPlot(top_25Postrigram,'trigram','count','top 25 positive trigrams')"
   ]
  },
  {
   "cell_type": "code",
   "execution_count": 67,
   "metadata": {
    "editable": false,
    "execution": {
     "iopub.execute_input": "2022-07-19T03:03:24.577863Z",
     "iopub.status.busy": "2022-07-19T03:03:24.576798Z",
     "iopub.status.idle": "2022-07-19T03:03:24.934096Z",
     "shell.execute_reply": "2022-07-19T03:03:24.932751Z",
     "shell.execute_reply.started": "2022-07-19T03:03:24.577825Z"
    },
    "executionInfo": {
     "elapsed": 1351,
     "status": "ok",
     "timestamp": 1657731368371,
     "user": {
      "displayName": "arpit doshi",
      "userId": "11953983124721783861"
     },
     "user_tz": -330
    },
    "id": "2d810e6e",
    "outputId": "7851569b-10d6-4582-9f0f-3046ed729e58"
   },
   "outputs": [],
   "source": [
    "#Write your code here to find the top 25 trigram frequency among the positive reviews \n",
    "top_25Negtrigram = get_top_ngrams(neg_review.finalReviews.values.astype('U'),n=25,ngram = (3,3))\n",
    "top_25Negtrigram = pd.DataFrame(top_25Negtrigram,columns=['ngram','count'])\n",
    "top_25Negtrigram"
   ]
  },
  {
   "cell_type": "code",
   "execution_count": 68,
   "metadata": {
    "editable": false,
    "execution": {
     "iopub.execute_input": "2022-07-19T03:03:24.936591Z",
     "iopub.status.busy": "2022-07-19T03:03:24.936102Z",
     "iopub.status.idle": "2022-07-19T03:03:25.335839Z",
     "shell.execute_reply": "2022-07-19T03:03:25.334470Z",
     "shell.execute_reply.started": "2022-07-19T03:03:24.936541Z"
    },
    "executionInfo": {
     "elapsed": 36,
     "status": "ok",
     "timestamp": 1657731368376,
     "user": {
      "displayName": "arpit doshi",
      "userId": "11953983124721783861"
     },
     "user_tz": -330
    },
    "id": "4c46dfa5",
    "outputId": "14071e9f-880e-4348-eaee-8d0a97569672"
   },
   "outputs": [],
   "source": [
    "#plotting top 25 trigrams for positive sentiments\n",
    "createBarPlot(top_25Negtrigram,'trigram','count','top 25 negative trigrams')"
   ]
  },
  {
   "cell_type": "code",
   "execution_count": 69,
   "metadata": {
    "editable": false,
    "execution": {
     "iopub.execute_input": "2022-07-19T03:03:25.337993Z",
     "iopub.status.busy": "2022-07-19T03:03:25.337503Z",
     "iopub.status.idle": "2022-07-19T03:03:25.359433Z",
     "shell.execute_reply": "2022-07-19T03:03:25.358119Z",
     "shell.execute_reply.started": "2022-07-19T03:03:25.337945Z"
    },
    "executionInfo": {
     "elapsed": 32,
     "status": "ok",
     "timestamp": 1657731368377,
     "user": {
      "displayName": "arpit doshi",
      "userId": "11953983124721783861"
     },
     "user_tz": -330
    },
    "id": "52cc19d7",
    "outputId": "20f5501e-30c1-4055-85c2-3fbf2e54c3f0"
   },
   "outputs": [],
   "source": [
    "#let's check the distribution of the user sentiments for all reviews again\n",
    "#distribution of user sentiments in percentage\n",
    "for i in range(len(reviewsData.user_sentiment.value_counts().to_list())):\n",
    "    print(reviewsData.user_sentiment.value_counts().index[i] + ' user sentiments across all reviews are {0}'.format(round(100*data.user_sentiment.value_counts()[i]/len(data.user_sentiment.index),2))+'%')"
   ]
  },
  {
   "cell_type": "markdown",
   "metadata": {
    "editable": false,
    "id": "f336b36c"
   },
   "source": [
    "# 4. Feature Extraction\n",
    "\n",
    "Convert the raw texts to a matrix of TF-IDF features\n",
    "\n",
    "**max_df** is used for removing terms that appear too frequently, also known as \"corpus-specific stop words\"\n",
    "max_df = 0.95 means \"ignore terms that appear in more than 95% of the complaints\"\n",
    "\n",
    "**min_df** is used for removing terms that appear too infrequently\n",
    "min_df = 2 means \"ignore terms that appear in less than 2 complaints\""
   ]
  },
  {
   "cell_type": "code",
   "execution_count": 70,
   "metadata": {
    "editable": false,
    "execution": {
     "iopub.execute_input": "2022-07-19T03:03:25.361371Z",
     "iopub.status.busy": "2022-07-19T03:03:25.361010Z",
     "iopub.status.idle": "2022-07-19T03:03:25.383514Z",
     "shell.execute_reply": "2022-07-19T03:03:25.382441Z",
     "shell.execute_reply.started": "2022-07-19T03:03:25.361327Z"
    }
   },
   "outputs": [],
   "source": [
    "reviewsData = reviewsData[['id','name','reviews_rating', 'reviews_username', 'reviewsText','finalReviews','user_sentiment']]\n",
    "print(reviewsData.shape)"
   ]
  },
  {
   "cell_type": "code",
   "execution_count": 71,
   "metadata": {
    "editable": false,
    "execution": {
     "iopub.execute_input": "2022-07-19T03:03:25.385328Z",
     "iopub.status.busy": "2022-07-19T03:03:25.384987Z",
     "iopub.status.idle": "2022-07-19T03:03:25.398473Z",
     "shell.execute_reply": "2022-07-19T03:03:25.397391Z",
     "shell.execute_reply.started": "2022-07-19T03:03:25.385296Z"
    },
    "executionInfo": {
     "elapsed": 27,
     "status": "ok",
     "timestamp": 1657731368379,
     "user": {
      "displayName": "arpit doshi",
      "userId": "11953983124721783861"
     },
     "user_tz": -330
    },
    "id": "56f4a454"
   },
   "outputs": [],
   "source": [
    "#convert categorical value to numerical for user_sentiment\n",
    "reviewsData.user_sentiment = reviewsData.user_sentiment.map({'Positive':1,'Negative':0})"
   ]
  },
  {
   "cell_type": "code",
   "execution_count": 72,
   "metadata": {
    "editable": false,
    "execution": {
     "iopub.execute_input": "2022-07-19T03:03:25.401775Z",
     "iopub.status.busy": "2022-07-19T03:03:25.400950Z",
     "iopub.status.idle": "2022-07-19T03:03:25.413083Z",
     "shell.execute_reply": "2022-07-19T03:03:25.411686Z",
     "shell.execute_reply.started": "2022-07-19T03:03:25.401716Z"
    },
    "executionInfo": {
     "elapsed": 30,
     "status": "ok",
     "timestamp": 1657731368382,
     "user": {
      "displayName": "arpit doshi",
      "userId": "11953983124721783861"
     },
     "user_tz": -330
    },
    "id": "6c0338a1",
    "outputId": "2a269613-9843-4d4e-8d12-cd89db8bdda2"
   },
   "outputs": [],
   "source": [
    "reviewsData.user_sentiment.value_counts()"
   ]
  },
  {
   "cell_type": "code",
   "execution_count": 73,
   "metadata": {
    "editable": false,
    "execution": {
     "iopub.execute_input": "2022-07-19T03:03:25.415916Z",
     "iopub.status.busy": "2022-07-19T03:03:25.415508Z",
     "iopub.status.idle": "2022-07-19T03:03:25.423866Z",
     "shell.execute_reply": "2022-07-19T03:03:25.422925Z",
     "shell.execute_reply.started": "2022-07-19T03:03:25.415883Z"
    },
    "executionInfo": {
     "elapsed": 32,
     "status": "ok",
     "timestamp": 1657731368389,
     "user": {
      "displayName": "arpit doshi",
      "userId": "11953983124721783861"
     },
     "user_tz": -330
    },
    "id": "d8281872"
   },
   "outputs": [],
   "source": [
    "#Write your code here to initialise the TfidfVectorizer \n",
    "tfIdf = TfidfVectorizer(stop_words='english',max_df = 0.90,min_df=2,binary=True,ngram_range=(1,2)) # only unigram and bigrams are allowed"
   ]
  },
  {
   "cell_type": "code",
   "execution_count": 74,
   "metadata": {
    "editable": false,
    "execution": {
     "iopub.execute_input": "2022-07-19T03:03:25.427267Z",
     "iopub.status.busy": "2022-07-19T03:03:25.425855Z",
     "iopub.status.idle": "2022-07-19T03:03:26.519484Z",
     "shell.execute_reply": "2022-07-19T03:03:26.518303Z",
     "shell.execute_reply.started": "2022-07-19T03:03:25.427227Z"
    },
    "executionInfo": {
     "elapsed": 3473,
     "status": "ok",
     "timestamp": 1657731371830,
     "user": {
      "displayName": "arpit doshi",
      "userId": "11953983124721783861"
     },
     "user_tz": -330
    },
    "id": "82f7a0e0"
   },
   "outputs": [],
   "source": [
    "#Write your code here to create the Document Term Matrix by transforming the complaints column present in df_clean.\n",
    "X_train_tfidf = tfIdf.fit_transform(reviewsData.finalReviews)\n",
    "y = reviewsData.user_sentiment"
   ]
  },
  {
   "cell_type": "code",
   "execution_count": 75,
   "metadata": {
    "editable": false,
    "execution": {
     "iopub.execute_input": "2022-07-19T03:03:26.521462Z",
     "iopub.status.busy": "2022-07-19T03:03:26.521097Z",
     "iopub.status.idle": "2022-07-19T03:03:26.528851Z",
     "shell.execute_reply": "2022-07-19T03:03:26.527604Z",
     "shell.execute_reply.started": "2022-07-19T03:03:26.521430Z"
    },
    "executionInfo": {
     "elapsed": 1661,
     "status": "ok",
     "timestamp": 1657731371831,
     "user": {
      "displayName": "arpit doshi",
      "userId": "11953983124721783861"
     },
     "user_tz": -330
    },
    "id": "411322a9",
    "outputId": "6a8b3072-218c-4dcf-a7e3-593e9d715013"
   },
   "outputs": [],
   "source": [
    "X_train_tfidf.shape"
   ]
  },
  {
   "cell_type": "code",
   "execution_count": 76,
   "metadata": {
    "editable": false,
    "execution": {
     "iopub.execute_input": "2022-07-19T03:03:26.530918Z",
     "iopub.status.busy": "2022-07-19T03:03:26.530519Z",
     "iopub.status.idle": "2022-07-19T03:03:26.540195Z",
     "shell.execute_reply": "2022-07-19T03:03:26.539283Z",
     "shell.execute_reply.started": "2022-07-19T03:03:26.530884Z"
    }
   },
   "outputs": [],
   "source": [
    "#print(tfIdf.get_feature_names)"
   ]
  },
  {
   "cell_type": "code",
   "execution_count": 77,
   "metadata": {
    "editable": false,
    "execution": {
     "iopub.execute_input": "2022-07-19T03:03:26.542208Z",
     "iopub.status.busy": "2022-07-19T03:03:26.541540Z",
     "iopub.status.idle": "2022-07-19T03:03:26.559738Z",
     "shell.execute_reply": "2022-07-19T03:03:26.558737Z",
     "shell.execute_reply.started": "2022-07-19T03:03:26.542172Z"
    },
    "executionInfo": {
     "elapsed": 1266,
     "status": "ok",
     "timestamp": 1657731371833,
     "user": {
      "displayName": "arpit doshi",
      "userId": "11953983124721783861"
     },
     "user_tz": -330
    },
    "id": "69da3ee6",
    "outputId": "50401970-4afd-4d39-9a26-b7e0e71ecdcc"
   },
   "outputs": [],
   "source": [
    "# split the dataset into train and test\n",
    "X_train,X_test,y_train,y_test = train_test_split(X_train_tfidf,y,test_size=0.3,random_state=42)\n",
    "print(X_train.shape,X_test.shape)\n",
    "print(y_train.shape,y_test.shape)"
   ]
  },
  {
   "cell_type": "code",
   "execution_count": 78,
   "metadata": {
    "editable": false,
    "execution": {
     "iopub.execute_input": "2022-07-19T03:03:26.561724Z",
     "iopub.status.busy": "2022-07-19T03:03:26.561116Z",
     "iopub.status.idle": "2022-07-19T03:03:26.569702Z",
     "shell.execute_reply": "2022-07-19T03:03:26.568331Z",
     "shell.execute_reply.started": "2022-07-19T03:03:26.561675Z"
    },
    "executionInfo": {
     "elapsed": 153,
     "status": "ok",
     "timestamp": 1657731371834,
     "user": {
      "displayName": "arpit doshi",
      "userId": "11953983124721783861"
     },
     "user_tz": -330
    },
    "id": "e923185d",
    "outputId": "2a11cc1b-3f60-4552-cbab-8cbfeab0c77d"
   },
   "outputs": [],
   "source": [
    "#we need to handle the class imbalance to handle the uneven distribution of user sentiments\n",
    "\n",
    "print(Counter(y_train))"
   ]
  },
  {
   "cell_type": "code",
   "execution_count": 79,
   "metadata": {
    "editable": false,
    "execution": {
     "iopub.execute_input": "2022-07-19T03:03:26.572178Z",
     "iopub.status.busy": "2022-07-19T03:03:26.571267Z",
     "iopub.status.idle": "2022-07-19T03:03:26.911266Z",
     "shell.execute_reply": "2022-07-19T03:03:26.910035Z",
     "shell.execute_reply.started": "2022-07-19T03:03:26.572138Z"
    },
    "executionInfo": {
     "elapsed": 134,
     "status": "ok",
     "timestamp": 1657731371834,
     "user": {
      "displayName": "arpit doshi",
      "userId": "11953983124721783861"
     },
     "user_tz": -330
    },
    "id": "a296af6f",
    "outputId": "7b63cc62-9a87-4cb6-a297-7aaf02ecd7ad"
   },
   "outputs": [],
   "source": [
    "#we will use SMOTE to handle class imbalance\n",
    "sm = SMOTE()\n",
    "X_train,y_train = sm.fit_resample(X_train,y_train)\n",
    "print(Counter(y_train))"
   ]
  },
  {
   "cell_type": "code",
   "execution_count": 80,
   "metadata": {
    "editable": false,
    "execution": {
     "iopub.execute_input": "2022-07-19T03:03:26.914176Z",
     "iopub.status.busy": "2022-07-19T03:03:26.912872Z",
     "iopub.status.idle": "2022-07-19T03:03:26.920862Z",
     "shell.execute_reply": "2022-07-19T03:03:26.919625Z",
     "shell.execute_reply.started": "2022-07-19T03:03:26.914127Z"
    },
    "executionInfo": {
     "elapsed": 119,
     "status": "ok",
     "timestamp": 1657731371835,
     "user": {
      "displayName": "arpit doshi",
      "userId": "11953983124721783861"
     },
     "user_tz": -330
    },
    "id": "44b887f0",
    "outputId": "eac10495-9387-4a33-c7da-2957eb217188"
   },
   "outputs": [],
   "source": [
    "print(X_train.shape)"
   ]
  },
  {
   "cell_type": "markdown",
   "metadata": {
    "editable": false,
    "id": "660efc5c"
   },
   "source": [
    "# 5. Model Building using superwised learning\n",
    "\n",
    "We will create below superwised models and will select the best model with higher accuracy\n",
    "\n",
    "1. Logistic regression\n",
    "2. Random forest\n",
    "3. XGBoost\n",
    "4. Naive Bayes"
   ]
  },
  {
   "cell_type": "code",
   "execution_count": 81,
   "metadata": {
    "editable": false,
    "execution": {
     "iopub.execute_input": "2022-07-19T03:03:26.923079Z",
     "iopub.status.busy": "2022-07-19T03:03:26.922595Z",
     "iopub.status.idle": "2022-07-19T03:03:26.944358Z",
     "shell.execute_reply": "2022-07-19T03:03:26.943116Z",
     "shell.execute_reply.started": "2022-07-19T03:03:26.923034Z"
    },
    "executionInfo": {
     "elapsed": 107,
     "status": "ok",
     "timestamp": 1657731371836,
     "user": {
      "displayName": "arpit doshi",
      "userId": "11953983124721783861"
     },
     "user_tz": -330
    },
    "id": "5ded6367"
   },
   "outputs": [],
   "source": [
    "#create a model class with all relevant method for model evaluation\n",
    "\n",
    "class SuperWisedModelBuilder():\n",
    "    \n",
    "    #initialize the class object\n",
    "    def __init__(self, model, X_train,X_test,y_train,y_test):\n",
    "        self.model = model\n",
    "        self.X_train = X_train\n",
    "        self.y_train = y_train\n",
    "        self.X_test = X_test\n",
    "        self.y_test = y_test\n",
    "    \n",
    "    # train the model\n",
    "    def train_model(self):\n",
    "        self.model.fit(self.X_train,self.y_train)\n",
    "        return self.model.predict(X_test)\n",
    "    \n",
    "    #evaluate the model\n",
    "    def evaluate_model(self,y_pred_class):\n",
    "        y_pred_prob = self.model.predict_proba(self.X_test)[:,1]\n",
    "        self.printClassification_report(y_pred_class)\n",
    "        print('######'*20)\n",
    "        print('')\n",
    "        self.metricsResult = self.evaluate_metrics(y_pred_class,y_pred_prob)\n",
    "        print('')\n",
    "        print('######'*20)\n",
    "        print('')\n",
    "        print(\"Confusion matrix\")\n",
    "        self.confusion_matrix(y_pred_class)\n",
    "        print('######'*20)\n",
    "        print('')\n",
    "        print('ROC Curve')\n",
    "        self.plot_roc_curve()\n",
    "#         print('Precision- Recall Curve')\n",
    "#         self.plot_precision_recall_vs_thresold(y_pred_prob)\n",
    "#         print('######'*20)\n",
    "        return self.metricsResult   \n",
    "\n",
    "    def printClassification_report(self,y_pred_class):\n",
    "        print(\"######\"*20)\n",
    "        print('')\n",
    "        print('Classification report')\n",
    "        print(metrics.classification_report(self.y_test, y_pred_class))\n",
    "    \n",
    "        \n",
    "        \n",
    "    def evaluate_metrics(self,y_pred_class,y_pred_prob):\n",
    "        metricsResult = dict()\n",
    "        modelAccuracy = metrics.accuracy_score(self.y_test,y_pred_class)\n",
    "        modelPrecision = metrics.precision_score(self.y_test,y_pred_class)\n",
    "        modelRecall = metrics.recall_score(self.y_test,y_pred_class)\n",
    "        modelRoCAuCScore = metrics.roc_auc_score(self.y_test,y_pred_prob)\n",
    "        modelf1Score = metrics.f1_score(self.y_test,y_pred_class)\n",
    "        \n",
    "        print(\"model accuracy is {0}%\".format(round(100*modelAccuracy,2)))\n",
    "        print(\"model precision is {0}%\".format(round(100*modelPrecision,2)))\n",
    "        print(\"model recall is {0}%\".format(round(100*modelRecall,2)))\n",
    "        print(\"model f1-score  is {0}%\".format(round(100*modelf1Score,2)))\n",
    "        print(\"model ROC-AUC score is {0}%\".format(round(100*modelRoCAuCScore,2)))\n",
    "    \n",
    "        metricsResult['accuracy'] = modelAccuracy\n",
    "        metricsResult['precision'] = modelPrecision\n",
    "        metricsResult['recall'] = modelRecall\n",
    "        metricsResult['f1-score'] = modelf1Score\n",
    "        metricsResult['ROC-AUC score'] = modelRoCAuCScore\n",
    "        \n",
    "        return metricsResult\n",
    "    \n",
    "    def confusion_matrix(self, y_pred_class):\n",
    "        confusion_matrix = metrics.confusion_matrix(self.y_test, y_pred_class)\n",
    "        self.plot_confusion_matrix(confusion_matrix,self.model.classes_)\n",
    "        \n",
    "        \n",
    "    def plot_confusion_matrix(self,data, classes_):\n",
    "        sns.set(color_codes=True)\n",
    "        plt.figure(figsize=(5,4))\n",
    "        plt.title(\"Confusion Matrix\")\n",
    "        group_names = ['True Neg','False Pos','False Neg','True Pos']\n",
    "        group_counts = ['{0:0.0f}'.format(value) for value in\n",
    "                data.flatten()]\n",
    "        group_percentages = ['{0:.2%}'.format(value) for value in\n",
    "                     data.flatten()/np.sum(data)]\n",
    "        labels = [f'{v1}\\n{v2}\\n{v3}' for v1, v2 ,v3 in zip(group_names,group_counts,group_percentages)]\n",
    "        labels = np.asarray(labels).reshape(2,2)\n",
    "        ax = sns.heatmap(data/np.sum(data), annot=labels, fmt='', cmap='Blues')\n",
    "        ax.set_xticklabels(classes_)\n",
    "        ax.set_yticklabels(classes_)\n",
    "        ax.set(ylabel=\"True Values\", xlabel=\"Predicted Values\")\n",
    "        plt.show()\n",
    "    \n",
    "    def plot_roc_curve(self):\n",
    "        metrics.plot_roc_curve(self.model,self.X_test,self.y_test)\n",
    "        \n",
    "    def plot_precision_recall_vs_thresold(self,y_pred_prob):\n",
    "        pre, rec, thr = metrics.precision_recall_curve(self.y_test, y_pred_prob)\n",
    "        plt.figure(figsize=(8,4))\n",
    "        plt.plot(thr, pre[:-1], label='precision')\n",
    "        plt.plot(thr, rec[1:], label='recall')\n",
    "        plt.xlabel('Threshold')\n",
    "        plt.title('Precision & Recall vs Threshold', c='r', size=16)\n",
    "        plt.legend()\n",
    "        plt.show() \n",
    "        "
   ]
  },
  {
   "cell_type": "code",
   "execution_count": 82,
   "metadata": {
    "editable": false,
    "execution": {
     "iopub.execute_input": "2022-07-19T03:03:26.961291Z",
     "iopub.status.busy": "2022-07-19T03:03:26.960762Z",
     "iopub.status.idle": "2022-07-19T03:03:26.967414Z",
     "shell.execute_reply": "2022-07-19T03:03:26.965985Z",
     "shell.execute_reply.started": "2022-07-19T03:03:26.961252Z"
    },
    "executionInfo": {
     "elapsed": 103,
     "status": "ok",
     "timestamp": 1657731371836,
     "user": {
      "displayName": "arpit doshi",
      "userId": "11953983124721783861"
     },
     "user_tz": -330
    },
    "id": "c4WdGYgvfjuD"
   },
   "outputs": [],
   "source": [
    "def save_object(obj, filename):\n",
    "    filename = \"./\"+filename+'.pkl'\n",
    "    pickle.dump(obj, open(filename, 'wb'))"
   ]
  },
  {
   "cell_type": "code",
   "execution_count": 83,
   "metadata": {
    "editable": false,
    "execution": {
     "iopub.execute_input": "2022-07-19T03:03:26.969809Z",
     "iopub.status.busy": "2022-07-19T03:03:26.969405Z",
     "iopub.status.idle": "2022-07-19T03:03:27.035565Z",
     "shell.execute_reply": "2022-07-19T03:03:27.034691Z",
     "shell.execute_reply.started": "2022-07-19T03:03:26.969775Z"
    }
   },
   "outputs": [],
   "source": [
    "#save tfIdf vector for future use\n",
    "save_object(tfIdf,'tfIdf vector')"
   ]
  },
  {
   "cell_type": "markdown",
   "metadata": {
    "editable": false,
    "id": "14fcc9fa"
   },
   "source": [
    "# Logistic Regression"
   ]
  },
  {
   "cell_type": "code",
   "execution_count": 84,
   "metadata": {
    "editable": false,
    "execution": {
     "iopub.execute_input": "2022-07-19T03:03:27.038111Z",
     "iopub.status.busy": "2022-07-19T03:03:27.037615Z",
     "iopub.status.idle": "2022-07-19T03:03:28.094358Z",
     "shell.execute_reply": "2022-07-19T03:03:28.093559Z",
     "shell.execute_reply.started": "2022-07-19T03:03:27.038066Z"
    },
    "executionInfo": {
     "elapsed": 614,
     "status": "ok",
     "timestamp": 1657707293195,
     "user": {
      "displayName": "arpit doshi",
      "userId": "11953983124721783861"
     },
     "user_tz": -330
    },
    "id": "95836da8",
    "outputId": "03dd68ed-5108-453d-8b62-a06217103aa7"
   },
   "outputs": [],
   "source": [
    "model = LogisticRegression(random_state=42,solver='liblinear', class_weight=\"balanced\")\n",
    "lr_model = SuperWisedModelBuilder(model,X_train,X_test,y_train,y_test)\n",
    "%time y_pred_class = lr_model.train_model()\n",
    "result_metrics = lr_model.evaluate_model(y_pred_class)"
   ]
  },
  {
   "cell_type": "markdown",
   "metadata": {
    "editable": false,
    "id": "c8d35604"
   },
   "source": [
    "    f1 score is almot 94% with resample data.Let's try hyperparameter tuning"
   ]
  },
  {
   "cell_type": "code",
   "execution_count": 85,
   "metadata": {
    "editable": false,
    "execution": {
     "iopub.execute_input": "2022-07-19T03:03:28.096413Z",
     "iopub.status.busy": "2022-07-19T03:03:28.095456Z",
     "iopub.status.idle": "2022-07-19T03:03:28.101592Z",
     "shell.execute_reply": "2022-07-19T03:03:28.100383Z",
     "shell.execute_reply.started": "2022-07-19T03:03:28.096375Z"
    },
    "executionInfo": {
     "elapsed": 12341,
     "status": "ok",
     "timestamp": 1657707334251,
     "user": {
      "displayName": "arpit doshi",
      "userId": "11953983124721783861"
     },
     "user_tz": -330
    },
    "id": "65b21d78",
    "outputId": "8a40682b-eaad-4124-87bf-46c316cad337"
   },
   "outputs": [],
   "source": [
    "# hyperparameter tuning\n",
    "# grid = {\"C\": [100, 10, 5, 4, 3, 2, 1, 1.0, 0.1, 0.01],\n",
    "#                 \"solver\": [\"liblinear\"],'penalty' : ['l2']}\n",
    "\n",
    "# lr_hpm = GridSearchCV(LogisticRegression(random_state=42),\n",
    "#                                 param_grid=grid,\n",
    "#                                 cv=4,\n",
    "#                                 verbose=True,\n",
    "#                                 n_jobs=-1)\n",
    "\n",
    "# # Fit random hyperparameter search model\n",
    "# lr_hpm.fit(X_train, y_train)\n",
    "# #find best estimators\n",
    "# lr_hpm.best_estimator_"
   ]
  },
  {
   "cell_type": "code",
   "execution_count": 86,
   "metadata": {
    "editable": false,
    "execution": {
     "iopub.execute_input": "2022-07-19T03:03:28.103806Z",
     "iopub.status.busy": "2022-07-19T03:03:28.103320Z",
     "iopub.status.idle": "2022-07-19T03:03:30.115314Z",
     "shell.execute_reply": "2022-07-19T03:03:30.114393Z",
     "shell.execute_reply.started": "2022-07-19T03:03:28.103762Z"
    },
    "executionInfo": {
     "elapsed": 2620,
     "status": "ok",
     "timestamp": 1657707340914,
     "user": {
      "displayName": "arpit doshi",
      "userId": "11953983124721783861"
     },
     "user_tz": -330
    },
    "id": "35467cf3",
    "outputId": "9d1a5baa-c326-4f31-82bd-4ec4a4f0ae40"
   },
   "outputs": [],
   "source": [
    "#let's train the model with this estimator and evalute the model\n",
    "lr_model_hpt = LogisticRegression(C=100, random_state=42, solver='liblinear')\n",
    "lr_modelBuilder = SuperWisedModelBuilder(lr_model_hpt,X_train,X_test,y_train,y_test)\n",
    "%time y_pred_class = lr_modelBuilder.train_model()\n",
    "lr_result_metrics  = lr_modelBuilder.evaluate_model(y_pred_class)"
   ]
  },
  {
   "cell_type": "markdown",
   "metadata": {
    "editable": false,
    "id": "7d91c29b"
   },
   "source": [
    "    we can see not much difference on f1-score after hyperparameter tuning also f1-score is on lower side for class 0 .Let's try other models"
   ]
  },
  {
   "cell_type": "code",
   "execution_count": 87,
   "metadata": {
    "editable": false,
    "execution": {
     "iopub.execute_input": "2022-07-19T03:03:30.117469Z",
     "iopub.status.busy": "2022-07-19T03:03:30.116563Z",
     "iopub.status.idle": "2022-07-19T03:03:30.122360Z",
     "shell.execute_reply": "2022-07-19T03:03:30.121562Z",
     "shell.execute_reply.started": "2022-07-19T03:03:30.117432Z"
    },
    "executionInfo": {
     "elapsed": 842,
     "status": "ok",
     "timestamp": 1657707405856,
     "user": {
      "displayName": "arpit doshi",
      "userId": "11953983124721783861"
     },
     "user_tz": -330
    },
    "id": "mFgKgGjnDs-H"
   },
   "outputs": [],
   "source": [
    "save_object(lr_model_hpt,'Logistic Regression')"
   ]
  },
  {
   "cell_type": "markdown",
   "metadata": {
    "editable": false,
    "id": "2068c511"
   },
   "source": [
    "# Decision Tree"
   ]
  },
  {
   "cell_type": "code",
   "execution_count": 88,
   "metadata": {
    "editable": false,
    "execution": {
     "iopub.execute_input": "2022-07-19T03:03:30.124444Z",
     "iopub.status.busy": "2022-07-19T03:03:30.123552Z",
     "iopub.status.idle": "2022-07-19T03:03:32.582866Z",
     "shell.execute_reply": "2022-07-19T03:03:32.581727Z",
     "shell.execute_reply.started": "2022-07-19T03:03:30.124393Z"
    },
    "executionInfo": {
     "elapsed": 3472,
     "status": "ok",
     "timestamp": 1657707418592,
     "user": {
      "displayName": "arpit doshi",
      "userId": "11953983124721783861"
     },
     "user_tz": -330
    },
    "id": "97141c7d",
    "outputId": "2459a794-7569-4d7b-ce93-a2fa4daa327c"
   },
   "outputs": [],
   "source": [
    "dt = DecisionTreeClassifier(random_state=42,criterion=\"gini\", max_depth=10)\n",
    "dt_model = SuperWisedModelBuilder(dt,X_train,X_test,y_train,y_test)\n",
    "%time y_pred_class = dt_model.train_model()\n",
    "dt_result_metrics = dt_model.evaluate_model(y_pred_class)"
   ]
  },
  {
   "cell_type": "markdown",
   "metadata": {
    "editable": false,
    "id": "2915fa52"
   },
   "source": [
    "    f1 score is lower as compare to logistic regression.Let's do hyperparameter tuning"
   ]
  },
  {
   "cell_type": "code",
   "execution_count": 89,
   "metadata": {
    "editable": false,
    "execution": {
     "iopub.execute_input": "2022-07-19T03:03:32.584690Z",
     "iopub.status.busy": "2022-07-19T03:03:32.584242Z",
     "iopub.status.idle": "2022-07-19T03:03:32.589973Z",
     "shell.execute_reply": "2022-07-19T03:03:32.588611Z",
     "shell.execute_reply.started": "2022-07-19T03:03:32.584638Z"
    },
    "executionInfo": {
     "elapsed": 904872,
     "status": "ok",
     "timestamp": 1657708334325,
     "user": {
      "displayName": "arpit doshi",
      "userId": "11953983124721783861"
     },
     "user_tz": -330
    },
    "id": "3c39f961",
    "outputId": "16e22ba9-ce77-499e-ef8c-92b014500dd7"
   },
   "outputs": [],
   "source": [
    "#hyperparameter tuning\n",
    "# param = { \"max_depth\": [3, 5, 10,15],\n",
    "#            \"min_samples_split\": np.arange(3, 20, 3),\n",
    "#            \"min_samples_leaf\": np.arange(1, 20, 4),\n",
    "#         \"criterion\":['gini','entropy']}\n",
    "\n",
    "# gs = GridSearchCV(DecisionTreeClassifier(random_state=42),param_grid=param,n_jobs=-1,verbose=True,cv=4)\n",
    "# %time gs.fit(X_train,y_train)\n",
    "# print(gs.best_estimator_)"
   ]
  },
  {
   "cell_type": "code",
   "execution_count": 90,
   "metadata": {
    "editable": false,
    "execution": {
     "iopub.execute_input": "2022-07-19T03:03:32.592499Z",
     "iopub.status.busy": "2022-07-19T03:03:32.592035Z",
     "iopub.status.idle": "2022-07-19T03:03:35.969385Z",
     "shell.execute_reply": "2022-07-19T03:03:35.968354Z",
     "shell.execute_reply.started": "2022-07-19T03:03:32.592454Z"
    },
    "executionInfo": {
     "elapsed": 4249,
     "status": "ok",
     "timestamp": 1657708340908,
     "user": {
      "displayName": "arpit doshi",
      "userId": "11953983124721783861"
     },
     "user_tz": -330
    },
    "id": "578a1cdc",
    "outputId": "396eafe2-cf14-4fbc-dee9-5663dfd3be6d"
   },
   "outputs": [],
   "source": [
    "# CPU times: user 3 µs, sys: 0 ns, total: 3 µs\n",
    "# Wall time: 7.15 µs\n",
    "# Fitting 4 folds for each of 240 candidates, totalling 960 fits\n",
    "# best estimator is DecisionTreeClassifier(max_depth=15, min_samples_split=3, random_state=42)\n",
    "#train dt model with best parameters\n",
    "dt_model_hpt = DecisionTreeClassifier(max_depth=15, min_samples_split=3, random_state=42)\n",
    "dt_modelBuilder = SuperWisedModelBuilder(dt_model_hpt,X_train,X_test,y_train,y_test)\n",
    "%time y_pred_class = dt_modelBuilder.train_model()\n",
    "dt_result_metrics = dt_modelBuilder.evaluate_model(y_pred_class)"
   ]
  },
  {
   "cell_type": "code",
   "execution_count": 91,
   "metadata": {
    "editable": false,
    "execution": {
     "iopub.execute_input": "2022-07-19T03:03:35.971118Z",
     "iopub.status.busy": "2022-07-19T03:03:35.970694Z",
     "iopub.status.idle": "2022-07-19T03:03:35.978923Z",
     "shell.execute_reply": "2022-07-19T03:03:35.977731Z",
     "shell.execute_reply.started": "2022-07-19T03:03:35.971086Z"
    },
    "executionInfo": {
     "elapsed": 788,
     "status": "ok",
     "timestamp": 1657708381311,
     "user": {
      "displayName": "arpit doshi",
      "userId": "11953983124721783861"
     },
     "user_tz": -330
    },
    "id": "8392c013"
   },
   "outputs": [],
   "source": [
    "save_object(dt_model_hpt,'DecisionTree Model')"
   ]
  },
  {
   "cell_type": "code",
   "execution_count": 92,
   "metadata": {
    "editable": false,
    "execution": {
     "iopub.execute_input": "2022-07-19T03:03:35.982547Z",
     "iopub.status.busy": "2022-07-19T03:03:35.981636Z",
     "iopub.status.idle": "2022-07-19T03:04:06.929343Z",
     "shell.execute_reply": "2022-07-19T03:04:06.928533Z",
     "shell.execute_reply.started": "2022-07-19T03:03:35.982500Z"
    },
    "executionInfo": {
     "elapsed": 54997,
     "status": "ok",
     "timestamp": 1657708932566,
     "user": {
      "displayName": "arpit doshi",
      "userId": "11953983124721783861"
     },
     "user_tz": -330
    },
    "id": "855da561",
    "outputId": "06d7722d-26a0-4447-e333-893f62c0ba26"
   },
   "outputs": [],
   "source": [
    "rf = RandomForestClassifier(criterion = 'gini',random_state=42,n_jobs=-1)\n",
    "rf_model = SuperWisedModelBuilder(rf,X_train,X_test,y_train,y_test)\n",
    "%time y_pred_class = rf_model.train_model()\n",
    "rf_result_metrics = rf_model.evaluate_model(y_pred_class)"
   ]
  },
  {
   "cell_type": "code",
   "execution_count": 93,
   "metadata": {
    "editable": false,
    "execution": {
     "iopub.execute_input": "2022-07-19T03:04:06.931622Z",
     "iopub.status.busy": "2022-07-19T03:04:06.930577Z",
     "iopub.status.idle": "2022-07-19T03:04:06.936336Z",
     "shell.execute_reply": "2022-07-19T03:04:06.935134Z",
     "shell.execute_reply.started": "2022-07-19T03:04:06.931580Z"
    },
    "executionInfo": {
     "elapsed": 8099278,
     "status": "ok",
     "timestamp": 1657720170521,
     "user": {
      "displayName": "arpit doshi",
      "userId": "11953983124721783861"
     },
     "user_tz": -330
    },
    "id": "1493eb4e",
    "outputId": "f4040442-2a88-4933-f4a9-b30c29bb2ab9"
   },
   "outputs": [],
   "source": [
    "#hyperparameter tuning\n",
    "# params = {\"n_estimators\": np.arange(25, 125, 25),\n",
    "#            \"max_depth\": [3, 5, 10],\n",
    "#            \"min_samples_split\": np.arange(2, 20, 2),\n",
    "#            \"min_samples_leaf\": np.arange(1, 20, 2),\n",
    "#           \"criterion\":['gini','entropy']}\n",
    "\n",
    "# rf_hpt = GridSearchCV(RandomForestClassifier(oob_score=True,random_state=42),param_grid=params,cv=4,n_jobs=-1,verbose=True) \n",
    "# %time rf_hpt.fit(X_train,y_train)\n",
    "# #find best estimator\n",
    "# print(rf_hpt.best_estimator_)"
   ]
  },
  {
   "cell_type": "code",
   "execution_count": 94,
   "metadata": {
    "editable": false,
    "execution": {
     "iopub.execute_input": "2022-07-19T03:04:06.938698Z",
     "iopub.status.busy": "2022-07-19T03:04:06.938220Z",
     "iopub.status.idle": "2022-07-19T03:04:12.012803Z",
     "shell.execute_reply": "2022-07-19T03:04:12.011747Z",
     "shell.execute_reply.started": "2022-07-19T03:04:06.938642Z"
    },
    "executionInfo": {
     "elapsed": 4958,
     "status": "ok",
     "timestamp": 1657720434105,
     "user": {
      "displayName": "arpit doshi",
      "userId": "11953983124721783861"
     },
     "user_tz": -330
    },
    "id": "8d1ae024",
    "outputId": "7a810268-bbee-49f4-d3da-f2a83512e42e"
   },
   "outputs": [],
   "source": [
    "rf_model_hpt = RandomForestClassifier(max_depth=10, min_samples_split=8, oob_score=True,random_state=42)\n",
    "rf_modelBuilder = SuperWisedModelBuilder(rf_model_hpt,X_train,X_test,y_train,y_test)\n",
    "%time y_pred_class = rf_modelBuilder.train_model()\n",
    "rf_result_metrics = rf_modelBuilder.evaluate_model(y_pred_class)"
   ]
  },
  {
   "cell_type": "code",
   "execution_count": 95,
   "metadata": {
    "editable": false,
    "execution": {
     "iopub.execute_input": "2022-07-19T03:04:12.014709Z",
     "iopub.status.busy": "2022-07-19T03:04:12.014355Z",
     "iopub.status.idle": "2022-07-19T03:04:12.028366Z",
     "shell.execute_reply": "2022-07-19T03:04:12.027212Z",
     "shell.execute_reply.started": "2022-07-19T03:04:12.014669Z"
    },
    "executionInfo": {
     "elapsed": 577,
     "status": "ok",
     "timestamp": 1657720446571,
     "user": {
      "displayName": "arpit doshi",
      "userId": "11953983124721783861"
     },
     "user_tz": -330
    },
    "id": "40153683"
   },
   "outputs": [],
   "source": [
    "save_object(rf_model_hpt,\"Random Forest Classifier\")"
   ]
  },
  {
   "cell_type": "markdown",
   "metadata": {
    "editable": false,
    "id": "jcd50bPy1rWF"
   },
   "source": [
    "f1 score is looking good but for negative class it is not above 50%"
   ]
  },
  {
   "cell_type": "markdown",
   "metadata": {
    "editable": false,
    "id": "78boeeM539PW"
   },
   "source": [
    "# XGBoost"
   ]
  },
  {
   "cell_type": "code",
   "execution_count": 96,
   "metadata": {
    "editable": false,
    "execution": {
     "iopub.execute_input": "2022-07-19T03:04:12.031686Z",
     "iopub.status.busy": "2022-07-19T03:04:12.030931Z",
     "iopub.status.idle": "2022-07-19T03:04:31.731203Z",
     "shell.execute_reply": "2022-07-19T03:04:31.729909Z",
     "shell.execute_reply.started": "2022-07-19T03:04:12.031637Z"
    },
    "executionInfo": {
     "elapsed": 85964,
     "status": "ok",
     "timestamp": 1657721550967,
     "user": {
      "displayName": "arpit doshi",
      "userId": "11953983124721783861"
     },
     "user_tz": -330
    },
    "id": "dMX-kCHL1pBL",
    "outputId": "556133bb-fa92-4d05-a327-12ddee177d7f"
   },
   "outputs": [],
   "source": [
    "xgb_ = xgb.XGBClassifier(n_jobs=-1,random_state=42,learning_rate=0.1,objective = 'binary:logistic')\n",
    "xgb_model = SuperWisedModelBuilder(xgb_,X_train,X_test,y_train,y_test)\n",
    "%time y_pred_class = xgb_model.train_model()\n",
    "xgb_metrics = xgb_model.evaluate_model(y_pred_class)"
   ]
  },
  {
   "cell_type": "code",
   "execution_count": 97,
   "metadata": {
    "editable": false,
    "execution": {
     "iopub.execute_input": "2022-07-19T03:04:31.733183Z",
     "iopub.status.busy": "2022-07-19T03:04:31.732827Z",
     "iopub.status.idle": "2022-07-19T03:04:31.738803Z",
     "shell.execute_reply": "2022-07-19T03:04:31.737531Z",
     "shell.execute_reply.started": "2022-07-19T03:04:31.733151Z"
    },
    "executionInfo": {
     "elapsed": 9,
     "status": "error",
     "timestamp": 1657728988165,
     "user": {
      "displayName": "arpit doshi",
      "userId": "11953983124721783861"
     },
     "user_tz": -330
    },
    "id": "2b57d40d",
    "outputId": "065f51ce-b9c9-41e3-c3e1-7e87ffa18695"
   },
   "outputs": [],
   "source": [
    "#hyperparameter tuning\n",
    "# params = {\n",
    "#         'n_estimators' : [100, 200, 300], # no of trees \n",
    "#         'learning_rate' : [0.01, 0.02, 0.05, 0.1, 0.25],  # eta\n",
    "#         'min_child_weight': [1, 5, 7, 10],\n",
    "#         'gamma': [0.1, 0.5, 1, 1.5, 5],\n",
    "#         'subsample': [0.6, 0.8, 1.0],\n",
    "#         'colsample_bytree': [0.6, 0.8, 1.0],\n",
    "#         'max_depth': [3, 5, 10]\n",
    "#         }\n",
    "\n",
    "\n",
    "# random_search = RandomizedSearchCV(xgb.XGBClassifier(random_state=42), param_distributions=params, n_iter=50,scoring='accuracy', n_jobs=-1, cv=4, verbose=3, random_state=42)\n",
    "# %time random_search.fit(X_train,y_train)\n",
    "# #find the best estimator\n",
    "# print(random_search.best_estimator_)\n"
   ]
  },
  {
   "cell_type": "markdown",
   "metadata": {
    "editable": false
   },
   "source": [
    "Fitting 4 folds for each of 50 candidates, totalling 200 fits\n",
    "[CV 1/4] END colsample_bytree=1.0, gamma=1.5, learning_rate=0.05, max_depth=3, min_child_weight=10, n_estimators=300, subsample=0.8;, score=0.830 total time=  51.4s\n",
    "[CV 4/4] END colsample_bytree=1.0, gamma=1.5, learning_rate=0.05, max_depth=3, min_child_weight=10, n_estimators=300, subsample=0.8;, score=0.897 total time=  46.6s\n",
    "[CV 2/4] END colsample_bytree=1.0, gamma=5, learning_rate=0.01, max_depth=5, min_child_weight=1, n_estimators=300, subsample=0.8;, score=0.870 total time= 1.8min\n",
    "[CV 3/4] END colsample_bytree=1.0, gamma=5, learning_rate=0.01, max_depth=5, min_child_weight=1, n_estimators=300, subsample=0.8;, score=0.870 total time= 1.8min\n",
    "[CV 1/4] END colsample_bytree=0.6, gamma=0.5, learning_rate=0.05, max_depth=10, min_child_weight=10, n_estimators=200, subsample=1.0;, score=0.850 total time= 1.1min\n",
    "[CV 3/4] END colsample_bytree=0.6, gamma=0.5, learning_rate=0.05, max_depth=10, min_child_weight=10, n_estimators=200, subsample=1.0;, score=0.921 total time= 1.1min\n",
    "[CV 1/4] END colsample_bytree=0.8, gamma=5, learning_rate=0.25, max_depth=10, min_child_weight=7, n_estimators=300, subsample=1.0;, score=0.878 total time= 2.0min\n",
    "[CV 3/4] END colsample_bytree=0.8, gamma=5, learning_rate=0.25, max_depth=10, min_child_weight=7, n_estimators=300, subsample=1.0;, score=0.946 total time= 2.0min\n",
    "[CV 1/4] END colsample_bytree=0.8, gamma=5, learning_rate=0.1, max_depth=5, min_child_weight=1, n_estimators=300, subsample=0.6;, score=0.864 total time= 1.2min\n",
    "[CV 3/4] END colsample_bytree=0.8, gamma=5, learning_rate=0.1, max_depth=5, min_child_weight=1, n_estimators=300, subsample=0.6;, score=0.933 total time= 1.2min\n",
    "[CV 1/4] END colsample_bytree=0.8, gamma=5, learning_rate=0.1, max_depth=3, min_child_weight=1, n_estimators=300, subsample=0.8;, score=0.849 total time=  50.9s\n",
    "[CV 3/4] END colsample_bytree=0.8, gamma=5, learning_rate=0.1, max_depth=3, min_child_weight=1, n_estimators=300, subsample=0.8;, score=0.920 total time=  51.2s\n",
    "[CV 1/4] END colsample_bytree=0.8, gamma=0.5, learning_rate=0.25, max_depth=10, min_child_weight=10, n_estimators=100, subsample=0.8;, score=0.868 total time=  36.5s\n",
    "[CV 3/4] END colsample_bytree=0.8, gamma=0.5, learning_rate=0.25, max_depth=10, min_child_weight=10, n_estimators=100, subsample=0.8;, score=0.932 total time=  37.3s\n",
    "[CV 1/4] END colsample_bytree=0.8, gamma=0.1, learning_rate=0.1, max_depth=5, min_child_weight=10, n_estimators=200, subsample=1.0;, score=0.846 total time=  44.8s\n",
    "[CV 3/4] END colsample_bytree=0.8, gamma=0.1, learning_rate=0.1, max_depth=5, min_child_weight=10, n_estimators=200, subsample=1.0;, score=0.920 total time=  45.2s\n",
    "[CV 1/4] END colsample_bytree=1.0, gamma=0.1, learning_rate=0.1, max_depth=3, min_child_weight=5, n_estimators=100, subsample=0.8;, score=0.821 total time=  17.5s\n",
    "[CV 3/4] END colsample_bytree=1.0, gamma=0.1, learning_rate=0.1, max_depth=3, min_child_weight=5, n_estimators=100, subsample=0.8;, score=0.889 total time=  17.4s\n",
    "[CV 1/4] END colsample_bytree=1.0, gamma=0.5, learning_rate=0.1, max_depth=3, min_child_weight=1, n_estimators=100, subsample=0.8;, score=0.820 total time=  21.2s\n",
    "[CV 3/4] END colsample_bytree=1.0, gamma=0.5, learning_rate=0.1, max_depth=3, min_child_weight=1, n_estimators=100, subsample=0.8;, score=0.887 total time=  21.7s\n",
    "[CV 1/4] END colsample_bytree=0.6, gamma=0.1, learning_rate=0.25, max_depth=3, min_child_weight=10, n_estimators=300, subsample=0.8;, score=0.863 total time=  28.9s\n",
    "[CV 3/4] END colsample_bytree=0.6, gamma=0.1, learning_rate=0.25, max_depth=3, min_child_weight=10, n_estimators=300, subsample=0.8;, score=0.925 total time=  28.7s\n",
    "[CV 1/4] END colsample_bytree=0.8, gamma=5, learning_rate=0.25, max_depth=5, min_child_weight=1, n_estimators=300, subsample=0.6;, score=0.879 total time= 1.1min\n",
    "[CV 3/4] END colsample_bytree=0.8, gamma=5, learning_rate=0.25, max_depth=5, min_child_weight=1, n_estimators=300, subsample=0.6;, score=0.948 total time= 1.1min\n",
    "[CV 1/4] END colsample_bytree=0.8, gamma=1.5, learning_rate=0.01, max_depth=10, min_child_weight=10, n_estimators=300, subsample=0.8;, score=0.819 total time= 2.0min\n",
    "[CV 3/4] END colsample_bytree=0.8, gamma=1.5, learning_rate=0.01, max_depth=10, min_child_weight=10, n_estimators=300, subsample=0.8;, score=0.890 total time= 2.0min\n",
    "[CV 1/4] END colsample_bytree=1.0, gamma=0.1, learning_rate=0.02, max_depth=5, min_child_weight=10, n_estimators=300, subsample=0.8;, score=0.820 total time= 1.3min\n",
    "[CV 3/4] END colsample_bytree=1.0, gamma=0.1, learning_rate=0.02, max_depth=5, min_child_weight=10, n_estimators=300, subsample=0.8;, score=0.892 total time= 1.3min\n",
    "[CV 1/4] END colsample_bytree=1.0, gamma=0.5, learning_rate=0.05, max_depth=10, min_child_weight=1, n_estimators=200, subsample=0.6;, score=0.864 total time= 1.9min\n",
    "[CV 3/4] END colsample_bytree=1.0, gamma=0.5, learning_rate=0.05, max_depth=10, min_child_weight=1, n_estimators=200, subsample=0.6;, score=0.935 total time= 1.9min\n",
    "[CV 1/4] END colsample_bytree=0.8, gamma=0.5, learning_rate=0.02, max_depth=10, min_child_weight=7, n_estimators=300, subsample=0.6;, score=0.838 total time= 1.8min\n",
    "[CV 3/4] END colsample_bytree=0.8, gamma=0.5, learning_rate=0.02, max_depth=10, min_child_weight=7, n_estimators=300, subsample=0.6;, score=0.913 total time= 1.8min\n",
    "[CV 1/4] END colsample_bytree=0.8, gamma=0.1, learning_rate=0.25, max_depth=5, min_child_weight=1, n_estimators=200, subsample=0.6;, score=0.877 total time=  46.4s\n",
    "[CV 3/4] END colsample_bytree=0.8, gamma=0.1, learning_rate=0.25, max_depth=5, min_child_weight=1, n_estimators=200, subsample=0.6;, score=0.945 total time=  45.3s\n",
    "[CV 1/4] END colsample_bytree=0.8, gamma=0.1, learning_rate=0.05, max_depth=3, min_child_weight=1, n_estimators=200, subsample=0.6;, score=0.820 total time=  31.4s\n",
    "[CV 3/4] END colsample_bytree=0.8, gamma=0.1, learning_rate=0.05, max_depth=3, min_child_weight=1, n_estimators=200, subsample=0.6;, score=0.889 total time=  31.2s\n",
    "[CV 1/4] END colsample_bytree=1.0, gamma=5, learning_rate=0.05, max_depth=5, min_child_weight=7, n_estimators=100, subsample=0.8;, score=0.813 total time=  28.3s\n",
    "[CV 3/4] END colsample_bytree=1.0, gamma=5, learning_rate=0.05, max_depth=5, min_child_weight=7, n_estimators=100, subsample=0.8;, score=0.884 total time=  27.9s\n",
    "[CV 1/4] END colsample_bytree=0.6, gamma=0.1, learning_rate=0.02, max_depth=3, min_child_weight=7, n_estimators=200, subsample=0.8;, score=0.788 total time=  22.4s\n",
    "[CV 3/4] END colsample_bytree=0.6, gamma=0.1, learning_rate=0.02, max_depth=3, min_child_weight=7, n_estimators=200, subsample=0.8;, score=0.854 total time=  23.1s\n",
    "[CV 1/4] END colsample_bytree=0.6, gamma=1.5, learning_rate=0.01, max_depth=5, min_child_weight=10, n_estimators=100, subsample=1.0;, score=0.779 total time=  20.0s\n",
    "[CV 3/4] END colsample_bytree=0.6, gamma=1.5, learning_rate=0.01, max_depth=5, min_child_weight=10, n_estimators=100, subsample=1.0;, score=0.820 total time=  19.7s\n",
    "[CV 1/4] END colsample_bytree=1.0, gamma=1.5, learning_rate=0.25, max_depth=3, min_child_weight=7, n_estimators=300, subsample=0.6;, score=0.864 total time=  40.7s\n",
    "[CV 3/4] END colsample_bytree=1.0, gamma=1.5, learning_rate=0.25, max_depth=3, min_child_weight=7, n_estimators=300, subsample=0.6;, score=0.929 total time=  41.7s\n",
    "[CV 1/4] END colsample_bytree=0.6, gamma=0.5, learning_rate=0.05, max_depth=3, min_child_weight=5, n_estimators=200, subsample=0.8;, score=0.820 total time=  22.8s\n",
    "[CV 3/4] END colsample_bytree=0.6, gamma=0.5, learning_rate=0.05, max_depth=3, min_child_weight=5, n_estimators=200, subsample=0.8;, score=0.887 total time=  22.8s\n",
    "[CV 1/4] END colsample_bytree=0.6, gamma=5, learning_rate=0.05, max_depth=3, min_child_weight=5, n_estimators=300, subsample=0.6;, score=0.829 total time=  30.5s\n",
    "[CV 3/4] END colsample_bytree=0.6, gamma=5, learning_rate=0.05, max_depth=3, min_child_weight=5, n_estimators=300, subsample=0.6;, score=0.901 total time=  29.8s\n",
    "[CV 1/4] END colsample_bytree=1.0, gamma=0.1, learning_rate=0.02, max_depth=10, min_child_weight=10, n_estimators=200, subsample=0.8;, score=0.827 total time= 1.6min\n",
    "[CV 3/4] END colsample_bytree=1.0, gamma=0.1, learning_rate=0.02, max_depth=10, min_child_weight=10, n_estimators=200, subsample=0.8;, score=0.901 total time= 1.6min[CV 2/4] END colsample_bytree=1.0, gamma=1.5, learning_rate=0.05, max_depth=3, min_child_weight=10, n_estimators=300, subsample=0.8;, score=0.900 total time=  50.7s\n",
    "[CV 3/4] END colsample_bytree=1.0, gamma=1.5, learning_rate=0.05, max_depth=3, min_child_weight=10, n_estimators=300, subsample=0.8;, score=0.900 total time=  46.6s\n",
    "[CV 1/4] END colsample_bytree=1.0, gamma=5, learning_rate=0.01, max_depth=5, min_child_weight=1, n_estimators=300, subsample=0.8;, score=0.799 total time= 1.9min\n",
    "[CV 4/4] END colsample_bytree=1.0, gamma=5, learning_rate=0.01, max_depth=5, min_child_weight=1, n_estimators=300, subsample=0.8;, score=0.871 total time= 1.8min\n",
    "[CV 2/4] END colsample_bytree=0.6, gamma=0.5, learning_rate=0.05, max_depth=10, min_child_weight=10, n_estimators=200, subsample=1.0;, score=0.923 total time= 1.1min\n",
    "[CV 4/4] END colsample_bytree=0.6, gamma=0.5, learning_rate=0.05, max_depth=10, min_child_weight=10, n_estimators=200, subsample=1.0;, score=0.922 total time= 1.1min\n",
    "[CV 2/4] END colsample_bytree=0.8, gamma=5, learning_rate=0.25, max_depth=10, min_child_weight=7, n_estimators=300, subsample=1.0;, score=0.945 total time= 2.1min\n",
    "[CV 4/4] END colsample_bytree=0.8, gamma=5, learning_rate=0.25, max_depth=10, min_child_weight=7, n_estimators=300, subsample=1.0;, score=0.946 total time= 2.1min\n",
    "[CV 2/4] END colsample_bytree=0.8, gamma=5, learning_rate=0.1, max_depth=5, min_child_weight=1, n_estimators=300, subsample=0.6;, score=0.935 total time= 1.2min\n",
    "[CV 4/4] END colsample_bytree=0.8, gamma=5, learning_rate=0.1, max_depth=5, min_child_weight=1, n_estimators=300, subsample=0.6;, score=0.936 total time= 1.2min\n",
    "[CV 2/4] END colsample_bytree=0.8, gamma=5, learning_rate=0.1, max_depth=3, min_child_weight=1, n_estimators=300, subsample=0.8;, score=0.921 total time=  51.0s\n",
    "[CV 4/4] END colsample_bytree=0.8, gamma=5, learning_rate=0.1, max_depth=3, min_child_weight=1, n_estimators=300, subsample=0.8;, score=0.916 total time=  51.6s\n",
    "[CV 2/4] END colsample_bytree=0.8, gamma=0.5, learning_rate=0.25, max_depth=10, min_child_weight=10, n_estimators=100, subsample=0.8;, score=0.933 total time=  37.4s\n",
    "[CV 4/4] END colsample_bytree=0.8, gamma=0.5, learning_rate=0.25, max_depth=10, min_child_weight=10, n_estimators=100, subsample=0.8;, score=0.937 total time=  37.0s\n",
    "[CV 2/4] END colsample_bytree=0.8, gamma=0.1, learning_rate=0.1, max_depth=5, min_child_weight=10, n_estimators=200, subsample=1.0;, score=0.920 total time=  45.2s\n",
    "[CV 4/4] END colsample_bytree=0.8, gamma=0.1, learning_rate=0.1, max_depth=5, min_child_weight=10, n_estimators=200, subsample=1.0;, score=0.920 total time=  45.8s\n",
    "[CV 2/4] END colsample_bytree=1.0, gamma=0.1, learning_rate=0.1, max_depth=3, min_child_weight=5, n_estimators=100, subsample=0.8;, score=0.892 total time=  16.9s\n",
    "[CV 4/4] END colsample_bytree=1.0, gamma=0.1, learning_rate=0.1, max_depth=3, min_child_weight=5, n_estimators=100, subsample=0.8;, score=0.887 total time=  18.0s\n",
    "[CV 2/4] END colsample_bytree=1.0, gamma=0.5, learning_rate=0.1, max_depth=3, min_child_weight=1, n_estimators=100, subsample=0.8;, score=0.891 total time=  21.6s\n",
    "[CV 4/4] END colsample_bytree=1.0, gamma=0.5, learning_rate=0.1, max_depth=3, min_child_weight=1, n_estimators=100, subsample=0.8;, score=0.889 total time=  20.9s\n",
    "[CV 2/4] END colsample_bytree=0.6, gamma=0.1, learning_rate=0.25, max_depth=3, min_child_weight=10, n_estimators=300, subsample=0.8;, score=0.927 total time=  28.5s\n",
    "[CV 4/4] END colsample_bytree=0.6, gamma=0.1, learning_rate=0.25, max_depth=3, min_child_weight=10, n_estimators=300, subsample=0.8;, score=0.932 total time=  29.0s\n",
    "[CV 2/4] END colsample_bytree=0.8, gamma=5, learning_rate=0.25, max_depth=5, min_child_weight=1, n_estimators=300, subsample=0.6;, score=0.949 total time= 1.1min\n",
    "[CV 4/4] END colsample_bytree=0.8, gamma=5, learning_rate=0.25, max_depth=5, min_child_weight=1, n_estimators=300, subsample=0.6;, score=0.947 total time= 1.1min\n",
    "[CV 2/4] END colsample_bytree=0.8, gamma=1.5, learning_rate=0.01, max_depth=10, min_child_weight=10, n_estimators=300, subsample=0.8;, score=0.892 total time= 2.0min\n",
    "[CV 4/4] END colsample_bytree=0.8, gamma=1.5, learning_rate=0.01, max_depth=10, min_child_weight=10, n_estimators=300, subsample=0.8;, score=0.891 total time= 2.0min\n",
    "[CV 2/4] END colsample_bytree=1.0, gamma=0.1, learning_rate=0.02, max_depth=5, min_child_weight=10, n_estimators=300, subsample=0.8;, score=0.892 total time= 1.3min\n",
    "[CV 4/4] END colsample_bytree=1.0, gamma=0.1, learning_rate=0.02, max_depth=5, min_child_weight=10, n_estimators=300, subsample=0.8;, score=0.892 total time= 1.3min\n",
    "[CV 2/4] END colsample_bytree=1.0, gamma=0.5, learning_rate=0.05, max_depth=10, min_child_weight=1, n_estimators=200, subsample=0.6;, score=0.936 total time= 1.9min\n",
    "[CV 4/4] END colsample_bytree=1.0, gamma=0.5, learning_rate=0.05, max_depth=10, min_child_weight=1, n_estimators=200, subsample=0.6;, score=0.938 total time= 1.9min\n",
    "[CV 2/4] END colsample_bytree=0.8, gamma=0.5, learning_rate=0.02, max_depth=10, min_child_weight=7, n_estimators=300, subsample=0.6;, score=0.913 total time= 1.9min\n",
    "[CV 4/4] END colsample_bytree=0.8, gamma=0.5, learning_rate=0.02, max_depth=10, min_child_weight=7, n_estimators=300, subsample=0.6;, score=0.914 total time= 1.8min\n",
    "[CV 2/4] END colsample_bytree=0.8, gamma=0.1, learning_rate=0.25, max_depth=5, min_child_weight=1, n_estimators=200, subsample=0.6;, score=0.946 total time=  45.2s\n",
    "[CV 4/4] END colsample_bytree=0.8, gamma=0.1, learning_rate=0.25, max_depth=5, min_child_weight=1, n_estimators=200, subsample=0.6;, score=0.946 total time=  46.3s\n",
    "[CV 2/4] END colsample_bytree=0.8, gamma=0.1, learning_rate=0.05, max_depth=3, min_child_weight=1, n_estimators=200, subsample=0.6;, score=0.892 total time=  30.9s\n",
    "[CV 4/4] END colsample_bytree=0.8, gamma=0.1, learning_rate=0.05, max_depth=3, min_child_weight=1, n_estimators=200, subsample=0.6;, score=0.888 total time=  30.8s\n",
    "[CV 2/4] END colsample_bytree=1.0, gamma=5, learning_rate=0.05, max_depth=5, min_child_weight=7, n_estimators=100, subsample=0.8;, score=0.888 total time=  27.4s\n",
    "[CV 4/4] END colsample_bytree=1.0, gamma=5, learning_rate=0.05, max_depth=5, min_child_weight=7, n_estimators=100, subsample=0.8;, score=0.882 total time=  28.0s\n",
    "[CV 2/4] END colsample_bytree=0.6, gamma=0.1, learning_rate=0.02, max_depth=3, min_child_weight=7, n_estimators=200, subsample=0.8;, score=0.858 total time=  23.2s\n",
    "[CV 4/4] END colsample_bytree=0.6, gamma=0.1, learning_rate=0.02, max_depth=3, min_child_weight=7, n_estimators=200, subsample=0.8;, score=0.861 total time=  22.3s\n",
    "[CV 2/4] END colsample_bytree=0.6, gamma=1.5, learning_rate=0.01, max_depth=5, min_child_weight=10, n_estimators=100, subsample=1.0;, score=0.850 total time=  19.7s\n",
    "[CV 4/4] END colsample_bytree=0.6, gamma=1.5, learning_rate=0.01, max_depth=5, min_child_weight=10, n_estimators=100, subsample=1.0;, score=0.850 total time=  19.1s\n",
    "[CV 2/4] END colsample_bytree=1.0, gamma=1.5, learning_rate=0.25, max_depth=3, min_child_weight=7, n_estimators=300, subsample=0.6;, score=0.931 total time=  41.5s\n",
    "[CV 4/4] END colsample_bytree=1.0, gamma=1.5, learning_rate=0.25, max_depth=3, min_child_weight=7, n_estimators=300, subsample=0.6;, score=0.930 total time=  40.9s\n",
    "[CV 2/4] END colsample_bytree=0.6, gamma=0.5, learning_rate=0.05, max_depth=3, min_child_weight=5, n_estimators=200, subsample=0.8;, score=0.890 total time=  23.1s\n",
    "[CV 4/4] END colsample_bytree=0.6, gamma=0.5, learning_rate=0.05, max_depth=3, min_child_weight=5, n_estimators=200, subsample=0.8;, score=0.889 total time=  22.2s\n",
    "[CV 2/4] END colsample_bytree=0.6, gamma=5, learning_rate=0.05, max_depth=3, min_child_weight=5, n_estimators=300, subsample=0.6;, score=0.900 total time=  30.5s\n",
    "[CV 4/4] END colsample_bytree=0.6, gamma=5, learning_rate=0.05, max_depth=3, min_child_weight=5, n_estimators=300, subsample=0.6;, score=0.899 total time=  30.1s\n",
    "[CV 2/4] END colsample_bytree=1.0, gamma=0.1, learning_rate=0.02, max_depth=10, min_child_weight=10, n_estimators=200, subsample=0.8;, score=0.902 total time= 1.6min\n",
    "[CV 4/4] END colsample_bytree=1.0, gamma=0.1, learning_rate=0.02, max_depth=10, min_child_weight=10, n_estimators=200, subsample=0.8;, score=0.900 total time= 1.6minCPU times: user 1min 5s, sys: 261 ms, total: 1min 5s\n",
    "Wall time: 1h 27min 48s\n",
    "XGBClassifier(base_score=0.5, booster='gbtree', callbacks=None,\n",
    "              colsample_bylevel=1, colsample_bynode=1, colsample_bytree=0.6,\n",
    "              early_stopping_rounds=None, enable_categorical=False,\n",
    "              eval_metric=None, gamma=0.1, gpu_id=-1, grow_policy='depthwise',\n",
    "              importance_type=None, interaction_constraints='',\n",
    "              learning_rate=0.25, max_bin=256, max_cat_to_onehot=4,\n",
    "              max_delta_step=0, max_depth=5, max_leaves=0, min_child_weight=1,\n",
    "              missing=nan, monotone_constraints='()', n_estimators=300,\n",
    "              n_jobs=0, num_parallel_tree=1, predictor='auto', random_state=42,\n",
    "              reg_alpha=0, reg_lambda=1, ...)"
   ]
  },
  {
   "cell_type": "code",
   "execution_count": 98,
   "metadata": {
    "editable": false,
    "execution": {
     "iopub.execute_input": "2022-07-19T03:04:31.741173Z",
     "iopub.status.busy": "2022-07-19T03:04:31.740365Z",
     "iopub.status.idle": "2022-07-19T03:05:14.530974Z",
     "shell.execute_reply": "2022-07-19T03:05:14.529744Z",
     "shell.execute_reply.started": "2022-07-19T03:04:31.741135Z"
    },
    "id": "mRLweos04ba0"
   },
   "outputs": [],
   "source": [
    "xgb_model_hpt = xgb.XGBClassifier(n_estimators=300,random_state=42, gamma=0.1,learning_rate=0.25,max_depth=5)\n",
    "xgb_modelBuilder = SuperWisedModelBuilder(xgb_model_hpt,X_train,X_test,y_train,y_test)\n",
    "%time y_pred_class = xgb_modelBuilder.train_model()\n",
    "xgb_result_metrics = xgb_modelBuilder.evaluate_model(y_pred_class)"
   ]
  },
  {
   "cell_type": "code",
   "execution_count": 99,
   "metadata": {
    "editable": false,
    "execution": {
     "iopub.execute_input": "2022-07-19T03:05:14.533415Z",
     "iopub.status.busy": "2022-07-19T03:05:14.532935Z",
     "iopub.status.idle": "2022-07-19T03:05:14.547752Z",
     "shell.execute_reply": "2022-07-19T03:05:14.546729Z",
     "shell.execute_reply.started": "2022-07-19T03:05:14.533368Z"
    },
    "id": "7VYVeLcL7hZw"
   },
   "outputs": [],
   "source": [
    "save_object(xgb_model_hpt,'XGBooster')"
   ]
  },
  {
   "cell_type": "markdown",
   "metadata": {
    "editable": false
   },
   "source": [
    "# Naive Byes Model"
   ]
  },
  {
   "cell_type": "code",
   "execution_count": 100,
   "metadata": {
    "editable": false,
    "execution": {
     "iopub.execute_input": "2022-07-19T03:05:14.549753Z",
     "iopub.status.busy": "2022-07-19T03:05:14.549283Z",
     "iopub.status.idle": "2022-07-19T03:05:14.978071Z",
     "shell.execute_reply": "2022-07-19T03:05:14.977040Z",
     "shell.execute_reply.started": "2022-07-19T03:05:14.549705Z"
    }
   },
   "outputs": [],
   "source": [
    "nb = MultinomialNB()\n",
    "nb_model = SuperWisedModelBuilder(nb,X_train,X_test,y_train,y_test)\n",
    "y_pred_class= nb_model.train_model()\n",
    "nb_result_metrics = nb_model.evaluate_model(y_pred_class)"
   ]
  },
  {
   "cell_type": "code",
   "execution_count": 101,
   "metadata": {
    "editable": false,
    "execution": {
     "iopub.execute_input": "2022-07-19T03:05:14.979642Z",
     "iopub.status.busy": "2022-07-19T03:05:14.979336Z",
     "iopub.status.idle": "2022-07-19T03:05:14.987858Z",
     "shell.execute_reply": "2022-07-19T03:05:14.986524Z",
     "shell.execute_reply.started": "2022-07-19T03:05:14.979609Z"
    }
   },
   "outputs": [],
   "source": [
    "save_object(nb,'Naive Byes')"
   ]
  },
  {
   "cell_type": "code",
   "execution_count": 102,
   "metadata": {
    "editable": false,
    "execution": {
     "iopub.execute_input": "2022-07-19T03:05:14.989968Z",
     "iopub.status.busy": "2022-07-19T03:05:14.989098Z",
     "iopub.status.idle": "2022-07-19T03:05:15.019130Z",
     "shell.execute_reply": "2022-07-19T03:05:15.018184Z",
     "shell.execute_reply.started": "2022-07-19T03:05:14.989927Z"
    }
   },
   "outputs": [],
   "source": [
    "#creare a metrics dataframe \n",
    "metricsDic = {'metricsname':['accuracy','precision','recall','f1-score','ROC-AUC score']}\n",
    "models = ['Logistic Regression','Decision Tree','Random Forest','XGBoost','Naive Byes']\n",
    "modelMetrics = ['lr_resul_metrics','dt_result_metrics','rf_result_metrics','xgb_result_metrics','nb_result_metrics']\n",
    "metricResult = pd.DataFrame(metricsDic)\n",
    "metricResult['Logistic Regression'] = metricResult.metricsname.map(lr_result_metrics).apply(lambda x : str(round(x * 100,2))+'%')\n",
    "metricResult['Decision Tree'] = metricResult.metricsname.map(dt_result_metrics).apply(lambda x : str(round(x * 100,2))+'%')\n",
    "metricResult['Random Forest'] = metricResult.metricsname.map(rf_result_metrics).apply(lambda x : str(round(x * 100,2))+'%')\n",
    "metricResult['XGBoost'] = metricResult.metricsname.map(xgb_result_metrics).apply(lambda x : str(round(x * 100,2))+'%')\n",
    "metricResult['Naive Byes'] = metricResult.metricsname.map(nb_result_metrics).apply(lambda x : str(round(x * 100,2))+'%')\n",
    "metricResult"
   ]
  },
  {
   "cell_type": "markdown",
   "metadata": {
    "editable": false
   },
   "source": [
    "#### from above table it is clear that XGBoost has the highest f1 score and accuracy. We will use XGBoost model for our system"
   ]
  },
  {
   "cell_type": "markdown",
   "metadata": {
    "editable": false
   },
   "source": [
    "# 6. Recommendation System\n",
    "#### there are various method for building a recommendation system.\n",
    "\n",
    "1. User based recommendation system\n",
    "2. item based recommendation system\n",
    "\n",
    "we will create both and find out the which one is best for our problem"
   ]
  },
  {
   "cell_type": "code",
   "execution_count": 103,
   "metadata": {
    "editable": false,
    "execution": {
     "iopub.execute_input": "2022-07-19T03:05:15.021943Z",
     "iopub.status.busy": "2022-07-19T03:05:15.021586Z",
     "iopub.status.idle": "2022-07-19T03:05:15.029344Z",
     "shell.execute_reply": "2022-07-19T03:05:15.027938Z",
     "shell.execute_reply.started": "2022-07-19T03:05:15.021913Z"
    }
   },
   "outputs": [],
   "source": [
    "reviewsData.shape"
   ]
  },
  {
   "cell_type": "code",
   "execution_count": 104,
   "metadata": {
    "editable": false,
    "execution": {
     "iopub.execute_input": "2022-07-19T03:05:15.031718Z",
     "iopub.status.busy": "2022-07-19T03:05:15.031191Z",
     "iopub.status.idle": "2022-07-19T03:05:15.044201Z",
     "shell.execute_reply": "2022-07-19T03:05:15.042944Z",
     "shell.execute_reply.started": "2022-07-19T03:05:15.031547Z"
    }
   },
   "outputs": [],
   "source": [
    "#create a new dataframe for recommendation system\n",
    "recommData = reviewsData[['id','reviews_rating','reviews_username']]\n",
    "recommData.shape"
   ]
  },
  {
   "cell_type": "code",
   "execution_count": 105,
   "metadata": {
    "editable": false,
    "execution": {
     "iopub.execute_input": "2022-07-19T03:05:15.045963Z",
     "iopub.status.busy": "2022-07-19T03:05:15.045598Z",
     "iopub.status.idle": "2022-07-19T03:05:15.062734Z",
     "shell.execute_reply": "2022-07-19T03:05:15.061452Z",
     "shell.execute_reply.started": "2022-07-19T03:05:15.045933Z"
    }
   },
   "outputs": [],
   "source": [
    "#check for null values in the dataframe\n",
    "checkNaNvalues(recommData)"
   ]
  },
  {
   "cell_type": "code",
   "execution_count": 106,
   "metadata": {
    "editable": false,
    "execution": {
     "iopub.execute_input": "2022-07-19T03:05:15.064822Z",
     "iopub.status.busy": "2022-07-19T03:05:15.064278Z",
     "iopub.status.idle": "2022-07-19T03:05:15.089239Z",
     "shell.execute_reply": "2022-07-19T03:05:15.087671Z",
     "shell.execute_reply.started": "2022-07-19T03:05:15.064788Z"
    }
   },
   "outputs": [],
   "source": [
    "dframe_alignment(reviewsData.sample(n=10))"
   ]
  },
  {
   "cell_type": "code",
   "execution_count": 107,
   "metadata": {
    "editable": false,
    "execution": {
     "iopub.execute_input": "2022-07-19T03:05:15.093137Z",
     "iopub.status.busy": "2022-07-19T03:05:15.091336Z",
     "iopub.status.idle": "2022-07-19T03:05:15.105816Z",
     "shell.execute_reply": "2022-07-19T03:05:15.104167Z",
     "shell.execute_reply.started": "2022-07-19T03:05:15.093086Z"
    }
   },
   "outputs": [],
   "source": [
    "#divide the data in to train and test\n",
    "train,test = train_test_split(recommData,test_size=0.3,random_state=42)\n",
    "print(train.shape)\n",
    "print(test.shape)"
   ]
  },
  {
   "cell_type": "code",
   "execution_count": 108,
   "metadata": {
    "editable": false,
    "execution": {
     "iopub.execute_input": "2022-07-19T03:05:15.108910Z",
     "iopub.status.busy": "2022-07-19T03:05:15.107502Z",
     "iopub.status.idle": "2022-07-19T03:05:15.391899Z",
     "shell.execute_reply": "2022-07-19T03:05:15.390753Z",
     "shell.execute_reply.started": "2022-07-19T03:05:15.108872Z"
    }
   },
   "outputs": [],
   "source": [
    "# Pivot the train ratings' dataset into matrix format in which columns are id's and the rows are username.\n",
    "recommData_pv = train.pivot_table(index ='reviews_username',columns='id',values='reviews_rating').fillna(0)\n",
    "recommData_pv.head(10)"
   ]
  },
  {
   "cell_type": "markdown",
   "metadata": {
    "editable": false
   },
   "source": [
    "### Creating dummy train & dummy test dataset.These dataset will be used for prediction\n",
    "\n",
    "**Dummy train will be used later for prediction of the products which has not been rated by the user. To ignore the products rated by the user, we will rate it as 0 during prediction. The products not rated by user is rated as 1 for prediction in dummy train dataset.**\n",
    "\n",
    "**Dummy test will be used for evaluation. To evaluate, we will only make prediction on the products rated by the user. So, this is marked as 1. This is just opposite of dummy_train.**"
   ]
  },
  {
   "cell_type": "code",
   "execution_count": 109,
   "metadata": {
    "editable": false,
    "execution": {
     "iopub.execute_input": "2022-07-19T03:05:15.393444Z",
     "iopub.status.busy": "2022-07-19T03:05:15.393124Z",
     "iopub.status.idle": "2022-07-19T03:05:15.401991Z",
     "shell.execute_reply": "2022-07-19T03:05:15.400546Z",
     "shell.execute_reply.started": "2022-07-19T03:05:15.393414Z"
    }
   },
   "outputs": [],
   "source": [
    "# Copy the train dataset into dummy_train\n",
    "dummy_train = train.copy()\n",
    "dummy_train.shape"
   ]
  },
  {
   "cell_type": "code",
   "execution_count": 110,
   "metadata": {
    "editable": false,
    "execution": {
     "iopub.execute_input": "2022-07-19T03:05:15.404261Z",
     "iopub.status.busy": "2022-07-19T03:05:15.403935Z",
     "iopub.status.idle": "2022-07-19T03:05:15.424410Z",
     "shell.execute_reply": "2022-07-19T03:05:15.423352Z",
     "shell.execute_reply.started": "2022-07-19T03:05:15.404232Z"
    }
   },
   "outputs": [],
   "source": [
    "dummy_train.loc[dummy_train.id =='AVpfm8yiLJeJML43AYyu']"
   ]
  },
  {
   "cell_type": "code",
   "execution_count": 111,
   "metadata": {
    "editable": false,
    "execution": {
     "iopub.execute_input": "2022-07-19T03:05:15.426396Z",
     "iopub.status.busy": "2022-07-19T03:05:15.426067Z",
     "iopub.status.idle": "2022-07-19T03:05:15.503050Z",
     "shell.execute_reply": "2022-07-19T03:05:15.501895Z",
     "shell.execute_reply.started": "2022-07-19T03:05:15.426367Z"
    }
   },
   "outputs": [],
   "source": [
    "# The products not rated by user is marked as 1 for prediction. \n",
    "dummy_train.reviews_rating = dummy_train.reviews_rating.swifter.apply(lambda x : 0 if x >= 1 else 1 )"
   ]
  },
  {
   "cell_type": "code",
   "execution_count": 112,
   "metadata": {
    "editable": false,
    "execution": {
     "iopub.execute_input": "2022-07-19T03:05:15.505066Z",
     "iopub.status.busy": "2022-07-19T03:05:15.504741Z",
     "iopub.status.idle": "2022-07-19T03:05:15.524772Z",
     "shell.execute_reply": "2022-07-19T03:05:15.523900Z",
     "shell.execute_reply.started": "2022-07-19T03:05:15.505037Z"
    }
   },
   "outputs": [],
   "source": [
    "dummy_train.loc[dummy_train.id =='AVpfm8yiLJeJML43AYyu']"
   ]
  },
  {
   "cell_type": "code",
   "execution_count": 113,
   "metadata": {
    "editable": false,
    "execution": {
     "iopub.execute_input": "2022-07-19T03:05:15.526306Z",
     "iopub.status.busy": "2022-07-19T03:05:15.525892Z",
     "iopub.status.idle": "2022-07-19T03:05:15.757701Z",
     "shell.execute_reply": "2022-07-19T03:05:15.756522Z",
     "shell.execute_reply.started": "2022-07-19T03:05:15.526268Z"
    }
   },
   "outputs": [],
   "source": [
    "# Convert the dummy train dataset into matrix format in which columns are id's and the rows are username.\n",
    "dummy_train_pv = dummy_train.reset_index().pivot_table(index='reviews_username',columns='id',values='reviews_rating').fillna(1)\n",
    "dummy_train_pv.head(5)"
   ]
  },
  {
   "cell_type": "code",
   "execution_count": 114,
   "metadata": {
    "editable": false,
    "execution": {
     "iopub.execute_input": "2022-07-19T03:05:15.760056Z",
     "iopub.status.busy": "2022-07-19T03:05:15.759280Z",
     "iopub.status.idle": "2022-07-19T03:05:15.765527Z",
     "shell.execute_reply": "2022-07-19T03:05:15.764807Z",
     "shell.execute_reply.started": "2022-07-19T03:05:15.760023Z"
    }
   },
   "outputs": [],
   "source": [
    "dummy_train_pv.shape"
   ]
  },
  {
   "cell_type": "markdown",
   "metadata": {
    "editable": false
   },
   "source": [
    "## User User based similarity"
   ]
  },
  {
   "cell_type": "markdown",
   "metadata": {
    "editable": false
   },
   "source": [
    "**Cosine Similarity**\n",
    "\n",
    "Cosine Similarity is a measurement that quantifies the similarity between two vectors [Which is Rating Vector in this case] \n",
    "\n",
    "**Adjusted Cosine**\n",
    "\n",
    "Adjusted cosine similarity is a modified version of vector-based similarity where we incorporate the fact that different users have different ratings schemes. In other words, some users might rate items highly in general, and others might give items lower ratings as a preference. To handle this nature from rating given by user , we subtract average ratings for each user from each user's rating for different movies."
   ]
  },
  {
   "cell_type": "code",
   "execution_count": 115,
   "metadata": {
    "editable": false,
    "execution": {
     "iopub.execute_input": "2022-07-19T03:05:15.767255Z",
     "iopub.status.busy": "2022-07-19T03:05:15.766777Z",
     "iopub.status.idle": "2022-07-19T03:05:15.783153Z",
     "shell.execute_reply": "2022-07-19T03:05:15.781789Z",
     "shell.execute_reply.started": "2022-07-19T03:05:15.767225Z"
    }
   },
   "outputs": [],
   "source": [
    "recommData_pv.index.nunique()"
   ]
  },
  {
   "cell_type": "code",
   "execution_count": 116,
   "metadata": {
    "editable": false,
    "execution": {
     "iopub.execute_input": "2022-07-19T03:05:15.785120Z",
     "iopub.status.busy": "2022-07-19T03:05:15.784456Z",
     "iopub.status.idle": "2022-07-19T03:05:23.154203Z",
     "shell.execute_reply": "2022-07-19T03:05:23.152580Z",
     "shell.execute_reply.started": "2022-07-19T03:05:15.785079Z"
    }
   },
   "outputs": [],
   "source": [
    "# Creating the User Similarity Matrix using cosine_similarity function.\n",
    "user_correlation_cs = cosine_similarity(recommData_pv)\n",
    "user_correlation_cs[np.isnan(user_correlation_cs)] = 0\n",
    "print(user_correlation_cs.shape)\n",
    "print()\n",
    "print(user_correlation_cs)"
   ]
  },
  {
   "cell_type": "code",
   "execution_count": 117,
   "metadata": {
    "editable": false,
    "execution": {
     "iopub.execute_input": "2022-07-19T03:05:23.156753Z",
     "iopub.status.busy": "2022-07-19T03:05:23.155616Z",
     "iopub.status.idle": "2022-07-19T03:05:23.372500Z",
     "shell.execute_reply": "2022-07-19T03:05:23.371486Z",
     "shell.execute_reply.started": "2022-07-19T03:05:23.156703Z"
    }
   },
   "outputs": [],
   "source": [
    "# using Adjusted Cosine similarity\n",
    "# Here, we are not removing the NaN values and calculating the mean only for the products rated by the user\n",
    "# Create a user-movie matrix.\n",
    "recommData_adpv = train.reset_index().pivot_table(index='reviews_username', columns='id',values='reviews_rating')"
   ]
  },
  {
   "cell_type": "code",
   "execution_count": 118,
   "metadata": {
    "editable": false,
    "execution": {
     "iopub.execute_input": "2022-07-19T03:05:23.374817Z",
     "iopub.status.busy": "2022-07-19T03:05:23.373788Z",
     "iopub.status.idle": "2022-07-19T03:05:23.428583Z",
     "shell.execute_reply": "2022-07-19T03:05:23.427429Z",
     "shell.execute_reply.started": "2022-07-19T03:05:23.374737Z"
    }
   },
   "outputs": [],
   "source": [
    "print(recommData_adpv.shape)\n",
    "print()\n",
    "recommData_adpv.head(10)"
   ]
  },
  {
   "cell_type": "code",
   "execution_count": 119,
   "metadata": {
    "editable": false,
    "execution": {
     "iopub.execute_input": "2022-07-19T03:05:23.431314Z",
     "iopub.status.busy": "2022-07-19T03:05:23.430528Z",
     "iopub.status.idle": "2022-07-19T03:05:23.443599Z",
     "shell.execute_reply": "2022-07-19T03:05:23.442354Z",
     "shell.execute_reply.started": "2022-07-19T03:05:23.431274Z"
    }
   },
   "outputs": [],
   "source": [
    "recommData_adpv.index.nunique()"
   ]
  },
  {
   "cell_type": "code",
   "execution_count": 120,
   "metadata": {
    "editable": false,
    "execution": {
     "iopub.execute_input": "2022-07-19T03:05:23.445648Z",
     "iopub.status.busy": "2022-07-19T03:05:23.445264Z",
     "iopub.status.idle": "2022-07-19T03:05:23.505944Z",
     "shell.execute_reply": "2022-07-19T03:05:23.504734Z",
     "shell.execute_reply.started": "2022-07-19T03:05:23.445616Z"
    }
   },
   "outputs": [],
   "source": [
    "# Normalising the rating of the product for each user around 0 mean\n",
    "mean = np.nanmean(recommData_adpv, axis=1)\n",
    "recommData_adpv_subtracted = (recommData_adpv.T-mean).T"
   ]
  },
  {
   "cell_type": "code",
   "execution_count": 121,
   "metadata": {
    "editable": false,
    "execution": {
     "iopub.execute_input": "2022-07-19T03:05:23.509858Z",
     "iopub.status.busy": "2022-07-19T03:05:23.508968Z",
     "iopub.status.idle": "2022-07-19T03:05:23.557427Z",
     "shell.execute_reply": "2022-07-19T03:05:23.556214Z",
     "shell.execute_reply.started": "2022-07-19T03:05:23.509806Z"
    }
   },
   "outputs": [],
   "source": [
    "recommData_adpv_subtracted.head(10)"
   ]
  },
  {
   "cell_type": "code",
   "execution_count": 122,
   "metadata": {
    "editable": false,
    "execution": {
     "iopub.execute_input": "2022-07-19T03:05:23.559480Z",
     "iopub.status.busy": "2022-07-19T03:05:23.558878Z",
     "iopub.status.idle": "2022-07-19T03:05:30.195342Z",
     "shell.execute_reply": "2022-07-19T03:05:30.194153Z",
     "shell.execute_reply.started": "2022-07-19T03:05:23.559442Z"
    }
   },
   "outputs": [],
   "source": [
    "# Creating the User Similarity Matrix using cosine_similarity function.\n",
    "user_correlation_adcs = cosine_similarity(recommData_adpv_subtracted.fillna(0))\n",
    "user_correlation_adcs[np.isnan(user_correlation_adcs)] = 0\n",
    "print(user_correlation_adcs.shape)\n",
    "print()\n",
    "print(user_correlation_adcs)"
   ]
  },
  {
   "cell_type": "markdown",
   "metadata": {
    "editable": false
   },
   "source": [
    " ### Prediction - User User"
   ]
  },
  {
   "cell_type": "markdown",
   "metadata": {
    "editable": false
   },
   "source": [
    "*Doing the prediction for the users which are positively related with other users, and not the users which are negatively related as we are interested in the users which are more similar to the current users. So, ignoring the correlation for values less than 0.*"
   ]
  },
  {
   "cell_type": "code",
   "execution_count": 123,
   "metadata": {
    "editable": false,
    "execution": {
     "iopub.execute_input": "2022-07-19T03:05:30.197069Z",
     "iopub.status.busy": "2022-07-19T03:05:30.196721Z",
     "iopub.status.idle": "2022-07-19T03:05:30.622020Z",
     "shell.execute_reply": "2022-07-19T03:05:30.620801Z",
     "shell.execute_reply.started": "2022-07-19T03:05:30.197036Z"
    }
   },
   "outputs": [],
   "source": [
    "user_correlation_adcs[user_correlation_adcs<0]=0\n",
    "user_correlation_adcs"
   ]
  },
  {
   "cell_type": "code",
   "execution_count": 124,
   "metadata": {
    "editable": false,
    "execution": {
     "iopub.execute_input": "2022-07-19T03:05:30.623603Z",
     "iopub.status.busy": "2022-07-19T03:05:30.623294Z",
     "iopub.status.idle": "2022-07-19T03:05:30.629830Z",
     "shell.execute_reply": "2022-07-19T03:05:30.628559Z",
     "shell.execute_reply.started": "2022-07-19T03:05:30.623576Z"
    }
   },
   "outputs": [],
   "source": [
    "#Rating predicted by the user (for protucts rated as well as not rated) is the weighted sum of correlation with the product rating (as present in the rating dataset).\n",
    "print(user_correlation_adcs.shape)\n",
    "print(recommData_adpv.shape)"
   ]
  },
  {
   "cell_type": "code",
   "execution_count": 125,
   "metadata": {
    "editable": false,
    "execution": {
     "iopub.execute_input": "2022-07-19T03:05:30.632332Z",
     "iopub.status.busy": "2022-07-19T03:05:30.631564Z",
     "iopub.status.idle": "2022-07-19T03:05:33.394760Z",
     "shell.execute_reply": "2022-07-19T03:05:33.393462Z",
     "shell.execute_reply.started": "2022-07-19T03:05:30.632283Z"
    }
   },
   "outputs": [],
   "source": [
    "user_predicted_ratings = np.dot(user_correlation_adcs, recommData_adpv.fillna(0))\n",
    "user_predicted_ratings"
   ]
  },
  {
   "cell_type": "code",
   "execution_count": 126,
   "metadata": {
    "editable": false,
    "execution": {
     "iopub.execute_input": "2022-07-19T03:05:33.398920Z",
     "iopub.status.busy": "2022-07-19T03:05:33.398311Z",
     "iopub.status.idle": "2022-07-19T03:05:33.426152Z",
     "shell.execute_reply": "2022-07-19T03:05:33.423918Z",
     "shell.execute_reply.started": "2022-07-19T03:05:33.398864Z"
    }
   },
   "outputs": [],
   "source": [
    "print(user_predicted_ratings.shape)"
   ]
  },
  {
   "cell_type": "code",
   "execution_count": 127,
   "metadata": {
    "editable": false,
    "execution": {
     "iopub.execute_input": "2022-07-19T03:05:33.433646Z",
     "iopub.status.busy": "2022-07-19T03:05:33.433024Z",
     "iopub.status.idle": "2022-07-19T03:05:33.597905Z",
     "shell.execute_reply": "2022-07-19T03:05:33.596597Z",
     "shell.execute_reply.started": "2022-07-19T03:05:33.433591Z"
    }
   },
   "outputs": [],
   "source": [
    "#Since we are interested only in the products not rated by the user, we will ignore the products rated by the user by making it zero. \n",
    "user_final_rating = np.multiply(user_predicted_ratings,dummy_train_pv)\n",
    "user_final_rating.head()"
   ]
  },
  {
   "cell_type": "code",
   "execution_count": 128,
   "metadata": {
    "editable": false,
    "execution": {
     "iopub.execute_input": "2022-07-19T03:05:33.600514Z",
     "iopub.status.busy": "2022-07-19T03:05:33.599817Z",
     "iopub.status.idle": "2022-07-19T03:05:33.606311Z",
     "shell.execute_reply": "2022-07-19T03:05:33.605018Z",
     "shell.execute_reply.started": "2022-07-19T03:05:33.600477Z"
    }
   },
   "outputs": [],
   "source": [
    "print(user_final_rating.shape)"
   ]
  },
  {
   "cell_type": "code",
   "execution_count": 129,
   "metadata": {
    "editable": false,
    "execution": {
     "iopub.execute_input": "2022-07-19T03:05:33.610320Z",
     "iopub.status.busy": "2022-07-19T03:05:33.609756Z",
     "iopub.status.idle": "2022-07-19T03:05:33.716960Z",
     "shell.execute_reply": "2022-07-19T03:05:33.715993Z",
     "shell.execute_reply.started": "2022-07-19T03:05:33.610274Z"
    }
   },
   "outputs": [],
   "source": [
    "save_object(user_final_rating , 'user_user_based_recommendations')"
   ]
  },
  {
   "cell_type": "markdown",
   "metadata": {
    "editable": false
   },
   "source": [
    "#### Find top 10 recommendation for user\n"
   ]
  },
  {
   "cell_type": "code",
   "execution_count": 130,
   "metadata": {
    "editable": false,
    "execution": {
     "iopub.execute_input": "2022-07-19T03:05:33.718921Z",
     "iopub.status.busy": "2022-07-19T03:05:33.718551Z",
     "iopub.status.idle": "2022-07-19T03:05:33.732246Z",
     "shell.execute_reply": "2022-07-19T03:05:33.730987Z",
     "shell.execute_reply.started": "2022-07-19T03:05:33.718889Z"
    }
   },
   "outputs": [],
   "source": [
    "userId = '00sab00'\n",
    "recommendations  = user_final_rating.loc[userId].sort_values(ascending=False)[0:10]\n",
    "recommendations"
   ]
  },
  {
   "cell_type": "code",
   "execution_count": 131,
   "metadata": {
    "editable": false,
    "execution": {
     "iopub.execute_input": "2022-07-19T03:05:33.734611Z",
     "iopub.status.busy": "2022-07-19T03:05:33.733899Z",
     "iopub.status.idle": "2022-07-19T03:05:33.775706Z",
     "shell.execute_reply": "2022-07-19T03:05:33.774913Z",
     "shell.execute_reply.started": "2022-07-19T03:05:33.734575Z"
    }
   },
   "outputs": [],
   "source": [
    "#display the top 10 product id, name and similarity_score \n",
    "final_recommendations = pd.DataFrame({'product_id': recommendations.index, 'similarity_score' : recommendations})\n",
    "final_recommendations.reset_index(drop=True)\n",
    "pd.merge(final_recommendations, reviewsData, on=\"id\")[[\"id\", \"name\", \"similarity_score\"]].drop_duplicates()"
   ]
  },
  {
   "cell_type": "markdown",
   "metadata": {
    "editable": false
   },
   "source": [
    "### Evaluation user-user\n",
    "\n",
    "Evaluation will be same as you have seen above for the prediction. The only difference being, you will evaluate for the product already rated by the user insead of predicting it for the product not rated by the user."
   ]
  },
  {
   "cell_type": "code",
   "execution_count": 132,
   "metadata": {
    "editable": false,
    "execution": {
     "iopub.execute_input": "2022-07-19T03:05:33.777609Z",
     "iopub.status.busy": "2022-07-19T03:05:33.777056Z",
     "iopub.status.idle": "2022-07-19T03:05:33.782451Z",
     "shell.execute_reply": "2022-07-19T03:05:33.781605Z",
     "shell.execute_reply.started": "2022-07-19T03:05:33.777577Z"
    }
   },
   "outputs": [],
   "source": [
    "print(test.shape)"
   ]
  },
  {
   "cell_type": "code",
   "execution_count": 133,
   "metadata": {
    "editable": false,
    "execution": {
     "iopub.execute_input": "2022-07-19T03:05:33.784721Z",
     "iopub.status.busy": "2022-07-19T03:05:33.784061Z",
     "iopub.status.idle": "2022-07-19T03:05:33.800310Z",
     "shell.execute_reply": "2022-07-19T03:05:33.799162Z",
     "shell.execute_reply.started": "2022-07-19T03:05:33.784690Z"
    }
   },
   "outputs": [],
   "source": [
    "## Find out the common users of test and train dataset.\n",
    "common = test[test.reviews_username.isin(train.reviews_username)]\n",
    "common.shape"
   ]
  },
  {
   "cell_type": "code",
   "execution_count": 134,
   "metadata": {
    "editable": false,
    "execution": {
     "iopub.execute_input": "2022-07-19T03:05:33.802724Z",
     "iopub.status.busy": "2022-07-19T03:05:33.801483Z",
     "iopub.status.idle": "2022-07-19T03:05:33.813536Z",
     "shell.execute_reply": "2022-07-19T03:05:33.812306Z",
     "shell.execute_reply.started": "2022-07-19T03:05:33.802679Z"
    }
   },
   "outputs": [],
   "source": [
    "common.head()"
   ]
  },
  {
   "cell_type": "code",
   "execution_count": 135,
   "metadata": {
    "editable": false,
    "execution": {
     "iopub.execute_input": "2022-07-19T03:05:33.815399Z",
     "iopub.status.busy": "2022-07-19T03:05:33.814958Z",
     "iopub.status.idle": "2022-07-19T03:05:33.879002Z",
     "shell.execute_reply": "2022-07-19T03:05:33.877815Z",
     "shell.execute_reply.started": "2022-07-19T03:05:33.815366Z"
    }
   },
   "outputs": [],
   "source": [
    "# convert into the user-movie matrix.\n",
    "common_user_based_matrix = common.pivot_table(index='reviews_username', columns='id', values='reviews_rating')\n",
    "common_user_based_matrix.head(5)"
   ]
  },
  {
   "cell_type": "code",
   "execution_count": 136,
   "metadata": {
    "editable": false,
    "execution": {
     "iopub.execute_input": "2022-07-19T03:05:33.880847Z",
     "iopub.status.busy": "2022-07-19T03:05:33.880491Z",
     "iopub.status.idle": "2022-07-19T03:05:33.885466Z",
     "shell.execute_reply": "2022-07-19T03:05:33.884712Z",
     "shell.execute_reply.started": "2022-07-19T03:05:33.880816Z"
    }
   },
   "outputs": [],
   "source": [
    "print(common_user_based_matrix.shape)"
   ]
  },
  {
   "cell_type": "code",
   "execution_count": 137,
   "metadata": {
    "editable": false,
    "execution": {
     "iopub.execute_input": "2022-07-19T03:05:33.887704Z",
     "iopub.status.busy": "2022-07-19T03:05:33.886743Z",
     "iopub.status.idle": "2022-07-19T03:05:33.948960Z",
     "shell.execute_reply": "2022-07-19T03:05:33.947748Z",
     "shell.execute_reply.started": "2022-07-19T03:05:33.887638Z"
    }
   },
   "outputs": [],
   "source": [
    "#Now you need to filter out the correlation of only those users that are common in both test and train datasets. To do this, you need to first convert the ‘user_correlation’ matrix into a dataframe\n",
    "user_correlation_adcs_df = pd.DataFrame(user_correlation_adcs)\n",
    "user_correlation_adcs_df.head()"
   ]
  },
  {
   "cell_type": "code",
   "execution_count": 138,
   "metadata": {
    "editable": false,
    "execution": {
     "iopub.execute_input": "2022-07-19T03:05:33.950732Z",
     "iopub.status.busy": "2022-07-19T03:05:33.950371Z",
     "iopub.status.idle": "2022-07-19T03:05:33.958577Z",
     "shell.execute_reply": "2022-07-19T03:05:33.957648Z",
     "shell.execute_reply.started": "2022-07-19T03:05:33.950697Z"
    }
   },
   "outputs": [],
   "source": [
    "recommData_adpv_subtracted.index"
   ]
  },
  {
   "cell_type": "code",
   "execution_count": 139,
   "metadata": {
    "editable": false,
    "execution": {
     "iopub.execute_input": "2022-07-19T03:05:33.960418Z",
     "iopub.status.busy": "2022-07-19T03:05:33.959899Z",
     "iopub.status.idle": "2022-07-19T03:05:34.029985Z",
     "shell.execute_reply": "2022-07-19T03:05:34.028774Z",
     "shell.execute_reply.started": "2022-07-19T03:05:33.960384Z"
    }
   },
   "outputs": [],
   "source": [
    "#set userid as index\n",
    "user_correlation_adcs_df['userId'] = recommData_adpv_subtracted.index\n",
    "user_correlation_adcs_df.set_index('userId',inplace=True)\n",
    "user_correlation_adcs_df.head()"
   ]
  },
  {
   "cell_type": "code",
   "execution_count": 140,
   "metadata": {
    "editable": false,
    "execution": {
     "iopub.execute_input": "2022-07-19T03:05:34.032899Z",
     "iopub.status.busy": "2022-07-19T03:05:34.031949Z",
     "iopub.status.idle": "2022-07-19T03:05:34.038177Z",
     "shell.execute_reply": "2022-07-19T03:05:34.037313Z",
     "shell.execute_reply.started": "2022-07-19T03:05:34.032861Z"
    }
   },
   "outputs": [],
   "source": [
    "print(user_correlation_adcs_df.shape)"
   ]
  },
  {
   "cell_type": "code",
   "execution_count": 141,
   "metadata": {
    "editable": false,
    "execution": {
     "iopub.execute_input": "2022-07-19T03:05:34.040201Z",
     "iopub.status.busy": "2022-07-19T03:05:34.039317Z",
     "iopub.status.idle": "2022-07-19T03:05:34.132327Z",
     "shell.execute_reply": "2022-07-19T03:05:34.131040Z",
     "shell.execute_reply.started": "2022-07-19T03:05:34.040154Z"
    }
   },
   "outputs": [],
   "source": [
    "#filter out the correlation of only those users that are common in both test and train datasets\n",
    "list_name = common.reviews_username.to_list()\n",
    "user_correlation_adcs_df.columns = recommData_adpv_subtracted.index.tolist()\n",
    "user_correlation_adcs_df_1 =  user_correlation_adcs_df[user_correlation_adcs_df.index.isin(list_name)]\n"
   ]
  },
  {
   "cell_type": "code",
   "execution_count": 142,
   "metadata": {
    "editable": false,
    "execution": {
     "iopub.execute_input": "2022-07-19T03:05:34.135478Z",
     "iopub.status.busy": "2022-07-19T03:05:34.134410Z",
     "iopub.status.idle": "2022-07-19T03:05:34.139884Z",
     "shell.execute_reply": "2022-07-19T03:05:34.139007Z",
     "shell.execute_reply.started": "2022-07-19T03:05:34.135439Z"
    }
   },
   "outputs": [],
   "source": [
    "print(user_correlation_adcs_df_1.shape)"
   ]
  },
  {
   "cell_type": "code",
   "execution_count": 143,
   "metadata": {
    "editable": false,
    "execution": {
     "iopub.execute_input": "2022-07-19T03:05:34.142125Z",
     "iopub.status.busy": "2022-07-19T03:05:34.141092Z",
     "iopub.status.idle": "2022-07-19T03:05:34.208641Z",
     "shell.execute_reply": "2022-07-19T03:05:34.207464Z",
     "shell.execute_reply.started": "2022-07-19T03:05:34.142088Z"
    }
   },
   "outputs": [],
   "source": [
    "user_correlation_adcs_df_1.head(5)"
   ]
  },
  {
   "cell_type": "code",
   "execution_count": 144,
   "metadata": {
    "editable": false,
    "execution": {
     "iopub.execute_input": "2022-07-19T03:05:34.211502Z",
     "iopub.status.busy": "2022-07-19T03:05:34.210462Z",
     "iopub.status.idle": "2022-07-19T03:05:34.251591Z",
     "shell.execute_reply": "2022-07-19T03:05:34.250239Z",
     "shell.execute_reply.started": "2022-07-19T03:05:34.211463Z"
    }
   },
   "outputs": [],
   "source": [
    "user_correlation_adcs_df_2 = user_correlation_adcs_df_1.T[user_correlation_adcs_df_1.T.index.isin(list_name)]\n",
    "user_correlation_adcs_df_3 = user_correlation_adcs_df_2.T\n",
    "print(user_correlation_adcs_df_3.shape)"
   ]
  },
  {
   "cell_type": "code",
   "execution_count": 145,
   "metadata": {
    "editable": false,
    "execution": {
     "iopub.execute_input": "2022-07-19T03:05:34.253408Z",
     "iopub.status.busy": "2022-07-19T03:05:34.253062Z",
     "iopub.status.idle": "2022-07-19T03:05:34.304758Z",
     "shell.execute_reply": "2022-07-19T03:05:34.303681Z",
     "shell.execute_reply.started": "2022-07-19T03:05:34.253377Z"
    }
   },
   "outputs": [],
   "source": [
    "user_correlation_adcs_df_3.head(3)"
   ]
  },
  {
   "cell_type": "code",
   "execution_count": 146,
   "metadata": {
    "editable": false,
    "execution": {
     "iopub.execute_input": "2022-07-19T03:05:34.306727Z",
     "iopub.status.busy": "2022-07-19T03:05:34.306153Z",
     "iopub.status.idle": "2022-07-19T03:05:34.357879Z",
     "shell.execute_reply": "2022-07-19T03:05:34.356649Z",
     "shell.execute_reply.started": "2022-07-19T03:05:34.306694Z"
    }
   },
   "outputs": [],
   "source": [
    "#replace correlation < 0\n",
    "user_correlation_adcs_df_3[user_correlation_adcs_df_3<0]  = 0\n",
    "common_user_predicted_ratings = np.dot(user_correlation_adcs_df_3, common_user_based_matrix.fillna(0))\n",
    "common_user_predicted_ratings"
   ]
  },
  {
   "cell_type": "code",
   "execution_count": 147,
   "metadata": {
    "editable": false,
    "execution": {
     "iopub.execute_input": "2022-07-19T03:05:34.360428Z",
     "iopub.status.busy": "2022-07-19T03:05:34.359714Z",
     "iopub.status.idle": "2022-07-19T03:05:34.514287Z",
     "shell.execute_reply": "2022-07-19T03:05:34.512945Z",
     "shell.execute_reply.started": "2022-07-19T03:05:34.360381Z"
    }
   },
   "outputs": [],
   "source": [
    "dummy_test = common.copy()\n",
    "dummy_test['reviews_rating'] = dummy_test['reviews_rating'].swifter.apply(lambda x: 1 if x>=1 else 0)\n",
    "dummy_test_pv = dummy_test.pivot_table(index='reviews_username', columns='id', values='reviews_rating').fillna(0)\n",
    "dummy_test_pv.head(5)"
   ]
  },
  {
   "cell_type": "code",
   "execution_count": 148,
   "metadata": {
    "editable": false,
    "execution": {
     "iopub.execute_input": "2022-07-19T03:05:34.516218Z",
     "iopub.status.busy": "2022-07-19T03:05:34.515884Z",
     "iopub.status.idle": "2022-07-19T03:05:34.521317Z",
     "shell.execute_reply": "2022-07-19T03:05:34.520171Z",
     "shell.execute_reply.started": "2022-07-19T03:05:34.516187Z"
    }
   },
   "outputs": [],
   "source": [
    "print(dummy_test_pv.shape)"
   ]
  },
  {
   "cell_type": "code",
   "execution_count": 149,
   "metadata": {
    "editable": false,
    "execution": {
     "iopub.execute_input": "2022-07-19T03:05:34.523276Z",
     "iopub.status.busy": "2022-07-19T03:05:34.522885Z",
     "iopub.status.idle": "2022-07-19T03:05:34.587264Z",
     "shell.execute_reply": "2022-07-19T03:05:34.585982Z",
     "shell.execute_reply.started": "2022-07-19T03:05:34.523240Z"
    }
   },
   "outputs": [],
   "source": [
    "common_user_predicted_ratings = np.multiply(common_user_predicted_ratings,dummy_test_pv)\n",
    "common_user_predicted_ratings.head()"
   ]
  },
  {
   "cell_type": "markdown",
   "metadata": {
    "editable": false
   },
   "source": [
    "### Calculating the RMSE for only the products rated by user. For RMSE, normalising the rating to (1,5) range."
   ]
  },
  {
   "cell_type": "code",
   "execution_count": 150,
   "metadata": {
    "editable": false,
    "execution": {
     "iopub.execute_input": "2022-07-19T03:05:34.590611Z",
     "iopub.status.busy": "2022-07-19T03:05:34.589565Z",
     "iopub.status.idle": "2022-07-19T03:05:34.614710Z",
     "shell.execute_reply": "2022-07-19T03:05:34.613821Z",
     "shell.execute_reply.started": "2022-07-19T03:05:34.590562Z"
    }
   },
   "outputs": [],
   "source": [
    "from sklearn.preprocessing import MinMaxScaler\n",
    "from numpy import *\n",
    "\n",
    "X  = common_user_predicted_ratings.copy() \n",
    "X = X[X>0]\n",
    "\n",
    "scaler = MinMaxScaler(feature_range=(1, 5))\n",
    "print(scaler.fit(X))\n",
    "y = (scaler.transform(X))\n",
    "print(y)"
   ]
  },
  {
   "cell_type": "code",
   "execution_count": 151,
   "metadata": {
    "editable": false,
    "execution": {
     "iopub.execute_input": "2022-07-19T03:05:34.616510Z",
     "iopub.status.busy": "2022-07-19T03:05:34.616202Z",
     "iopub.status.idle": "2022-07-19T03:05:34.644963Z",
     "shell.execute_reply": "2022-07-19T03:05:34.643667Z",
     "shell.execute_reply.started": "2022-07-19T03:05:34.616482Z"
    }
   },
   "outputs": [],
   "source": [
    "common_ = common.pivot_table(index='reviews_username', columns='id', values='reviews_rating')\n",
    "# Finding total non-NaN value\n",
    "total_non_nan = np.count_nonzero(~np.isnan(y))\n",
    "rmse = (sum(sum((common_ - y )**2))/total_non_nan)**0.5\n",
    "print(rmse)"
   ]
  },
  {
   "cell_type": "markdown",
   "metadata": {
    "editable": false
   },
   "source": [
    "## Item- Item based similarity"
   ]
  },
  {
   "cell_type": "code",
   "execution_count": 152,
   "metadata": {
    "editable": false,
    "execution": {
     "iopub.execute_input": "2022-07-19T03:05:34.647306Z",
     "iopub.status.busy": "2022-07-19T03:05:34.646574Z",
     "iopub.status.idle": "2022-07-19T03:05:34.845357Z",
     "shell.execute_reply": "2022-07-19T03:05:34.844057Z",
     "shell.execute_reply.started": "2022-07-19T03:05:34.647255Z"
    }
   },
   "outputs": [],
   "source": [
    "#item based matrix is nothing but transpose of rating matrix\n",
    "recommData_i2_adpv = train.pivot_table(index ='reviews_username',columns='id',values='reviews_rating').T\n",
    "recommData_i2_adpv.head(10)"
   ]
  },
  {
   "cell_type": "code",
   "execution_count": 153,
   "metadata": {
    "editable": false,
    "execution": {
     "iopub.execute_input": "2022-07-19T03:05:34.848919Z",
     "iopub.status.busy": "2022-07-19T03:05:34.848424Z",
     "iopub.status.idle": "2022-07-19T03:05:34.855875Z",
     "shell.execute_reply": "2022-07-19T03:05:34.854727Z",
     "shell.execute_reply.started": "2022-07-19T03:05:34.848872Z"
    }
   },
   "outputs": [],
   "source": [
    "recommData_i2_adpv.shape"
   ]
  },
  {
   "cell_type": "markdown",
   "metadata": {
    "editable": false
   },
   "source": [
    "### **Normalising the product rating for each product for using the Adujsted Cosine**"
   ]
  },
  {
   "cell_type": "code",
   "execution_count": 154,
   "metadata": {
    "editable": false,
    "execution": {
     "iopub.execute_input": "2022-07-19T03:05:34.858323Z",
     "iopub.status.busy": "2022-07-19T03:05:34.857514Z",
     "iopub.status.idle": "2022-07-19T03:05:34.920288Z",
     "shell.execute_reply": "2022-07-19T03:05:34.919063Z",
     "shell.execute_reply.started": "2022-07-19T03:05:34.858279Z"
    }
   },
   "outputs": [],
   "source": [
    "mean = np.nanmean(recommData_i2_adpv, axis=1)\n",
    "recommData_i2_adpv_substracted = (recommData_i2_adpv.T-mean).T"
   ]
  },
  {
   "cell_type": "code",
   "execution_count": 155,
   "metadata": {
    "editable": false,
    "execution": {
     "iopub.execute_input": "2022-07-19T03:05:34.922170Z",
     "iopub.status.busy": "2022-07-19T03:05:34.921798Z",
     "iopub.status.idle": "2022-07-19T03:05:35.033074Z",
     "shell.execute_reply": "2022-07-19T03:05:35.031641Z",
     "shell.execute_reply.started": "2022-07-19T03:05:34.922135Z"
    }
   },
   "outputs": [],
   "source": [
    "#Finding the cosine similarity using cosine similarity function\n",
    "# Item Similarity Matrix\n",
    "item_correlation_adcs = cosine_similarity(recommData_i2_adpv_substracted.fillna(0))\n",
    "item_correlation_adcs[np.isnan(item_correlation_adcs)] = 0\n",
    "print(item_correlation_adcs.shape)\n",
    "print()\n",
    "print(item_correlation_adcs)\n"
   ]
  },
  {
   "cell_type": "code",
   "execution_count": 156,
   "metadata": {
    "editable": false,
    "execution": {
     "iopub.execute_input": "2022-07-19T03:05:35.039453Z",
     "iopub.status.busy": "2022-07-19T03:05:35.038598Z",
     "iopub.status.idle": "2022-07-19T03:05:35.050099Z",
     "shell.execute_reply": "2022-07-19T03:05:35.048866Z",
     "shell.execute_reply.started": "2022-07-19T03:05:35.039394Z"
    }
   },
   "outputs": [],
   "source": [
    "#Filtering the correlation only for which the value is greater than 0. (Positively correlated)\n",
    "item_correlation_adcs[item_correlation_adcs<0]=0\n",
    "item_correlation_adcs"
   ]
  },
  {
   "cell_type": "markdown",
   "metadata": {
    "editable": false
   },
   "source": [
    "### **Precition item-item**"
   ]
  },
  {
   "cell_type": "code",
   "execution_count": 157,
   "metadata": {
    "editable": false,
    "execution": {
     "iopub.execute_input": "2022-07-19T03:05:35.052366Z",
     "iopub.status.busy": "2022-07-19T03:05:35.051720Z",
     "iopub.status.idle": "2022-07-19T03:05:35.059339Z",
     "shell.execute_reply": "2022-07-19T03:05:35.058173Z",
     "shell.execute_reply.started": "2022-07-19T03:05:35.052333Z"
    }
   },
   "outputs": [],
   "source": [
    "print(item_correlation_adcs.shape)\n",
    "print(recommData_i2_adpv.shape)"
   ]
  },
  {
   "cell_type": "code",
   "execution_count": 158,
   "metadata": {
    "editable": false,
    "execution": {
     "iopub.execute_input": "2022-07-19T03:05:35.062208Z",
     "iopub.status.busy": "2022-07-19T03:05:35.061240Z",
     "iopub.status.idle": "2022-07-19T03:05:35.199536Z",
     "shell.execute_reply": "2022-07-19T03:05:35.198199Z",
     "shell.execute_reply.started": "2022-07-19T03:05:35.062155Z"
    }
   },
   "outputs": [],
   "source": [
    "item_predicted_ratings = np.dot((recommData_i2_adpv.fillna(0).T),item_correlation_adcs)\n",
    "item_predicted_ratings"
   ]
  },
  {
   "cell_type": "code",
   "execution_count": 159,
   "metadata": {
    "editable": false,
    "execution": {
     "iopub.execute_input": "2022-07-19T03:05:35.202651Z",
     "iopub.status.busy": "2022-07-19T03:05:35.201846Z",
     "iopub.status.idle": "2022-07-19T03:05:35.209405Z",
     "shell.execute_reply": "2022-07-19T03:05:35.208231Z",
     "shell.execute_reply.started": "2022-07-19T03:05:35.202597Z"
    }
   },
   "outputs": [],
   "source": [
    "print(item_predicted_ratings.shape)\n",
    "print(dummy_train_pv.shape)"
   ]
  },
  {
   "cell_type": "code",
   "execution_count": 160,
   "metadata": {
    "editable": false,
    "execution": {
     "iopub.execute_input": "2022-07-19T03:05:35.212198Z",
     "iopub.status.busy": "2022-07-19T03:05:35.211416Z",
     "iopub.status.idle": "2022-07-19T03:05:35.353908Z",
     "shell.execute_reply": "2022-07-19T03:05:35.352688Z",
     "shell.execute_reply.started": "2022-07-19T03:05:35.212149Z"
    }
   },
   "outputs": [],
   "source": [
    "#Filtering the rating only for the products not rated by the user for recommendation\n",
    "item_final_rating = np.multiply(item_predicted_ratings,dummy_train_pv)\n",
    "item_final_rating.head()"
   ]
  },
  {
   "cell_type": "code",
   "execution_count": 161,
   "metadata": {
    "editable": false,
    "execution": {
     "iopub.execute_input": "2022-07-19T03:05:35.356261Z",
     "iopub.status.busy": "2022-07-19T03:05:35.355690Z",
     "iopub.status.idle": "2022-07-19T03:05:35.465500Z",
     "shell.execute_reply": "2022-07-19T03:05:35.463971Z",
     "shell.execute_reply.started": "2022-07-19T03:05:35.356227Z"
    }
   },
   "outputs": [],
   "source": [
    "save_object(item_final_rating,'item_item_based_recommendations')"
   ]
  },
  {
   "cell_type": "markdown",
   "metadata": {
    "editable": false
   },
   "source": [
    "### Finding top 10 recommendation for the user"
   ]
  },
  {
   "cell_type": "code",
   "execution_count": 162,
   "metadata": {
    "editable": false,
    "execution": {
     "iopub.execute_input": "2022-07-19T03:05:35.467367Z",
     "iopub.status.busy": "2022-07-19T03:05:35.466995Z",
     "iopub.status.idle": "2022-07-19T03:05:35.477642Z",
     "shell.execute_reply": "2022-07-19T03:05:35.476445Z",
     "shell.execute_reply.started": "2022-07-19T03:05:35.467332Z"
    }
   },
   "outputs": [],
   "source": [
    "userId = '00sab00'\n",
    "recommendations_ = item_final_rating.loc[userId].sort_values(ascending=False)[0:10]\n",
    "recommendations_"
   ]
  },
  {
   "cell_type": "code",
   "execution_count": 163,
   "metadata": {
    "editable": false,
    "execution": {
     "iopub.execute_input": "2022-07-19T03:05:35.480878Z",
     "iopub.status.busy": "2022-07-19T03:05:35.480024Z",
     "iopub.status.idle": "2022-07-19T03:05:35.511739Z",
     "shell.execute_reply": "2022-07-19T03:05:35.510645Z",
     "shell.execute_reply.started": "2022-07-19T03:05:35.480827Z"
    }
   },
   "outputs": [],
   "source": [
    "#display the top 10 product id, name and similarity_score \n",
    "final_recommendations = pd.DataFrame({'product_id': recommendations_.index, 'similarity_score' : recommendations_})\n",
    "final_recommendations.reset_index(drop=True)\n",
    "pd.merge(final_recommendations, reviewsData, on=\"id\")[[\"id\", \"name\", \"similarity_score\"]].drop_duplicates()"
   ]
  },
  {
   "cell_type": "markdown",
   "metadata": {
    "editable": false
   },
   "source": [
    "### Evaluation Item-Item "
   ]
  },
  {
   "cell_type": "code",
   "execution_count": 164,
   "metadata": {
    "editable": false,
    "execution": {
     "iopub.execute_input": "2022-07-19T03:05:35.513503Z",
     "iopub.status.busy": "2022-07-19T03:05:35.513067Z",
     "iopub.status.idle": "2022-07-19T03:05:35.521203Z",
     "shell.execute_reply": "2022-07-19T03:05:35.520043Z",
     "shell.execute_reply.started": "2022-07-19T03:05:35.513461Z"
    }
   },
   "outputs": [],
   "source": [
    "test.columns"
   ]
  },
  {
   "cell_type": "code",
   "execution_count": 165,
   "metadata": {
    "editable": false,
    "execution": {
     "iopub.execute_input": "2022-07-19T03:05:35.523880Z",
     "iopub.status.busy": "2022-07-19T03:05:35.522970Z",
     "iopub.status.idle": "2022-07-19T03:05:35.532673Z",
     "shell.execute_reply": "2022-07-19T03:05:35.531330Z",
     "shell.execute_reply.started": "2022-07-19T03:05:35.523833Z"
    }
   },
   "outputs": [],
   "source": [
    "print(test.shape)"
   ]
  },
  {
   "cell_type": "code",
   "execution_count": 166,
   "metadata": {
    "editable": false,
    "execution": {
     "iopub.execute_input": "2022-07-19T03:05:35.535396Z",
     "iopub.status.busy": "2022-07-19T03:05:35.534622Z",
     "iopub.status.idle": "2022-07-19T03:05:35.548482Z",
     "shell.execute_reply": "2022-07-19T03:05:35.547257Z",
     "shell.execute_reply.started": "2022-07-19T03:05:35.535347Z"
    }
   },
   "outputs": [],
   "source": [
    "common_ = test[test.id.isin(train.id)]\n",
    "common_.shape"
   ]
  },
  {
   "cell_type": "code",
   "execution_count": 167,
   "metadata": {
    "editable": false,
    "execution": {
     "iopub.execute_input": "2022-07-19T03:05:35.550865Z",
     "iopub.status.busy": "2022-07-19T03:05:35.550102Z",
     "iopub.status.idle": "2022-07-19T03:05:35.565434Z",
     "shell.execute_reply": "2022-07-19T03:05:35.564375Z",
     "shell.execute_reply.started": "2022-07-19T03:05:35.550820Z"
    }
   },
   "outputs": [],
   "source": [
    "common_.head(5)"
   ]
  },
  {
   "cell_type": "code",
   "execution_count": 168,
   "metadata": {
    "editable": false,
    "execution": {
     "iopub.execute_input": "2022-07-19T03:05:35.567792Z",
     "iopub.status.busy": "2022-07-19T03:05:35.566928Z",
     "iopub.status.idle": "2022-07-19T03:05:35.662750Z",
     "shell.execute_reply": "2022-07-19T03:05:35.661473Z",
     "shell.execute_reply.started": "2022-07-19T03:05:35.567747Z"
    }
   },
   "outputs": [],
   "source": [
    "common_item_based_matrix = common_.pivot_table(index='reviews_username',columns='id',values='reviews_rating').T\n",
    "common_item_based_matrix.head(5)"
   ]
  },
  {
   "cell_type": "code",
   "execution_count": 169,
   "metadata": {
    "editable": false,
    "execution": {
     "iopub.execute_input": "2022-07-19T03:05:35.664867Z",
     "iopub.status.busy": "2022-07-19T03:05:35.664398Z",
     "iopub.status.idle": "2022-07-19T03:05:35.670610Z",
     "shell.execute_reply": "2022-07-19T03:05:35.669647Z",
     "shell.execute_reply.started": "2022-07-19T03:05:35.664818Z"
    }
   },
   "outputs": [],
   "source": [
    "print(common_item_based_matrix.shape)"
   ]
  },
  {
   "cell_type": "code",
   "execution_count": 170,
   "metadata": {
    "editable": false,
    "execution": {
     "iopub.execute_input": "2022-07-19T03:05:35.672799Z",
     "iopub.status.busy": "2022-07-19T03:05:35.671672Z",
     "iopub.status.idle": "2022-07-19T03:05:35.681868Z",
     "shell.execute_reply": "2022-07-19T03:05:35.680507Z",
     "shell.execute_reply.started": "2022-07-19T03:05:35.672750Z"
    }
   },
   "outputs": [],
   "source": [
    "item_correlation_df = pd.DataFrame(item_correlation_adcs)\n",
    "print(item_correlation_df.shape)"
   ]
  },
  {
   "cell_type": "code",
   "execution_count": 171,
   "metadata": {
    "editable": false,
    "execution": {
     "iopub.execute_input": "2022-07-19T03:05:35.684731Z",
     "iopub.status.busy": "2022-07-19T03:05:35.683460Z",
     "iopub.status.idle": "2022-07-19T03:05:35.742752Z",
     "shell.execute_reply": "2022-07-19T03:05:35.741554Z",
     "shell.execute_reply.started": "2022-07-19T03:05:35.684674Z"
    }
   },
   "outputs": [],
   "source": [
    "item_correlation_df.head(5)"
   ]
  },
  {
   "cell_type": "code",
   "execution_count": 172,
   "metadata": {
    "editable": false,
    "execution": {
     "iopub.execute_input": "2022-07-19T03:05:35.744619Z",
     "iopub.status.busy": "2022-07-19T03:05:35.744263Z",
     "iopub.status.idle": "2022-07-19T03:05:35.802865Z",
     "shell.execute_reply": "2022-07-19T03:05:35.801681Z",
     "shell.execute_reply.started": "2022-07-19T03:05:35.744586Z"
    }
   },
   "outputs": [],
   "source": [
    "item_correlation_df['id'] = recommData_i2_adpv_substracted.index\n",
    "item_correlation_df.set_index('id',inplace=True)\n",
    "item_correlation_df.head()"
   ]
  },
  {
   "cell_type": "code",
   "execution_count": 173,
   "metadata": {
    "editable": false,
    "execution": {
     "iopub.execute_input": "2022-07-19T03:05:35.805307Z",
     "iopub.status.busy": "2022-07-19T03:05:35.804559Z",
     "iopub.status.idle": "2022-07-19T03:05:35.818381Z",
     "shell.execute_reply": "2022-07-19T03:05:35.817365Z",
     "shell.execute_reply.started": "2022-07-19T03:05:35.805260Z"
    }
   },
   "outputs": [],
   "source": [
    "#filter out the correlation of only those ids that are common in both test and train datasets\n",
    "list_name = common_.id.to_list()\n",
    "item_correlation_df.columns = recommData_i2_adpv_substracted.index.tolist()\n",
    "item_correlation_df_1 =  item_correlation_df[item_correlation_df.index.isin(list_name)]\n",
    "print(item_correlation_df.shape)\n",
    "item_correlation_adcs_df_2 = item_correlation_df_1.T[item_correlation_df_1.T.index.isin(list_name)]\n",
    "item_correlation_adcs_df_3 = item_correlation_adcs_df_2.T\n",
    "print(item_correlation_adcs_df_3.shape)"
   ]
  },
  {
   "cell_type": "code",
   "execution_count": 174,
   "metadata": {
    "editable": false,
    "execution": {
     "iopub.execute_input": "2022-07-19T03:05:35.821298Z",
     "iopub.status.busy": "2022-07-19T03:05:35.819803Z",
     "iopub.status.idle": "2022-07-19T03:05:35.827788Z",
     "shell.execute_reply": "2022-07-19T03:05:35.826586Z",
     "shell.execute_reply.started": "2022-07-19T03:05:35.821249Z"
    }
   },
   "outputs": [],
   "source": [
    "print(common_item_based_matrix.shape)"
   ]
  },
  {
   "cell_type": "code",
   "execution_count": 175,
   "metadata": {
    "editable": false,
    "execution": {
     "iopub.execute_input": "2022-07-19T03:05:35.831380Z",
     "iopub.status.busy": "2022-07-19T03:05:35.830451Z",
     "iopub.status.idle": "2022-07-19T03:05:35.867900Z",
     "shell.execute_reply": "2022-07-19T03:05:35.866906Z",
     "shell.execute_reply.started": "2022-07-19T03:05:35.831348Z"
    }
   },
   "outputs": [],
   "source": [
    "#replace correlation < 0\n",
    "item_correlation_adcs_df_3[item_correlation_adcs_df_3<0]=0\n",
    "common_item_predicted_ratings = np.dot(item_correlation_adcs_df_3, common_item_based_matrix.fillna(0))\n",
    "print(common_item_predicted_ratings.shape)"
   ]
  },
  {
   "cell_type": "markdown",
   "metadata": {
    "editable": false
   },
   "source": [
    "#### Dummy test will be used for evaluation. To evaluate, we will only make prediction on the products rated by the user. So, this is marked as 1. This is just opposite of dummy_train"
   ]
  },
  {
   "cell_type": "code",
   "execution_count": 176,
   "metadata": {
    "editable": false,
    "execution": {
     "iopub.execute_input": "2022-07-19T03:05:35.870579Z",
     "iopub.status.busy": "2022-07-19T03:05:35.870034Z",
     "iopub.status.idle": "2022-07-19T03:05:36.049429Z",
     "shell.execute_reply": "2022-07-19T03:05:36.048144Z",
     "shell.execute_reply.started": "2022-07-19T03:05:35.870544Z"
    }
   },
   "outputs": [],
   "source": [
    "dummy_test = common_.copy()\n",
    "\n",
    "#The products not rated is marked as 0 for evaluation. And make the item- item matrix representaion.\n",
    "dummy_test['reviews_rating'] = dummy_test['reviews_rating'].apply(lambda x: 1 if x>=1 else 0)\n",
    "\n",
    "dummy_test_pv = dummy_test.pivot_table(index='reviews_username', columns='id', values='reviews_rating').T.fillna(0)\n",
    "\n",
    "common_item_predicted_ratings = np.multiply(common_item_predicted_ratings,dummy_test_pv)\n",
    "print(common_item_predicted_ratings.shape)\n",
    "common_item_predicted_ratings.head(3)"
   ]
  },
  {
   "cell_type": "markdown",
   "metadata": {
    "editable": false
   },
   "source": [
    "### Calculate RMSE"
   ]
  },
  {
   "cell_type": "code",
   "execution_count": 177,
   "metadata": {
    "editable": false,
    "execution": {
     "iopub.execute_input": "2022-07-19T03:05:36.051104Z",
     "iopub.status.busy": "2022-07-19T03:05:36.050767Z",
     "iopub.status.idle": "2022-07-19T03:05:36.222848Z",
     "shell.execute_reply": "2022-07-19T03:05:36.221643Z",
     "shell.execute_reply.started": "2022-07-19T03:05:36.051075Z"
    }
   },
   "outputs": [],
   "source": [
    "X  = common_item_predicted_ratings.copy() \n",
    "X = X[X>0]\n",
    "\n",
    "scaler = MinMaxScaler(feature_range=(1, 5))\n",
    "print(scaler.fit(X))\n",
    "y = (scaler.transform(X))\n",
    "\n",
    "print(y)"
   ]
  },
  {
   "cell_type": "code",
   "execution_count": 178,
   "metadata": {
    "editable": false,
    "execution": {
     "iopub.execute_input": "2022-07-19T03:05:36.226181Z",
     "iopub.status.busy": "2022-07-19T03:05:36.225747Z",
     "iopub.status.idle": "2022-07-19T03:05:36.321248Z",
     "shell.execute_reply": "2022-07-19T03:05:36.320016Z",
     "shell.execute_reply.started": "2022-07-19T03:05:36.226146Z"
    }
   },
   "outputs": [],
   "source": [
    "common_pv = common_.pivot_table(index='reviews_username',columns='id',values='reviews_rating').T\n",
    "common_pv.head(5)"
   ]
  },
  {
   "cell_type": "code",
   "execution_count": 179,
   "metadata": {
    "editable": false,
    "execution": {
     "iopub.execute_input": "2022-07-19T03:05:36.322863Z",
     "iopub.status.busy": "2022-07-19T03:05:36.322531Z",
     "iopub.status.idle": "2022-07-19T03:05:36.369024Z",
     "shell.execute_reply": "2022-07-19T03:05:36.367708Z",
     "shell.execute_reply.started": "2022-07-19T03:05:36.322835Z"
    }
   },
   "outputs": [],
   "source": [
    "# Finding total non-NaN value\n",
    "total_non_nan = np.count_nonzero(~np.isnan(y))\n",
    "rmse = (sum(sum((common_pv - y )**2))/total_non_nan)**0.5\n",
    "print(rmse)"
   ]
  },
  {
   "cell_type": "markdown",
   "metadata": {
    "editable": false
   },
   "source": [
    "## We can see that RMSE for user-user based recommendation system is low as compare to item-item based recommendation system. We should use user-user based recommendation system."
   ]
  },
  {
   "cell_type": "markdown",
   "metadata": {
    "editable": false,
    "execution": {
     "iopub.execute_input": "2022-07-18T11:50:33.743233Z",
     "iopub.status.busy": "2022-07-18T11:50:33.742789Z",
     "iopub.status.idle": "2022-07-18T11:50:33.749179Z",
     "shell.execute_reply": "2022-07-18T11:50:33.747916Z",
     "shell.execute_reply.started": "2022-07-18T11:50:33.743200Z"
    }
   },
   "source": [
    "# 7. Tuning of recommendation model"
   ]
  },
  {
   "cell_type": "markdown",
   "metadata": {
    "editable": false
   },
   "source": [
    "### top 20 recommendations and filteration by sentiment model"
   ]
  },
  {
   "cell_type": "code",
   "execution_count": 180,
   "metadata": {
    "editable": false,
    "execution": {
     "iopub.execute_input": "2022-07-19T03:05:36.370833Z",
     "iopub.status.busy": "2022-07-19T03:05:36.370499Z",
     "iopub.status.idle": "2022-07-19T03:05:36.384618Z",
     "shell.execute_reply": "2022-07-19T03:05:36.383499Z",
     "shell.execute_reply.started": "2022-07-19T03:05:36.370803Z"
    }
   },
   "outputs": [],
   "source": [
    "#userId = '08dallas'\n",
    "userId = '00sab00'\n",
    "recommendations  = user_final_rating.loc[userId].sort_values(ascending=False)[0:20]\n",
    "recommendations = pd.DataFrame({'id': recommendations.index, 'similarity_score' : recommendations})\n",
    "recommendations = recommendations.reset_index(drop=True)\n",
    "recommendations"
   ]
  },
  {
   "cell_type": "code",
   "execution_count": 181,
   "metadata": {
    "editable": false,
    "execution": {
     "iopub.execute_input": "2022-07-19T03:05:36.386266Z",
     "iopub.status.busy": "2022-07-19T03:05:36.385949Z",
     "iopub.status.idle": "2022-07-19T03:05:37.076624Z",
     "shell.execute_reply": "2022-07-19T03:05:37.075474Z",
     "shell.execute_reply.started": "2022-07-19T03:05:36.386237Z"
    }
   },
   "outputs": [],
   "source": [
    "temp = reviewsData[reviewsData.id.isin(list(recommendations.id))]\n",
    "X= tfIdf.transform(temp.finalReviews.values.astype(str))\n",
    "temp['predicted_sentiment'] = xgb_model_hpt.predict(X)\n",
    "temp.head(10)"
   ]
  },
  {
   "cell_type": "code",
   "execution_count": 182,
   "metadata": {
    "editable": false,
    "execution": {
     "iopub.execute_input": "2022-07-19T03:05:37.078492Z",
     "iopub.status.busy": "2022-07-19T03:05:37.078125Z",
     "iopub.status.idle": "2022-07-19T03:05:37.237944Z",
     "shell.execute_reply": "2022-07-19T03:05:37.236728Z",
     "shell.execute_reply.started": "2022-07-19T03:05:37.078459Z"
    }
   },
   "outputs": [],
   "source": [
    "df = pd.merge(recommendations, temp, on=\"id\").drop_duplicates()\n",
    "temp = df.drop(columns=['id','reviews_username','reviewsText','finalReviews','similarity_score'])\n",
    "df_grouped  = temp.groupby('name', as_index=False).count()\n",
    "df_grouped['similarity_score'] = df_grouped.name.apply(lambda x: df[(df.name==x) & (df['predicted_sentiment']==1)][\"similarity_score\"].median())\n",
    "df_grouped[\"pos_review_count\"] = df_grouped.name.apply(lambda x: df[(df.name==x) & (df['predicted_sentiment']==1)][\"predicted_sentiment\"].count())\n",
    "df_grouped[\"total_review_count\"] = df_grouped['predicted_sentiment']\n",
    "df_grouped['pos_sentiment_percent'] = np.round(df_grouped[\"pos_review_count\"]/df_grouped[\"total_review_count\"]*100,2)\n",
    "df_grouped.sort_values('pos_sentiment_percent', ascending=False)"
   ]
  },
  {
   "cell_type": "code",
   "execution_count": 183,
   "metadata": {
    "editable": false,
    "execution": {
     "iopub.execute_input": "2022-07-19T03:05:37.241608Z",
     "iopub.status.busy": "2022-07-19T03:05:37.241262Z",
     "iopub.status.idle": "2022-07-19T03:05:37.257810Z",
     "shell.execute_reply": "2022-07-19T03:05:37.256948Z",
     "shell.execute_reply.started": "2022-07-19T03:05:37.241578Z"
    }
   },
   "outputs": [],
   "source": [
    "X_sample = tfIdf.transform([\"FInest Product\"])\n",
    "y_pred_sample = xgb_model_hpt.predict(X_sample)\n",
    "y_pred_sample"
   ]
  },
  {
   "cell_type": "code",
   "execution_count": 184,
   "metadata": {
    "editable": false,
    "execution": {
     "iopub.execute_input": "2022-07-19T03:05:37.259829Z",
     "iopub.status.busy": "2022-07-19T03:05:37.259478Z",
     "iopub.status.idle": "2022-07-19T03:05:37.274025Z",
     "shell.execute_reply": "2022-07-19T03:05:37.273195Z",
     "shell.execute_reply.started": "2022-07-19T03:05:37.259797Z"
    }
   },
   "outputs": [],
   "source": [
    "X_sample = tfIdf.transform([\"Bad content,not worth buying\"])\n",
    "y_pred_sample = xgb_model_hpt.predict(X_sample)\n",
    "y_pred_sample"
   ]
  },
  {
   "cell_type": "code",
   "execution_count": 185,
   "metadata": {
    "editable": false,
    "execution": {
     "iopub.execute_input": "2022-07-19T03:05:37.276122Z",
     "iopub.status.busy": "2022-07-19T03:05:37.275500Z",
     "iopub.status.idle": "2022-07-19T03:05:37.331319Z",
     "shell.execute_reply": "2022-07-19T03:05:37.330298Z",
     "shell.execute_reply.started": "2022-07-19T03:05:37.276078Z"
    }
   },
   "outputs": [],
   "source": [
    "df_grouped.name.apply(lambda x: df[(df.name==x) & (df['predicted_sentiment']==1)][\"similarity_score\"].median())"
   ]
  },
  {
   "cell_type": "code",
   "execution_count": null,
   "metadata": {
    "editable": false
   },
   "outputs": [],
   "source": []
  }
 ],
 "metadata": {
  "kernelspec": {
   "display_name": "Python 3",
   "language": "python",
   "name": "python3"
  },
  "language_info": {
   "codemirror_mode": {
    "name": "ipython",
    "version": 3
   },
   "file_extension": ".py",
   "mimetype": "text/x-python",
   "name": "python",
   "nbconvert_exporter": "python",
   "pygments_lexer": "ipython3",
   "version": "3.8.8"
  }
 },
 "nbformat": 4,
 "nbformat_minor": 4
}
